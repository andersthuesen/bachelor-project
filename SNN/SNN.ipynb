{
 "cells": [
  {
   "cell_type": "code",
   "execution_count": 2,
   "id": "07db191b",
   "metadata": {},
   "outputs": [],
   "source": [
    "import torch\n",
    "import torch.nn as nn\n",
    "from torch.optim import Adam, SGD\n",
    "import torch.nn.functional as F\n",
    "from torch.utils.data import DataLoader\n",
    "import torchvision\n",
    "from torchvision.transforms import ToTensor, Compose, Normalize\n",
    "from torchvision.transforms.functional import to_tensor, to_pil_image\n",
    "import matplotlib.pyplot as plt\n",
    "from torchvision.datasets import MNIST\n",
    "from tqdm import tqdm"
   ]
  },
  {
   "cell_type": "code",
   "execution_count": 3,
   "id": "6f0be144",
   "metadata": {},
   "outputs": [],
   "source": [
    "def normalize(image):\n",
    "  return image\n",
    "\n",
    "\n",
    "def resize(image):\n",
    "  im = torch.zeros(1, 32, 32)\n",
    "  im[:, 2:30, 2:30] = image\n",
    "  return im"
   ]
  },
  {
   "cell_type": "code",
   "execution_count": 4,
   "id": "5ce7b8e6",
   "metadata": {},
   "outputs": [
    {
     "name": "stdout",
     "output_type": "stream",
     "text": [
      "Downloading http://yann.lecun.com/exdb/mnist/train-images-idx3-ubyte.gz\n",
      "Downloading http://yann.lecun.com/exdb/mnist/train-images-idx3-ubyte.gz to data/MNIST/raw/train-images-idx3-ubyte.gz\n"
     ]
    },
    {
     "name": "stderr",
     "output_type": "stream",
     "text": [
      "9913344it [00:00, 19177604.68it/s]                             \n"
     ]
    },
    {
     "name": "stdout",
     "output_type": "stream",
     "text": [
      "Extracting data/MNIST/raw/train-images-idx3-ubyte.gz to data/MNIST/raw\n",
      "\n",
      "Downloading http://yann.lecun.com/exdb/mnist/train-labels-idx1-ubyte.gz\n",
      "Downloading http://yann.lecun.com/exdb/mnist/train-labels-idx1-ubyte.gz to data/MNIST/raw/train-labels-idx1-ubyte.gz\n"
     ]
    },
    {
     "name": "stderr",
     "output_type": "stream",
     "text": [
      "29696it [00:00, 17347360.94it/s]         \n"
     ]
    },
    {
     "name": "stdout",
     "output_type": "stream",
     "text": [
      "Extracting data/MNIST/raw/train-labels-idx1-ubyte.gz to data/MNIST/raw\n",
      "\n",
      "Downloading http://yann.lecun.com/exdb/mnist/t10k-images-idx3-ubyte.gz\n",
      "Downloading http://yann.lecun.com/exdb/mnist/t10k-images-idx3-ubyte.gz to data/MNIST/raw/t10k-images-idx3-ubyte.gz\n"
     ]
    },
    {
     "name": "stderr",
     "output_type": "stream",
     "text": [
      "1649664it [00:00, 17352641.61it/s]         \n"
     ]
    },
    {
     "name": "stdout",
     "output_type": "stream",
     "text": [
      "Extracting data/MNIST/raw/t10k-images-idx3-ubyte.gz to data/MNIST/raw\n",
      "\n",
      "Downloading http://yann.lecun.com/exdb/mnist/t10k-labels-idx1-ubyte.gz\n",
      "Downloading http://yann.lecun.com/exdb/mnist/t10k-labels-idx1-ubyte.gz to data/MNIST/raw/t10k-labels-idx1-ubyte.gz\n"
     ]
    },
    {
     "name": "stderr",
     "output_type": "stream",
     "text": [
      "5120it [00:00, 28786644.08it/s]         "
     ]
    },
    {
     "name": "stdout",
     "output_type": "stream",
     "text": [
      "Extracting data/MNIST/raw/t10k-labels-idx1-ubyte.gz to data/MNIST/raw\n",
      "\n"
     ]
    },
    {
     "name": "stderr",
     "output_type": "stream",
     "text": [
      "\n",
      "/opt/homebrew/Caskroom/miniforge/base/envs/bachelor-project/lib/python3.9/site-packages/torchvision/datasets/mnist.py:498: UserWarning: The given NumPy array is not writeable, and PyTorch does not support non-writeable tensors. This means you can write to the underlying (supposedly non-writeable) NumPy array using the tensor. You may want to copy the array to protect its data or make it writeable before converting it to a tensor. This type of warning will be suppressed for the rest of this program. (Triggered internally at  /Users/runner/miniforge3/conda-bld/pytorch-recipe_1635217266490/work/torch/csrc/utils/tensor_numpy.cpp:189.)\n",
      "  return torch.from_numpy(parsed.astype(m[2], copy=False)).view(*s)\n"
     ]
    }
   ],
   "source": [
    "train_dataset = MNIST(root=\"data\", download=True, transform=Compose([ToTensor(), normalize, resize]))\n",
    "test_dataset = MNIST(root=\"data\", download=True, train=False, transform=Compose([ToTensor(), normalize, resize]))\n",
    "train_data = DataLoader(train_dataset, batch_size=32)\n",
    "test_data = DataLoader(test_dataset, batch_size=32)"
   ]
  },
  {
   "cell_type": "code",
   "execution_count": 5,
   "id": "ea4e8fc8",
   "metadata": {},
   "outputs": [],
   "source": [
    "image, label = train_dataset[10]"
   ]
  },
  {
   "cell_type": "code",
   "execution_count": 6,
   "id": "54372761",
   "metadata": {},
   "outputs": [
    {
     "data": {
      "image/png": "[encoded data removed]",
      "text/plain": [
       "<Figure size 432x288 with 1 Axes>"
      ]
     },
     "metadata": {
      "needs_background": "light"
     },
     "output_type": "display_data"
    }
   ],
   "source": [
    "plt.imshow(image.numpy()[0], cmap=\"gray\", vmin=0, vmax=1)\n",
    "plt.show()"
   ]
  },
  {
   "cell_type": "markdown",
   "id": "1def41db",
   "metadata": {},
   "source": [
    "# Defining spiking dynamics"
   ]
  },
  {
   "cell_type": "code",
   "execution_count": 120,
   "id": "54ce8dee",
   "metadata": {},
   "outputs": [],
   "source": [
    "# Membrane time constant\n",
    "T_RC = 0.02\n",
    "T_REF = 4e-3\n",
    "V_TH = 1.0\n",
    "\n",
    "def rate(x, p=torch.relu, t_rc = 0.02, t_ref = 4e-3, V_th = 1.0):\n",
    "  return torch.reciprocal(t_ref + t_rc * torch.log(1 + V_th / (p(x - V_th) + 1e-12)))\n",
    "\n",
    "def soft_rate(x, t_rc = 0.02, t_ref = 4e-3, V_th = 1.0):\n",
    "  return rate(x, p=lambda x: torch.nn.functional.softplus(x, beta=200), t_rc=t_rc, t_ref=t_ref, V_th=V_th)"
   ]
  },
  {
   "cell_type": "code",
   "execution_count": 121,
   "id": "bd31db6b",
   "metadata": {},
   "outputs": [
    {
     "data": {
      "text/plain": [
       "tensor(1.7966)"
      ]
     },
     "execution_count": 121,
     "metadata": {},
     "output_type": "execute_result"
    }
   ],
   "source": [
    "soft_rate(torch.tensor(0.0))"
   ]
  },
  {
   "cell_type": "code",
   "execution_count": 122,
   "id": "98774866",
   "metadata": {},
   "outputs": [
    {
     "data": {
      "image/png": "[encoded data removed]",
      "text/plain": [
       "<Figure size 432x288 with 1 Axes>"
      ]
     },
     "metadata": {
      "needs_background": "light"
     },
     "output_type": "display_data"
    }
   ],
   "source": [
    "\n",
    "x = torch.linspace(0.75, 1.25, 100)\n",
    "y = rate(x)\n",
    "plt.plot(x, y)\n",
    "plt.show()"
   ]
  },
  {
   "cell_type": "code",
   "execution_count": 123,
   "id": "664b21d4",
   "metadata": {},
   "outputs": [
    {
     "data": {
      "image/png": "[encoded data removed]",
      "text/plain": [
       "<Figure size 432x288 with 1 Axes>"
      ]
     },
     "metadata": {
      "needs_background": "light"
     },
     "output_type": "display_data"
    }
   ],
   "source": [
    "x = torch.linspace(0., 1.25, 100)\n",
    "x = torch.linspace(0.6, 1.4, 1000)\n",
    "y = soft_rate(x)\n",
    "y2 = rate(x)\n",
    "plt.plot(x, y)\n",
    "plt.plot(x, y2)\n",
    "plt.show()"
   ]
  },
  {
   "cell_type": "code",
   "execution_count": 507,
   "id": "87f95f89",
   "metadata": {},
   "outputs": [],
   "source": [
    "import math\n",
    "# Use this a activation function\n",
    "class SoftSpikeRate(nn.Module):\n",
    "  def __init__(self, t_rc=0.02, t_ref=4e-3, V_th=1.0):\n",
    "    super(SoftSpikeRate, self).__init__()\n",
    "    self.t_rc = torch.tensor(t_rc)\n",
    "    self.t_ref = torch.tensor(t_ref)\n",
    "    self.V_th = torch.tensor(V_th)\n",
    "  \n",
    "  def forward(self, X):\n",
    "    return soft_rate(X, t_rc=self.t_rc, t_ref=self.t_ref, V_th=self.V_th)\n",
    "  \n",
    "\n",
    "class SpikeLayer(nn.Module):\n",
    "  def __init__(self, in_features, out_features, t_rc=0.02, t_ref=4e-3, V_th=1.0, bound=1.0):\n",
    "    super(SpikeLayer, self).__init__()\n",
    "    # Initialize our weights\n",
    "    self.A = nn.Parameter(torch.empty(in_features, out_features))\n",
    "    self.b = nn.Parameter(torch.empty(out_features))\n",
    "    self.t_rc = torch.tensor(t_rc)\n",
    "    self.t_ref = torch.tensor(t_ref)\n",
    "    self.V_th = torch.tensor(V_th)\n",
    "\n",
    "    with torch.no_grad():\n",
    "      nn.init.normal_(self.A)\n",
    "\n",
    "  def forward(self, X):\n",
    "    return soft_rate(X @ self.A, t_rc=self.t_rc, t_ref=self.t_ref, V_th=self.V_th) * self.t_rc\n",
    "\n",
    "  \n",
    "class SpikingLinear(nn.Module):\n",
    "  def __init__(self, in_features, out_features, t_rc=0.02, t_ref=4e-3, V_th=1.0, bound=1.0):\n",
    "    super(SpikingLinear, self).__init__()\n",
    "    # Initialize our weights\n",
    "    self.weight = nn.Parameter(torch.empty(in_features, out_features))\n",
    "    self.b = nn.Parameter(torch.zeros(out_features))\n",
    "    self.t_rc = torch.tensor(t_rc)\n",
    "    self.t_ref = torch.tensor(t_ref)\n",
    "    self.V_th = torch.tensor(V_th)\n",
    "\n",
    "    with torch.no_grad():\n",
    "      n = in_features\n",
    "      g = 2 * self.t_ref\n",
    "      nn.init.normal_(self.weight, mean=10 * g / n, std=0.1 * g / math.sqrt(n))\n",
    "      #bound = math.sqrt(3/n)\n",
    "      #nn.init.uniform_(self.weight, a=-bound, b=bound)\n",
    "\n",
    "  def forward(self, X):\n",
    "    return soft_rate(X @ self.weight + self.b, t_rc=self.t_rc, t_ref=self.t_ref, V_th=self.V_th)\n",
    "\n",
    "\n",
    "class SpikingConv2d(nn.Conv2d):\n",
    "  def __init__(self, in_channels, out_channels, kernel_size, *args, t_rc=0.02, t_ref=4e-3, V_th=1.0, bound=1.0, **kwargs):\n",
    "    super().__init__(in_channels, out_channels, kernel_size, *args, **kwargs)\n",
    "    self.t_rc = torch.tensor(t_rc)\n",
    "    self.t_ref = torch.tensor(t_ref)\n",
    "    self.V_th = torch.tensor(V_th)\n",
    "\n",
    "    # with torch.no_grad():\n",
    "    #   n = in_channels * kernel_size * kernel_size\n",
    "    #   g = 2 * self.t_ref\n",
    "    #   nn.init.normal_(self.weight, mean=1 * g / n, std=0.1 * g / math.sqrt(n))\n",
    "    #   #bound = math.sqrt(3/n)\n",
    "    #   #nn.init.uniform_(self.weight, a=-bound, b=bound)\n",
    "    \n",
    "  def forward(self, X):\n",
    "    return soft_rate(super().forward(X), t_rc=self.t_rc, t_ref=self.t_ref, V_th=self.V_th)\n",
    "    \n",
    "\"\"\"\n",
    "class SpikingCNN(nn.Module):\n",
    "  def __init__(self) -> None:\n",
    "    super(SpikingCNN, self).__init__()\n",
    "    self.model = nn.Sequential(\n",
    "      SpikingConv2d(1, 64, 3),\n",
    "      SpikingConv2d(64, 64, 3),\n",
    "      nn.AvgPool2d(2, stride=2),\n",
    "      #nn.BatchNorm2d(64),\n",
    "      SpikingConv2d(64, 128, 3),\n",
    "      SpikingConv2d(128, 128, 3),\n",
    "      nn.AvgPool2d(2, stride=2),\n",
    "      #nn.BatchNorm2d(128),\n",
    "      SpikingConv2d(128, 256, 3),\n",
    "      nn.AvgPool2d(2, stride=2),\n",
    "      nn.Flatten(start_dim=1),\n",
    "      #nn.BatchNorm1d(256),\n",
    "      SpikingLinear(256, 10),\n",
    "      nn.Softmax(dim=1)\n",
    "    )\n",
    "\n",
    "  def forward(self, X):\n",
    "    return self.model(X * 250)\n",
    "\"\"\"\n",
    "\n",
    "class BaselineDense(nn.Module):\n",
    "  def __init__(self, in_features, out_features):\n",
    "    super(BaselineDense, self).__init__()\n",
    "\n",
    "    self.model = nn.Sequential(\n",
    "      nn.Linear(in_features, 2048),\n",
    "      nn.ReLU(),\n",
    "      nn.Linear(2048, 1024),\n",
    "      nn.ReLU(),\n",
    "      nn.Linear(1024, 512),\n",
    "      nn.ReLU(),\n",
    "      nn.Linear(512, out_features)\n",
    "    )\n",
    "  \n",
    "  def forward(self, X):\n",
    "    return F.softmax(self.model(X), dim=1)\n",
    "\n",
    "\n",
    "class SpikingDense(nn.Module):\n",
    "  def __init__(self, in_features, out_features):\n",
    "    super(SpikingDense, self).__init__()\n",
    "\n",
    "    self.model = nn.Sequential(\n",
    "      nn.Linear(in_features, 2048),\n",
    "      SoftSpikeRate(),\n",
    "      nn.Linear(2048, 1024),\n",
    "      SoftSpikeRate(),\n",
    "      nn.Linear(1024, 512),\n",
    "      SoftSpikeRate(),\n",
    "      nn.Linear(512, out_features),\n",
    "      SoftSpikeRate()\n",
    "    )\n",
    "  \n",
    "  def forward(self, X):\n",
    "    return F.softmax(self.model(X * 250), dim=1)\n",
    "\n",
    "    \n",
    "class BaselineCNN(nn.Module):\n",
    "  def __init__(self) -> None:\n",
    "    super(BaselineCNN, self).__init__()\n",
    "    self.model = nn.Sequential(\n",
    "      nn.Conv2d(1, 64, 3),\n",
    "      nn.ReLU(),\n",
    "      nn.Conv2d(64, 64, 3),\n",
    "      nn.ReLU(),\n",
    "      nn.MaxPool2d(2, stride=2),\n",
    "      nn.BatchNorm2d(64),\n",
    "      nn.Conv2d(64, 128, 3),\n",
    "      nn.ReLU(),\n",
    "      nn.Conv2d(128, 128, 3),\n",
    "      nn.ReLU(),\n",
    "      nn.MaxPool2d(2, stride=2),\n",
    "      nn.BatchNorm2d(128),\n",
    "      nn.Conv2d(128, 256, 3),\n",
    "      nn.ReLU(),\n",
    "      nn.MaxPool2d(2, stride=2),\n",
    "      nn.Flatten(start_dim=1),\n",
    "      nn.BatchNorm1d(256),\n",
    "      nn.Linear(256, 10),\n",
    "      nn.Softmax(dim=1)\n",
    "    )\n",
    "\n",
    "  def forward(self, X):\n",
    "    return self.model(X)\n",
    "\n",
    "class SpikingCNN(nn.Module):\n",
    "  def __init__(self) -> None:\n",
    "    super(SpikingCNN, self).__init__()\n",
    "    self.model = nn.Sequential(\n",
    "      nn.Conv2d(1, 64, 3),\n",
    "      SoftSpikeRate(),\n",
    "      nn.Conv2d(64, 64, 3),\n",
    "      SoftSpikeRate(),\n",
    "      nn.MaxPool2d(2, stride=2),\n",
    "      #nn.BatchNorm2d(64),\n",
    "      nn.Conv2d(64, 128, 3),\n",
    "      SoftSpikeRate(),\n",
    "      nn.Conv2d(128, 128, 3),\n",
    "      SoftSpikeRate(),\n",
    "      nn.MaxPool2d(2, stride=2),\n",
    "      #nn.BatchNorm2d(128),\n",
    "      nn.Conv2d(128, 256, 3),\n",
    "      SoftSpikeRate(),\n",
    "      nn.MaxPool2d(2, stride=2),\n",
    "      nn.Flatten(start_dim=1),\n",
    "      #nn.BatchNorm1d(256),\n",
    "      nn.Linear(256, 10),\n",
    "      SoftSpikeRate()\n",
    "    )\n",
    "\n",
    "  def forward(self, X):\n",
    "    return F.softmax(self.model(X * 250), dim=1) "
   ]
  },
  {
   "cell_type": "code",
   "execution_count": 508,
   "id": "bd0291e8",
   "metadata": {},
   "outputs": [
    {
     "data": {
      "text/plain": [
       "<torch.autograd.anomaly_mode.set_detect_anomaly at 0x1362fdca0>"
      ]
     },
     "execution_count": 508,
     "metadata": {},
     "output_type": "execute_result"
    }
   ],
   "source": [
    "torch.autograd.set_detect_anomaly(True)"
   ]
  },
  {
   "cell_type": "code",
   "execution_count": 509,
   "id": "a314ee63",
   "metadata": {},
   "outputs": [
    {
     "name": "stdout",
     "output_type": "stream",
     "text": [
      "cpu\n"
     ]
    }
   ],
   "source": [
    "device = torch.device(\"cuda\" if torch.cuda.is_available() else \"cpu\")\n",
    "print(device)"
   ]
  },
  {
   "cell_type": "code",
   "execution_count": 510,
   "id": "6f2c8f5c",
   "metadata": {},
   "outputs": [
    {
     "name": "stderr",
     "output_type": "stream",
     "text": [
      "/var/folders/vs/ylfhyw117z1g5xvn55z8jr3c0000gp/T/ipykernel_33076/1922405191.py:20: UserWarning: Matplotlib is currently using module://matplotlib_inline.backend_inline, which is a non-GUI backend, so cannot show the figure.\n",
      "  fig.show()\n"
     ]
    },
    {
     "data": {
      "image/png": "[encoded data removed]",
      "text/plain": [
       "<Figure size 1440x720 with 6 Axes>"
      ]
     },
     "metadata": {
      "needs_background": "light"
     },
     "output_type": "display_data"
    }
   ],
   "source": [
    "# Explore weight initialization.\n",
    "nrows = 2\n",
    "ncols = 3\n",
    "fig, axs = plt.subplots(nrows, ncols, figsize=(20, 10))\n",
    "\n",
    "for i, n in enumerate([100, 200, 500, 1000, 2000, 5000]):\n",
    "  a = torch.rand(n) * 250\n",
    "  mean = 2 * 2/250/n\n",
    "  std = 0.1 * 2/250/math.sqrt(n)\n",
    "  w = torch.randn(n, n) * std + mean\n",
    "  o = a @ w\n",
    "\n",
    "  ax = axs[i // ncols, i % ncols]\n",
    "\n",
    "  ax.set_title(f\"Mean: {o.mean():.02f}, std: {o.std():.02f}\")\n",
    "  ax.hist(o.numpy(), bins=30, density=True)\n",
    "  #xs = torch.linspace(0.7, 1.3, 1000)\n",
    "  #ax.plot(xs, soft_rate(xs))\n",
    "\n",
    "fig.show()"
   ]
  },
  {
   "cell_type": "code",
   "execution_count": 511,
   "id": "b852961a",
   "metadata": {},
   "outputs": [
    {
     "name": "stdout",
     "output_type": "stream",
     "text": [
      "tensor(0.1757, grad_fn=<StdBackward0>) tensor(0.0040, grad_fn=<MeanBackward0>) tensor(-0.5400, grad_fn=<MinBackward1>) tensor(0.5723, grad_fn=<MaxBackward1>)\n",
      "tensor(0., grad_fn=<StdBackward0>) tensor(1.7966, grad_fn=<MeanBackward0>) tensor(1.7966, grad_fn=<MinBackward1>) tensor(1.7966, grad_fn=<MaxBackward1>)\n",
      "tensor(1.0228, grad_fn=<StdBackward0>) tensor(0.0176, grad_fn=<MeanBackward0>) tensor(-2.8978, grad_fn=<MinBackward1>) tensor(3.8758, grad_fn=<MaxBackward1>)\n",
      "tensor(15.4013, grad_fn=<StdBackward0>) tensor(7.9959, grad_fn=<MeanBackward0>) tensor(1.7966, grad_fn=<MinBackward1>) tensor(100.3166, grad_fn=<MaxBackward1>)\n"
     ]
    }
   ],
   "source": [
    "image, label = train_dataset[0]\n",
    "image = image.flatten()\n",
    "\n",
    "test_model = SpikingDense(32*32, 10)\n",
    "out1 = test_model.model[0](image[None, :])\n",
    "print(out1.std(), out1.mean(), out1.min(), out1.max())\n",
    "out2 = test_model.model[1](out1)\n",
    "print(out2.std(), out2.mean(), out2.min(), out2.max())\n",
    "out3 = test_model.model[2](out2)\n",
    "print(out3.std(), out3.mean(), out3.min(), out3.max())\n",
    "out4 = test_model.model[3](out3)\n",
    "print(out4.std(), out4.mean(), out4.min(), out4.max())\n",
    "\n",
    "#plt.hist(out1.detach().numpy(), bins=30)\n",
    "#plt.show()"
   ]
  },
  {
   "cell_type": "code",
   "execution_count": 516,
   "id": "6910916b",
   "metadata": {},
   "outputs": [],
   "source": [
    "model = SpikingDense(in_features=32*32, out_features=10).to(device)\n",
    "#model = BaselineDense(in_features=32*32, out_features=10).to(device)\n",
    "optimizer = SGD(model.parameters(), lr=1e-4)\n",
    "criterion = nn.CrossEntropyLoss()"
   ]
  },
  {
   "cell_type": "code",
   "execution_count": 517,
   "id": "5438de54",
   "metadata": {},
   "outputs": [],
   "source": [
    "loss_history = []\n",
    "num_epochs = 1"
   ]
  },
  {
   "cell_type": "code",
   "execution_count": 518,
   "id": "3f7eddfc",
   "metadata": {},
   "outputs": [
    {
     "name": "stderr",
     "output_type": "stream",
     "text": [
      "Training - Epoch: 1, Loss: 2.0301: 100%|██████████| 1875/1875 [01:22<00:00, 22.61it/s]\n",
      "Testing...:   0%|          | 0/313 [00:00<?, ?it/s]\n"
     ]
    },
    {
     "ename": "RuntimeError",
     "evalue": "mat1 and mat2 shapes cannot be multiplied (1024x32 and 1024x2048)",
     "output_type": "error",
     "traceback": [
      "\u001b[0;31m---------------------------------------------------------------------------\u001b[0m",
      "\u001b[0;31mRuntimeError\u001b[0m                              Traceback (most recent call last)",
      "\u001b[0;32m/var/folders/vs/ylfhyw117z1g5xvn55z8jr3c0000gp/T/ipykernel_33076/4001332675.py\u001b[0m in \u001b[0;36m<module>\u001b[0;34m\u001b[0m\n\u001b[1;32m     23\u001b[0m   \u001b[0;32mfor\u001b[0m \u001b[0;34m(\u001b[0m\u001b[0mimages\u001b[0m\u001b[0;34m,\u001b[0m \u001b[0mlabels\u001b[0m\u001b[0;34m)\u001b[0m \u001b[0;32min\u001b[0m \u001b[0mtest_data_tqdm\u001b[0m\u001b[0;34m:\u001b[0m\u001b[0;34m\u001b[0m\u001b[0;34m\u001b[0m\u001b[0m\n\u001b[1;32m     24\u001b[0m     \u001b[0mimages\u001b[0m\u001b[0;34m,\u001b[0m \u001b[0mlabels\u001b[0m \u001b[0;34m=\u001b[0m \u001b[0mimages\u001b[0m\u001b[0;34m.\u001b[0m\u001b[0mto\u001b[0m\u001b[0;34m(\u001b[0m\u001b[0mdevice\u001b[0m\u001b[0;34m)\u001b[0m\u001b[0;34m,\u001b[0m \u001b[0mlabels\u001b[0m\u001b[0;34m.\u001b[0m\u001b[0mto\u001b[0m\u001b[0;34m(\u001b[0m\u001b[0mdevice\u001b[0m\u001b[0;34m)\u001b[0m\u001b[0;34m\u001b[0m\u001b[0;34m\u001b[0m\u001b[0m\n\u001b[0;32m---> 25\u001b[0;31m     \u001b[0mpred_labels\u001b[0m \u001b[0;34m=\u001b[0m \u001b[0mmodel\u001b[0m\u001b[0;34m(\u001b[0m\u001b[0mimages\u001b[0m\u001b[0;34m)\u001b[0m\u001b[0;34m.\u001b[0m\u001b[0margmax\u001b[0m\u001b[0;34m(\u001b[0m\u001b[0mdim\u001b[0m\u001b[0;34m=\u001b[0m\u001b[0;36m1\u001b[0m\u001b[0;34m)\u001b[0m\u001b[0;34m\u001b[0m\u001b[0;34m\u001b[0m\u001b[0m\n\u001b[0m\u001b[1;32m     26\u001b[0m     \u001b[0mnum_correct\u001b[0m \u001b[0;34m+=\u001b[0m \u001b[0mtorch\u001b[0m\u001b[0;34m.\u001b[0m\u001b[0msum\u001b[0m\u001b[0;34m(\u001b[0m\u001b[0mpred_labels\u001b[0m \u001b[0;34m==\u001b[0m \u001b[0mlabels\u001b[0m\u001b[0;34m)\u001b[0m\u001b[0;34m.\u001b[0m\u001b[0mitem\u001b[0m\u001b[0;34m(\u001b[0m\u001b[0;34m)\u001b[0m\u001b[0;34m\u001b[0m\u001b[0;34m\u001b[0m\u001b[0m\n\u001b[1;32m     27\u001b[0m \u001b[0;34m\u001b[0m\u001b[0m\n",
      "\u001b[0;32m/opt/homebrew/Caskroom/miniforge/base/envs/bachelor-project/lib/python3.9/site-packages/torch/nn/modules/module.py\u001b[0m in \u001b[0;36m_call_impl\u001b[0;34m(self, *input, **kwargs)\u001b[0m\n\u001b[1;32m   1100\u001b[0m         if not (self._backward_hooks or self._forward_hooks or self._forward_pre_hooks or _global_backward_hooks\n\u001b[1;32m   1101\u001b[0m                 or _global_forward_hooks or _global_forward_pre_hooks):\n\u001b[0;32m-> 1102\u001b[0;31m             \u001b[0;32mreturn\u001b[0m \u001b[0mforward_call\u001b[0m\u001b[0;34m(\u001b[0m\u001b[0;34m*\u001b[0m\u001b[0minput\u001b[0m\u001b[0;34m,\u001b[0m \u001b[0;34m**\u001b[0m\u001b[0mkwargs\u001b[0m\u001b[0;34m)\u001b[0m\u001b[0;34m\u001b[0m\u001b[0;34m\u001b[0m\u001b[0m\n\u001b[0m\u001b[1;32m   1103\u001b[0m         \u001b[0;31m# Do not call functions when jit is used\u001b[0m\u001b[0;34m\u001b[0m\u001b[0;34m\u001b[0m\u001b[0m\n\u001b[1;32m   1104\u001b[0m         \u001b[0mfull_backward_hooks\u001b[0m\u001b[0;34m,\u001b[0m \u001b[0mnon_full_backward_hooks\u001b[0m \u001b[0;34m=\u001b[0m \u001b[0;34m[\u001b[0m\u001b[0;34m]\u001b[0m\u001b[0;34m,\u001b[0m \u001b[0;34m[\u001b[0m\u001b[0;34m]\u001b[0m\u001b[0;34m\u001b[0m\u001b[0;34m\u001b[0m\u001b[0m\n",
      "\u001b[0;32m/var/folders/vs/ylfhyw117z1g5xvn55z8jr3c0000gp/T/ipykernel_33076/1592903266.py\u001b[0m in \u001b[0;36mforward\u001b[0;34m(self, X)\u001b[0m\n\u001b[1;32m    138\u001b[0m \u001b[0;34m\u001b[0m\u001b[0m\n\u001b[1;32m    139\u001b[0m   \u001b[0;32mdef\u001b[0m \u001b[0mforward\u001b[0m\u001b[0;34m(\u001b[0m\u001b[0mself\u001b[0m\u001b[0;34m,\u001b[0m \u001b[0mX\u001b[0m\u001b[0;34m)\u001b[0m\u001b[0;34m:\u001b[0m\u001b[0;34m\u001b[0m\u001b[0;34m\u001b[0m\u001b[0m\n\u001b[0;32m--> 140\u001b[0;31m     \u001b[0;32mreturn\u001b[0m \u001b[0mF\u001b[0m\u001b[0;34m.\u001b[0m\u001b[0msoftmax\u001b[0m\u001b[0;34m(\u001b[0m\u001b[0mself\u001b[0m\u001b[0;34m.\u001b[0m\u001b[0mmodel\u001b[0m\u001b[0;34m(\u001b[0m\u001b[0mX\u001b[0m \u001b[0;34m*\u001b[0m \u001b[0;36m250\u001b[0m\u001b[0;34m)\u001b[0m\u001b[0;34m,\u001b[0m \u001b[0mdim\u001b[0m\u001b[0;34m=\u001b[0m\u001b[0;36m1\u001b[0m\u001b[0;34m)\u001b[0m\u001b[0;34m\u001b[0m\u001b[0;34m\u001b[0m\u001b[0m\n\u001b[0m\u001b[1;32m    141\u001b[0m \u001b[0;34m\u001b[0m\u001b[0m\n\u001b[1;32m    142\u001b[0m \u001b[0;31m# class SpikingDense(nn.Module):\u001b[0m\u001b[0;34m\u001b[0m\u001b[0;34m\u001b[0m\u001b[0m\n",
      "\u001b[0;32m/opt/homebrew/Caskroom/miniforge/base/envs/bachelor-project/lib/python3.9/site-packages/torch/nn/modules/module.py\u001b[0m in \u001b[0;36m_call_impl\u001b[0;34m(self, *input, **kwargs)\u001b[0m\n\u001b[1;32m   1100\u001b[0m         if not (self._backward_hooks or self._forward_hooks or self._forward_pre_hooks or _global_backward_hooks\n\u001b[1;32m   1101\u001b[0m                 or _global_forward_hooks or _global_forward_pre_hooks):\n\u001b[0;32m-> 1102\u001b[0;31m             \u001b[0;32mreturn\u001b[0m \u001b[0mforward_call\u001b[0m\u001b[0;34m(\u001b[0m\u001b[0;34m*\u001b[0m\u001b[0minput\u001b[0m\u001b[0;34m,\u001b[0m \u001b[0;34m**\u001b[0m\u001b[0mkwargs\u001b[0m\u001b[0;34m)\u001b[0m\u001b[0;34m\u001b[0m\u001b[0;34m\u001b[0m\u001b[0m\n\u001b[0m\u001b[1;32m   1103\u001b[0m         \u001b[0;31m# Do not call functions when jit is used\u001b[0m\u001b[0;34m\u001b[0m\u001b[0;34m\u001b[0m\u001b[0m\n\u001b[1;32m   1104\u001b[0m         \u001b[0mfull_backward_hooks\u001b[0m\u001b[0;34m,\u001b[0m \u001b[0mnon_full_backward_hooks\u001b[0m \u001b[0;34m=\u001b[0m \u001b[0;34m[\u001b[0m\u001b[0;34m]\u001b[0m\u001b[0;34m,\u001b[0m \u001b[0;34m[\u001b[0m\u001b[0;34m]\u001b[0m\u001b[0;34m\u001b[0m\u001b[0;34m\u001b[0m\u001b[0m\n",
      "\u001b[0;32m/opt/homebrew/Caskroom/miniforge/base/envs/bachelor-project/lib/python3.9/site-packages/torch/nn/modules/container.py\u001b[0m in \u001b[0;36mforward\u001b[0;34m(self, input)\u001b[0m\n\u001b[1;32m    139\u001b[0m     \u001b[0;32mdef\u001b[0m \u001b[0mforward\u001b[0m\u001b[0;34m(\u001b[0m\u001b[0mself\u001b[0m\u001b[0;34m,\u001b[0m \u001b[0minput\u001b[0m\u001b[0;34m)\u001b[0m\u001b[0;34m:\u001b[0m\u001b[0;34m\u001b[0m\u001b[0;34m\u001b[0m\u001b[0m\n\u001b[1;32m    140\u001b[0m         \u001b[0;32mfor\u001b[0m \u001b[0mmodule\u001b[0m \u001b[0;32min\u001b[0m \u001b[0mself\u001b[0m\u001b[0;34m:\u001b[0m\u001b[0;34m\u001b[0m\u001b[0;34m\u001b[0m\u001b[0m\n\u001b[0;32m--> 141\u001b[0;31m             \u001b[0minput\u001b[0m \u001b[0;34m=\u001b[0m \u001b[0mmodule\u001b[0m\u001b[0;34m(\u001b[0m\u001b[0minput\u001b[0m\u001b[0;34m)\u001b[0m\u001b[0;34m\u001b[0m\u001b[0;34m\u001b[0m\u001b[0m\n\u001b[0m\u001b[1;32m    142\u001b[0m         \u001b[0;32mreturn\u001b[0m \u001b[0minput\u001b[0m\u001b[0;34m\u001b[0m\u001b[0;34m\u001b[0m\u001b[0m\n\u001b[1;32m    143\u001b[0m \u001b[0;34m\u001b[0m\u001b[0m\n",
      "\u001b[0;32m/opt/homebrew/Caskroom/miniforge/base/envs/bachelor-project/lib/python3.9/site-packages/torch/nn/modules/module.py\u001b[0m in \u001b[0;36m_call_impl\u001b[0;34m(self, *input, **kwargs)\u001b[0m\n\u001b[1;32m   1100\u001b[0m         if not (self._backward_hooks or self._forward_hooks or self._forward_pre_hooks or _global_backward_hooks\n\u001b[1;32m   1101\u001b[0m                 or _global_forward_hooks or _global_forward_pre_hooks):\n\u001b[0;32m-> 1102\u001b[0;31m             \u001b[0;32mreturn\u001b[0m \u001b[0mforward_call\u001b[0m\u001b[0;34m(\u001b[0m\u001b[0;34m*\u001b[0m\u001b[0minput\u001b[0m\u001b[0;34m,\u001b[0m \u001b[0;34m**\u001b[0m\u001b[0mkwargs\u001b[0m\u001b[0;34m)\u001b[0m\u001b[0;34m\u001b[0m\u001b[0;34m\u001b[0m\u001b[0m\n\u001b[0m\u001b[1;32m   1103\u001b[0m         \u001b[0;31m# Do not call functions when jit is used\u001b[0m\u001b[0;34m\u001b[0m\u001b[0;34m\u001b[0m\u001b[0m\n\u001b[1;32m   1104\u001b[0m         \u001b[0mfull_backward_hooks\u001b[0m\u001b[0;34m,\u001b[0m \u001b[0mnon_full_backward_hooks\u001b[0m \u001b[0;34m=\u001b[0m \u001b[0;34m[\u001b[0m\u001b[0;34m]\u001b[0m\u001b[0;34m,\u001b[0m \u001b[0;34m[\u001b[0m\u001b[0;34m]\u001b[0m\u001b[0;34m\u001b[0m\u001b[0;34m\u001b[0m\u001b[0m\n",
      "\u001b[0;32m/opt/homebrew/Caskroom/miniforge/base/envs/bachelor-project/lib/python3.9/site-packages/torch/nn/modules/linear.py\u001b[0m in \u001b[0;36mforward\u001b[0;34m(self, input)\u001b[0m\n\u001b[1;32m    101\u001b[0m \u001b[0;34m\u001b[0m\u001b[0m\n\u001b[1;32m    102\u001b[0m     \u001b[0;32mdef\u001b[0m \u001b[0mforward\u001b[0m\u001b[0;34m(\u001b[0m\u001b[0mself\u001b[0m\u001b[0;34m,\u001b[0m \u001b[0minput\u001b[0m\u001b[0;34m:\u001b[0m \u001b[0mTensor\u001b[0m\u001b[0;34m)\u001b[0m \u001b[0;34m->\u001b[0m \u001b[0mTensor\u001b[0m\u001b[0;34m:\u001b[0m\u001b[0;34m\u001b[0m\u001b[0;34m\u001b[0m\u001b[0m\n\u001b[0;32m--> 103\u001b[0;31m         \u001b[0;32mreturn\u001b[0m \u001b[0mF\u001b[0m\u001b[0;34m.\u001b[0m\u001b[0mlinear\u001b[0m\u001b[0;34m(\u001b[0m\u001b[0minput\u001b[0m\u001b[0;34m,\u001b[0m \u001b[0mself\u001b[0m\u001b[0;34m.\u001b[0m\u001b[0mweight\u001b[0m\u001b[0;34m,\u001b[0m \u001b[0mself\u001b[0m\u001b[0;34m.\u001b[0m\u001b[0mbias\u001b[0m\u001b[0;34m)\u001b[0m\u001b[0;34m\u001b[0m\u001b[0;34m\u001b[0m\u001b[0m\n\u001b[0m\u001b[1;32m    104\u001b[0m \u001b[0;34m\u001b[0m\u001b[0m\n\u001b[1;32m    105\u001b[0m     \u001b[0;32mdef\u001b[0m \u001b[0mextra_repr\u001b[0m\u001b[0;34m(\u001b[0m\u001b[0mself\u001b[0m\u001b[0;34m)\u001b[0m \u001b[0;34m->\u001b[0m \u001b[0mstr\u001b[0m\u001b[0;34m:\u001b[0m\u001b[0;34m\u001b[0m\u001b[0;34m\u001b[0m\u001b[0m\n",
      "\u001b[0;32m/opt/homebrew/Caskroom/miniforge/base/envs/bachelor-project/lib/python3.9/site-packages/torch/nn/functional.py\u001b[0m in \u001b[0;36mlinear\u001b[0;34m(input, weight, bias)\u001b[0m\n\u001b[1;32m   1846\u001b[0m     \u001b[0;32mif\u001b[0m \u001b[0mhas_torch_function_variadic\u001b[0m\u001b[0;34m(\u001b[0m\u001b[0minput\u001b[0m\u001b[0;34m,\u001b[0m \u001b[0mweight\u001b[0m\u001b[0;34m,\u001b[0m \u001b[0mbias\u001b[0m\u001b[0;34m)\u001b[0m\u001b[0;34m:\u001b[0m\u001b[0;34m\u001b[0m\u001b[0;34m\u001b[0m\u001b[0m\n\u001b[1;32m   1847\u001b[0m         \u001b[0;32mreturn\u001b[0m \u001b[0mhandle_torch_function\u001b[0m\u001b[0;34m(\u001b[0m\u001b[0mlinear\u001b[0m\u001b[0;34m,\u001b[0m \u001b[0;34m(\u001b[0m\u001b[0minput\u001b[0m\u001b[0;34m,\u001b[0m \u001b[0mweight\u001b[0m\u001b[0;34m,\u001b[0m \u001b[0mbias\u001b[0m\u001b[0;34m)\u001b[0m\u001b[0;34m,\u001b[0m \u001b[0minput\u001b[0m\u001b[0;34m,\u001b[0m \u001b[0mweight\u001b[0m\u001b[0;34m,\u001b[0m \u001b[0mbias\u001b[0m\u001b[0;34m=\u001b[0m\u001b[0mbias\u001b[0m\u001b[0;34m)\u001b[0m\u001b[0;34m\u001b[0m\u001b[0;34m\u001b[0m\u001b[0m\n\u001b[0;32m-> 1848\u001b[0;31m     \u001b[0;32mreturn\u001b[0m \u001b[0mtorch\u001b[0m\u001b[0;34m.\u001b[0m\u001b[0m_C\u001b[0m\u001b[0;34m.\u001b[0m\u001b[0m_nn\u001b[0m\u001b[0;34m.\u001b[0m\u001b[0mlinear\u001b[0m\u001b[0;34m(\u001b[0m\u001b[0minput\u001b[0m\u001b[0;34m,\u001b[0m \u001b[0mweight\u001b[0m\u001b[0;34m,\u001b[0m \u001b[0mbias\u001b[0m\u001b[0;34m)\u001b[0m\u001b[0;34m\u001b[0m\u001b[0;34m\u001b[0m\u001b[0m\n\u001b[0m\u001b[1;32m   1849\u001b[0m \u001b[0;34m\u001b[0m\u001b[0m\n\u001b[1;32m   1850\u001b[0m \u001b[0;34m\u001b[0m\u001b[0m\n",
      "\u001b[0;31mRuntimeError\u001b[0m: mat1 and mat2 shapes cannot be multiplied (1024x32 and 1024x2048)"
     ]
    }
   ],
   "source": [
    "for epoch in range(num_epochs):\n",
    "  # Train\n",
    "  model.train()\n",
    "  train_data_tqdm = tqdm(train_data)\n",
    "  for i, (images, labels) in enumerate(train_data_tqdm):\n",
    "    images, labels = images.to(device), labels.to(device)\n",
    "    optimizer.zero_grad()\n",
    "\n",
    "    #images = images.flatten(start_dim=1)\n",
    "    preds = model(images)\n",
    "    loss = criterion(preds, labels)\n",
    "    loss_history.append(loss.item())\n",
    "    loss.backward()\n",
    "    optimizer.step()\n",
    "    #if i % 10 == 0:\n",
    "    train_data_tqdm.set_description(\"Training - Epoch: {}, Loss: {:.4f}\".format(epoch + 1, loss.item()))\n",
    "  \n",
    "  # Test\n",
    "  model.eval()\n",
    "  test_data_tqdm = tqdm(test_data)\n",
    "  test_data_tqdm.set_description(\"Testing...\")\n",
    "  num_correct = 0\n",
    "  for (images, labels) in test_data_tqdm:\n",
    "    images, labels = images.to(device), labels.to(device)\n",
    "    pred_labels = model(images).argmax(dim=1)\n",
    "    num_correct += torch.sum(pred_labels == labels).item()\n",
    "    \n",
    "  accuracy = num_correct / len(test_dataset) * 100\n",
    "  print(f\"Accuracy: {accuracy:.2f}%\")\n",
    "\n",
    "plt.plot(loss_history)\n",
    "plt.show()"
   ]
  },
  {
   "cell_type": "code",
   "execution_count": 519,
   "id": "5e01ab3c",
   "metadata": {},
   "outputs": [
    {
     "data": {
      "image/png": "[encoded data removed]",
      "text/plain": [
       "<Figure size 432x288 with 1 Axes>"
      ]
     },
     "metadata": {
      "needs_background": "light"
     },
     "output_type": "display_data"
    }
   ],
   "source": [
    "plt.plot(loss_history)\n",
    "plt.show()"
   ]
  },
  {
   "cell_type": "markdown",
   "id": "77fa00dd",
   "metadata": {},
   "source": [
    "# Alpha filter"
   ]
  },
  {
   "cell_type": "code",
   "execution_count": 506,
   "id": "f4e42ada",
   "metadata": {},
   "outputs": [
    {
     "data": {
      "image/png": "[encoded data removed]",
      "text/plain": [
       "<Figure size 1440x720 with 10 Axes>"
      ]
     },
     "metadata": {
      "needs_background": "light"
     },
     "output_type": "display_data"
    }
   ],
   "source": [
    "model.eval()\n",
    "rows = 2\n",
    "cols = 5\n",
    "fig, axs = plt.subplots(rows, cols, figsize=(20, 10))\n",
    "\n",
    "for row in range(rows):\n",
    "  for col in range(cols):\n",
    "    image, label = test_dataset[row * cols + col]\n",
    "    image = image[None, :].to(device)\n",
    "    out = model(image.flatten(start_dim=1))\n",
    "\n",
    "    axs[row][col].set_title(\"Label: {} Predicted: {}\".format(label, out.argmax().item()))\n",
    "    axs[row][col].imshow(image[0][0], cmap=\"gray\")"
   ]
  },
  {
   "cell_type": "code",
   "execution_count": 525,
   "id": "e170af40",
   "metadata": {},
   "outputs": [],
   "source": [
    "def alpha_filter(t, t_s=0.003):\n",
    "  return t / t_s * torch.exp(-t/t_s)"
   ]
  },
  {
   "cell_type": "code",
   "execution_count": 281,
   "id": "45a59b82",
   "metadata": {},
   "outputs": [
    {
     "data": {
      "image/png": "[encoded data removed]",
      "text/plain": [
       "<Figure size 432x288 with 1 Axes>"
      ]
     },
     "metadata": {
      "needs_background": "light"
     },
     "output_type": "display_data"
    }
   ],
   "source": [
    "input_current = torch.linspace(0.0, 10, 100)\n",
    "response = soft_rate(input_current)\n",
    "\n",
    "secs = 1\n",
    "dt = 1e-4\n",
    "steps = int(secs / dt)\n",
    "v = torch.zeros(100)\n",
    "timeouts = torch.zeros(100)\n",
    "vs = []\n",
    "spikes = torch.zeros(steps, 100)\n",
    "for i in range(steps):\n",
    "  timeouts[timeouts > 0] -= dt\n",
    "  dv = (-v + input_current) / T_RC\n",
    "  v[timeouts <= 0] += dt * dv[timeouts <= 0]\n",
    "\n",
    "  # Reset spikes\n",
    "  spikes[i, v > 1] = 1\n",
    "  timeouts[v > 1] = T_REF\n",
    "  v[v > 1] = 0\n",
    "  \n",
    "  vs.append(v.clone())\n",
    "\n",
    "vs = torch.stack(vs)\n",
    "plt.plot(input_current, response)\n",
    "plt.plot(input_current, spikes.sum(dim=0))\n",
    "plt.show()"
   ]
  },
  {
   "cell_type": "code",
   "execution_count": 405,
   "id": "63baa32f",
   "metadata": {},
   "outputs": [],
   "source": [
    "loss =  criterion(out, torch.tensor([3]))"
   ]
  },
  {
   "cell_type": "code",
   "execution_count": 406,
   "id": "a395729a",
   "metadata": {},
   "outputs": [],
   "source": [
    "loss.backward()"
   ]
  },
  {
   "cell_type": "code",
   "execution_count": 407,
   "id": "bfd0cfcd",
   "metadata": {},
   "outputs": [
    {
     "ename": "AttributeError",
     "evalue": "'Linear' object has no attribute 'A'",
     "output_type": "error",
     "traceback": [
      "\u001b[0;31m---------------------------------------------------------------------------\u001b[0m",
      "\u001b[0;31mAttributeError\u001b[0m                            Traceback (most recent call last)",
      "\u001b[0;32m/var/folders/vs/ylfhyw117z1g5xvn55z8jr3c0000gp/T/ipykernel_88703/3076757862.py\u001b[0m in \u001b[0;36m<module>\u001b[0;34m\u001b[0m\n\u001b[0;32m----> 1\u001b[0;31m \u001b[0mmodel\u001b[0m\u001b[0;34m.\u001b[0m\u001b[0mmodel\u001b[0m\u001b[0;34m[\u001b[0m\u001b[0;34m-\u001b[0m\u001b[0;36m2\u001b[0m\u001b[0;34m]\u001b[0m\u001b[0;34m.\u001b[0m\u001b[0mA\u001b[0m\u001b[0;34m.\u001b[0m\u001b[0mgrad\u001b[0m\u001b[0;34m\u001b[0m\u001b[0;34m\u001b[0m\u001b[0m\n\u001b[0m",
      "\u001b[0;32m/opt/homebrew/Caskroom/miniforge/base/envs/bachelor-project/lib/python3.9/site-packages/torch/nn/modules/module.py\u001b[0m in \u001b[0;36m__getattr__\u001b[0;34m(self, name)\u001b[0m\n\u001b[1;32m   1175\u001b[0m             \u001b[0;32mif\u001b[0m \u001b[0mname\u001b[0m \u001b[0;32min\u001b[0m \u001b[0mmodules\u001b[0m\u001b[0;34m:\u001b[0m\u001b[0;34m\u001b[0m\u001b[0;34m\u001b[0m\u001b[0m\n\u001b[1;32m   1176\u001b[0m                 \u001b[0;32mreturn\u001b[0m \u001b[0mmodules\u001b[0m\u001b[0;34m[\u001b[0m\u001b[0mname\u001b[0m\u001b[0;34m]\u001b[0m\u001b[0;34m\u001b[0m\u001b[0;34m\u001b[0m\u001b[0m\n\u001b[0;32m-> 1177\u001b[0;31m         raise AttributeError(\"'{}' object has no attribute '{}'\".format(\n\u001b[0m\u001b[1;32m   1178\u001b[0m             type(self).__name__, name))\n\u001b[1;32m   1179\u001b[0m \u001b[0;34m\u001b[0m\u001b[0m\n",
      "\u001b[0;31mAttributeError\u001b[0m: 'Linear' object has no attribute 'A'"
     ]
    }
   ],
   "source": [
    "model.model[-2].A.grad"
   ]
  },
  {
   "cell_type": "code",
   "execution_count": 475,
   "id": "4b100413",
   "metadata": {},
   "outputs": [
    {
     "ename": "TypeError",
     "evalue": "softmax() received an invalid combination of arguments - got (Tensor), but expected one of:\n * (Tensor input, int dim, torch.dtype dtype)\n * (Tensor input, name dim, *, torch.dtype dtype)\n",
     "output_type": "error",
     "traceback": [
      "\u001b[0;31m---------------------------------------------------------------------------\u001b[0m",
      "\u001b[0;31mTypeError\u001b[0m                                 Traceback (most recent call last)",
      "\u001b[0;32m/var/folders/vs/ylfhyw117z1g5xvn55z8jr3c0000gp/T/ipykernel_88703/2741628947.py\u001b[0m in \u001b[0;36m<module>\u001b[0;34m\u001b[0m\n\u001b[0;32m----> 1\u001b[0;31m \u001b[0mtorch\u001b[0m\u001b[0;34m.\u001b[0m\u001b[0msoftmax\u001b[0m\u001b[0;34m(\u001b[0m\u001b[0mSpikeLayer\u001b[0m\u001b[0;34m(\u001b[0m\u001b[0;36m256\u001b[0m\u001b[0;34m,\u001b[0m \u001b[0;36m10\u001b[0m\u001b[0;34m)\u001b[0m\u001b[0;34m(\u001b[0m\u001b[0mSpikeLayer\u001b[0m\u001b[0;34m(\u001b[0m\u001b[0;36m32\u001b[0m\u001b[0;34m*\u001b[0m\u001b[0;36m32\u001b[0m\u001b[0;34m,\u001b[0m \u001b[0;36m256\u001b[0m\u001b[0;34m)\u001b[0m\u001b[0;34m(\u001b[0m\u001b[0mimage\u001b[0m\u001b[0;34m.\u001b[0m\u001b[0mview\u001b[0m\u001b[0;34m(\u001b[0m\u001b[0;34m-\u001b[0m\u001b[0;36m1\u001b[0m\u001b[0;34m,\u001b[0m \u001b[0;36m32\u001b[0m\u001b[0;34m*\u001b[0m\u001b[0;36m32\u001b[0m\u001b[0;34m)\u001b[0m\u001b[0;34m)\u001b[0m\u001b[0;34m)\u001b[0m\u001b[0;34m)\u001b[0m\u001b[0;34m\u001b[0m\u001b[0;34m\u001b[0m\u001b[0m\n\u001b[0m",
      "\u001b[0;31mTypeError\u001b[0m: softmax() received an invalid combination of arguments - got (Tensor), but expected one of:\n * (Tensor input, int dim, torch.dtype dtype)\n * (Tensor input, name dim, *, torch.dtype dtype)\n"
     ]
    }
   ],
   "source": [
    "torch.softmax(SpikeLayer(256, 10)(SpikeLayer(32*32, 256)(image.view(-1, 32*32))))"
   ]
  },
  {
   "cell_type": "code",
   "execution_count": null,
   "id": "7dfc67df",
   "metadata": {},
   "outputs": [],
   "source": []
  }
 ],
 "metadata": {
  "kernelspec": {
   "display_name": "Python 3",
   "language": "python",
   "name": "python3"
  },
  "language_info": {
   "codemirror_mode": {
    "name": "ipython",
    "version": 3
   },
   "file_extension": ".py",
   "mimetype": "text/x-python",
   "name": "python",
   "nbconvert_exporter": "python",
   "pygments_lexer": "ipython3",
   "version": "3.9.7"
  }
 },
 "nbformat": 4,
 "nbformat_minor": 5
}

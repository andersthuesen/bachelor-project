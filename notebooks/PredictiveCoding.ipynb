{
 "cells": [
  {
   "cell_type": "markdown",
   "id": "2f7393e3",
   "metadata": {},
   "source": [
    "# Setup"
   ]
  },
  {
   "cell_type": "code",
   "execution_count": 358,
   "id": "c175d1db",
   "metadata": {},
   "outputs": [],
   "source": [
    "import math\n",
    "import random\n",
    "import torch\n",
    "import torch.nn as nn\n",
    "import torch.nn.functional as F\n",
    "from torch.utils.data import DataLoader\n",
    "from torchvision.transforms import ToTensor\n",
    "from torchvision.datasets import MNIST\n",
    "import matplotlib.pyplot as plt\n",
    "from tqdm.notebook import tqdm"
   ]
  },
  {
   "cell_type": "code",
   "execution_count": 359,
   "id": "23c5a7de",
   "metadata": {},
   "outputs": [],
   "source": [
    "# Prepare train and test data\n",
    "train_dataset = MNIST(download=True, root='data', train=True, transform=ToTensor())\n",
    "train_data = DataLoader(train_dataset, batch_size=64, shuffle=False)\n",
    "\n",
    "test_dataset = MNIST(download=True, root='data', train=False, transform=ToTensor())\n",
    "test_data = DataLoader(test_dataset, batch_size=32, shuffle=False)"
   ]
  },
  {
   "cell_type": "code",
   "execution_count": 361,
   "id": "f5a50809",
   "metadata": {},
   "outputs": [],
   "source": [
    "# Make results reproducible\n",
    "random.seed(0)\n",
    "torch.manual_seed(0)\n",
    "torch.use_deterministic_algorithms(True)"
   ]
  },
  {
   "cell_type": "code",
   "execution_count": 362,
   "id": "452c5e5e",
   "metadata": {},
   "outputs": [],
   "source": [
    "# Membrane time constant\n",
    "T_RC = 0.02\n",
    "T_REF = 4e-3\n",
    "V_TH = 1.0"
   ]
  },
  {
   "cell_type": "code",
   "execution_count": 577,
   "id": "5b1a7321",
   "metadata": {},
   "outputs": [],
   "source": [
    "def sigmoid(x, deriv=False):\n",
    "  out = F.sigmoid(x)\n",
    "  if deriv:\n",
    "    return out * (1 - out)\n",
    "  return out\n",
    "\n",
    "def leaky_relu(x, deriv=False):\n",
    "  factor = (x > 0) + 0.1\n",
    "  if deriv:\n",
    "    return factor\n",
    "  return factor * x\n",
    "\n",
    "def rate(x, p=torch.relu, t_rc = T_RC, t_ref = T_REF, V_th = V_TH):\n",
    "  return torch.reciprocal(t_ref + t_rc * torch.log(1 + V_th / (p(x - V_th) + 1e-12)))\n",
    "\n",
    "def soft_rate(x, t_rc = T_RC, t_ref = T_REF, V_th = V_TH):\n",
    "  return rate(x, p=lambda x: torch.nn.functional.softplus(x, beta=20), t_rc=t_rc, t_ref=t_ref, V_th=V_th)\n",
    "\n",
    "def scaled_soft_rate(x, t_rc = T_RC, t_ref = T_REF, V_th = V_TH, scale = 0.05):\n",
    "  return soft_rate(x, t_rc=t_rc, t_ref=t_ref, V_th=V_th) * scale\n",
    "\n",
    "def softmax(x, deriv=False):\n",
    "  if deriv:\n",
    "    # This is little unusual, but is required to calculate correct the correct partial derivate if e = x - u\n",
    "    return torch.ones_like(x) \n",
    "  return x.exp() / x.exp().sum(dim=1, keepdim=True)\n",
    "\n",
    "def onehot(x, n_classes):\n",
    "  return torch.eye(n_classes)[x]\n",
    "\n",
    "def get_weights_and_biases(in_features, out_features):\n",
    "  W = torch.randn((out_features, in_features)) * 2/math.sqrt(in_features)\n",
    "  b = torch.zeros(out_features)\n",
    "\n",
    "  return W, b"
   ]
  },
  {
   "cell_type": "markdown",
   "id": "c15b942f",
   "metadata": {},
   "source": [
    "# Back-propagation"
   ]
  },
  {
   "cell_type": "code",
   "execution_count": 578,
   "id": "86f86731",
   "metadata": {},
   "outputs": [],
   "source": [
    "# Define out layer sizes\n",
    "in_features = 784\n",
    "hidden1_features = 600\n",
    "hidden2_features = 600\n",
    "out_features = 10\n",
    "\n",
    "# Define weights and biases\n",
    "W1, b1 = get_weights_and_biases(in_features, hidden1_features)\n",
    "W2, b2 = get_weights_and_biases(hidden1_features, hidden2_features)\n",
    "W3, b3 = get_weights_and_biases(hidden2_features, out_features)\n",
    "\n",
    "activation1 = leaky_relu\n",
    "activation2 = leaky_relu\n",
    "activation3 = softmax"
   ]
  },
  {
   "cell_type": "code",
   "execution_count": 579,
   "id": "331692ae",
   "metadata": {},
   "outputs": [],
   "source": [
    "# Baseline backprop model\n",
    "class MLP(nn.Module):\n",
    "  def __init__(self, in_features, hidden1_features, hidden2_features, out_features):\n",
    "    super().__init__()\n",
    "    self.l1 = nn.Linear(in_features, hidden1_features)\n",
    "    self.l2 = nn.Linear(hidden1_features, hidden2_features)\n",
    "    self.l3 = nn.Linear(hidden2_features, out_features)\n",
    "\n",
    "    # Start with exactly the same weights.\n",
    "    with torch.no_grad():\n",
    "      self.l1.weight.copy_(W1)\n",
    "      self.l1.bias.copy_(b1)\n",
    "      self.l2.weight.copy_(W2)\n",
    "      self.l2.bias.copy_(b2)\n",
    "      self.l3.weight.copy_(W3)\n",
    "      self.l3.bias.copy_(b3)\n",
    "\n",
    "  def forward(self, x):\n",
    "    x = activation1(self.l1(x))\n",
    "    x = activation2(self.l2(x))\n",
    "    x = self.l3(x)\n",
    "    return x\n",
    "\n",
    "\n",
    "model = MLP(in_features, hidden1_features, hidden2_features, out_features)"
   ]
  },
  {
   "cell_type": "code",
   "execution_count": 580,
   "id": "4629767e",
   "metadata": {},
   "outputs": [],
   "source": [
    "loss_history = []\n",
    "accuracy_history = []"
   ]
  },
  {
   "cell_type": "code",
   "execution_count": 581,
   "id": "d7b04855",
   "metadata": {},
   "outputs": [],
   "source": [
    "lr = 1e-1\n",
    "criterion = nn.CrossEntropyLoss()\n",
    "optimizer = torch.optim.SGD(model.parameters(), lr=lr)"
   ]
  },
  {
   "cell_type": "code",
   "execution_count": 582,
   "id": "3261c53d",
   "metadata": {},
   "outputs": [
    {
     "name": "stdout",
     "output_type": "stream",
     "text": [
      "Epoch 1\n"
     ]
    },
    {
     "data": {
      "application/vnd.jupyter.widget-view+json": {
       "model_id": "fd160ba5ac2543ec9d989bc9dd0fe90e",
       "version_major": 2,
       "version_minor": 0
      },
      "text/plain": [
       "  0%|          | 0/938 [00:00<?, ?it/s]"
      ]
     },
     "metadata": {},
     "output_type": "display_data"
    }
   ],
   "source": [
    "step = 0\n",
    "accuracy = 0\n",
    "loss = None\n",
    "for epoch in range(1):\n",
    "  print(f\"Epoch {epoch+1}\")\n",
    "  tqdm_train_data = tqdm(train_data)\n",
    "  for images, labels in tqdm_train_data:\n",
    "    step += 1\n",
    "\n",
    "    optimizer.zero_grad()\n",
    "    x0 = images.flatten(start_dim=1)\n",
    "\n",
    "    pred = model(x0)\n",
    "    loss = criterion(pred, labels)\n",
    "    loss.backward()\n",
    "    \n",
    "    loss_history.append((step, loss.item()))\n",
    "\n",
    "    tqdm_train_data.set_description(f\"Training - Loss: {loss.item():.4f} - Accuracy: {accuracy*100:.2f}%\")\n",
    "\n",
    "    optimizer.step()\n",
    "\n",
    "    if step % 100 == 0: \n",
    "      model.eval()\n",
    "      tqdm_train_data.set_description(f\"Testing - Loss: {loss.item():.4f} - Accuracy: {accuracy*100:.2f}%\")\n",
    "      tested = 0\n",
    "      correct = 0\n",
    "      for images, labels in test_data:\n",
    "        x0 = images.flatten(start_dim=1)\n",
    "        x3_pred = model(x0)\n",
    "        pred_labels = x3_pred.argmax(dim=1)\n",
    "\n",
    "        tested += len(pred_labels)\n",
    "        correct += (pred_labels == labels).sum()\n",
    "      accuracy = correct / tested\n",
    "      \n",
    "\n",
    "      accuracy_history.append((step, accuracy))\n",
    "      model.train()\n",
    "    "
   ]
  },
  {
   "cell_type": "code",
   "execution_count": 584,
   "id": "6f62f928",
   "metadata": {},
   "outputs": [
    {
     "data": {
      "image/png": "[encoded data removed]",
      "text/plain": [
       "<Figure size 432x288 with 1 Axes>"
      ]
     },
     "metadata": {
      "needs_background": "light"
     },
     "output_type": "display_data"
    }
   ],
   "source": [
    "plt.plot(*zip(*loss_history))\n",
    "plt.show()"
   ]
  },
  {
   "cell_type": "code",
   "execution_count": 585,
   "id": "7a096b34",
   "metadata": {},
   "outputs": [
    {
     "data": {
      "image/png": "[encoded data removed]",
      "text/plain": [
       "<Figure size 432x288 with 1 Axes>"
      ]
     },
     "metadata": {
      "needs_background": "light"
     },
     "output_type": "display_data"
    }
   ],
   "source": [
    "plt.plot(*zip(*accuracy_history))\n",
    "plt.show()"
   ]
  },
  {
   "cell_type": "code",
   "execution_count": 244,
   "id": "4117fd4b",
   "metadata": {},
   "outputs": [],
   "source": [
    "# Save loss and accuracy history\n",
    "torch.save(loss_history, \"../results/backprop-loss_history.pt\")\n",
    "torch.save(accuracy_history, \"../results/backprop-accuracy_history.pt\")"
   ]
  },
  {
   "cell_type": "code",
   "execution_count": 267,
   "id": "417408e9",
   "metadata": {},
   "outputs": [],
   "source": [
    "torch.save(model.state_dict(), \"../results/backprop/model.py\")"
   ]
  },
  {
   "cell_type": "code",
   "execution_count": 261,
   "id": "5ae7e5d1",
   "metadata": {},
   "outputs": [
    {
     "name": "stdout",
     "output_type": "stream",
     "text": [
      "Accuracy: 97.40999603271484%\n"
     ]
    }
   ],
   "source": [
    "tested = 0\n",
    "correct = 0\n",
    "for images, labels in test_data:\n",
    "  x0 = images.flatten(start_dim=1)\n",
    "  x3_pred = model(x0)\n",
    "  pred_labels = x3_pred.argmax(dim=1)\n",
    "\n",
    "  tested += len(pred_labels)\n",
    "  correct += (pred_labels == labels).sum()\n",
    "\n",
    "accuracy = correct / tested\n",
    "print(f\"Accuracy: {accuracy * 100}%\")"
   ]
  },
  {
   "cell_type": "code",
   "execution_count": 173,
   "id": "0542abb5",
   "metadata": {},
   "outputs": [
    {
     "name": "stdout",
     "output_type": "stream",
     "text": [
      "tensor(1.6816)\n",
      "tensor(1.6816)\n"
     ]
    }
   ],
   "source": [
    "logits = torch.tensor([[2.0, 5.0, 2.0, 2.0, 2.0], [2.0, 5.0, 2.0, 2.0, 2.0]])\n",
    "pred = softmax(logits)\n",
    "labels = torch.tensor([1, 2])\n",
    "\n",
    "print(nn.CrossEntropyLoss()(logits, labels))\n",
    "print(-(torch.log(pred) * torch.stack([onehot(label, pred.shape[1]) for label in labels])).sum(dim=1).mean())"
   ]
  },
  {
   "cell_type": "markdown",
   "id": "cf9684f9",
   "metadata": {},
   "source": [
    "# Inference Learning"
   ]
  },
  {
   "cell_type": "code",
   "execution_count": 636,
   "id": "68f81b89",
   "metadata": {},
   "outputs": [],
   "source": [
    "# Define out layer sizes\n",
    "in_features = 784\n",
    "hidden1_features = 600\n",
    "hidden2_features = 600\n",
    "out_features = 10\n",
    "\n",
    "# Define weights and biases\n",
    "W1, b1 = get_weights_and_biases(in_features, hidden1_features)\n",
    "W2, b2 = get_weights_and_biases(hidden1_features, hidden2_features)\n",
    "W3, b3 = get_weights_and_biases(hidden2_features, out_features)\n",
    "\n",
    "activation1 = leaky_relu\n",
    "activation2 = leaky_relu\n",
    "activation3 = softmax"
   ]
  },
  {
   "cell_type": "code",
   "execution_count": 637,
   "id": "b4ed4d9d",
   "metadata": {},
   "outputs": [],
   "source": [
    "loss_history = []\n",
    "accuracy_history = []\n",
    "accuracy = 0\n",
    "loss = 0\n",
    "step = 0"
   ]
  },
  {
   "cell_type": "code",
   "execution_count": 638,
   "id": "441be1c2",
   "metadata": {},
   "outputs": [],
   "source": [
    "# Setup hyperparameters\n",
    "ir = 1e-1 # Inference rate\n",
    "lr = 1e-1 # Learning rate\n",
    "\n",
    "# Should we just test the inference part\n",
    "test = False"
   ]
  },
  {
   "cell_type": "code",
   "execution_count": 639,
   "id": "bae4d3bf",
   "metadata": {},
   "outputs": [
    {
     "name": "stdout",
     "output_type": "stream",
     "text": [
      "Epoch 1\n"
     ]
    },
    {
     "data": {
      "application/vnd.jupyter.widget-view+json": {
       "model_id": "75cbff2a3d9b4eeebebf763176436198",
       "version_major": 2,
       "version_minor": 0
      },
      "text/plain": [
       "  0%|          | 0/938 [00:00<?, ?it/s]"
      ]
     },
     "metadata": {},
     "output_type": "display_data"
    }
   ],
   "source": [
    "# Training loop\n",
    "for epoch in range(1):\n",
    "  print(f\"Epoch {epoch+1}\")\n",
    "  tqdm_train_data = tqdm(train_data)\n",
    "  for images, labels in tqdm_train_data:\n",
    "    step += 1\n",
    "    x0 = images.flatten(start_dim=1)\n",
    "    batch_dim = x0.shape[0]\n",
    "    x1 = torch.zeros((batch_dim, hidden1_features))\n",
    "    x2 = torch.zeros((batch_dim, hidden2_features))\n",
    "    x3 = torch.zeros((batch_dim, out_features))\n",
    "\n",
    "    x4 = onehot(labels, n_classes=10) # Constrain output to be the correct labels.\n",
    "\n",
    "    x4_pred = activation3(activation2(activation1(x0 @ W1.T + b1) @ W2.T + b2) @ W3.T + b3)\n",
    "\n",
    "    loss = -(torch.log(x4_pred) * x4).sum(dim=1).mean()\n",
    "    tqdm_train_data.set_description(f\"Training - Loss: {loss:.4f} - Accuracy: {accuracy*100:.2f}%\")\n",
    "    loss_history.append((step, loss))\n",
    "    errors_history = []\n",
    "\n",
    "    # Run predictive coding inference. \n",
    "    for t in range(1000):\n",
    "      u1 = x0 @ W1.T + b1\n",
    "      u2 = activation1(x1) @ W2.T + b2\n",
    "      u3 = activation2(x2) @ W3.T + b3\n",
    "      u4 = activation3(x3)\n",
    "\n",
    "      # Calculate errors\n",
    "      e1 = x1 - u1\n",
    "      e2 = x2 - u2\n",
    "      e3 = x3 - u3\n",
    "      e4 = x4 - u4\n",
    "\n",
    "      # Canculate derivatives\n",
    "      dx1 = -e1 + activation1(x1, deriv=True) * (e2 @ W2)\n",
    "      dx2 = -e2 + activation2(x2, deriv=True) * (e3 @ W3)\n",
    "      dx3 = -e3 + activation3(x3, deriv=True) * (e4)\n",
    "      #dx4 = -e4 # Only do this during prediction\n",
    "\n",
    "      # Do actual steps\n",
    "      x1 += ir * dx1\n",
    "      x2 += ir * dx2\n",
    "      x3 += ir * dx3\n",
    "      #x4 -= ir * dx4 # Only do this during inference.\n",
    "\n",
    "      if test:\n",
    "        errors_history.append(((e1 ** 2).mean(), (e2 ** 2).mean(), (e3 ** 2).mean(), (e4 ** 2).mean()))\n",
    "\n",
    "    error_histories = zip(*errors_history)\n",
    "    for error_history in error_histories:\n",
    "      plt.plot(error_history)\n",
    "      plt.show()\n",
    "      \n",
    "    if test:\n",
    "      break\n",
    "\n",
    "    # Calculate gradients\n",
    "    dW1 = e1[:, :, None] @ x0[:, None, :]\n",
    "    dW2 = e2[:, :, None] @ activation1(x1)[:, None, :]\n",
    "    dW3 = e3[:, :, None] @ activation2(x2)[:, None, :]\n",
    "\n",
    "    db1 = e1\n",
    "    db2 = e2\n",
    "    db3 = e3\n",
    "\n",
    "    # Perform weight update here.\n",
    "    W1 += lr * dW1.mean(dim=0)\n",
    "    b1 += lr * db1.mean(dim=0)\n",
    "\n",
    "    W2 += lr * dW2.mean(dim=0)\n",
    "    b2 += lr * db2.mean(dim=0)\n",
    "\n",
    "    W3 += lr * dW3.mean(dim=0)\n",
    "    b3 += lr * db3.mean(dim=0)\n",
    "\n",
    "    if step % 100 == 0:\n",
    "      tqdm_train_data.set_description(f\"Testing - Loss: {loss.item():.4f} - Accuracy: {accuracy*100:.2f}%\")\n",
    "      tested = 0\n",
    "      correct = 0\n",
    "      for images, labels in test_data:\n",
    "        x0 = images.flatten(start_dim=1)\n",
    "        pred = activation3(activation2(activation1(x0 @ W1.T + b1) @ W2.T + b2) @ W3.T + b3)\n",
    "        pred_labels = pred.argmax(dim=1)\n",
    "\n",
    "        tested += len(pred_labels)\n",
    "        correct += (pred_labels == labels).sum()\n",
    "\n",
    "      accuracy = correct / tested\n",
    "      accuracy_history.append((step, accuracy))\n",
    "\n",
    "  if test:\n",
    "    break"
   ]
  },
  {
   "cell_type": "code",
   "execution_count": 640,
   "id": "bcce9247",
   "metadata": {},
   "outputs": [
    {
     "data": {
      "image/png": "[encoded data removed]",
      "text/plain": [
       "<Figure size 432x288 with 1 Axes>"
      ]
     },
     "metadata": {
      "needs_background": "light"
     },
     "output_type": "display_data"
    }
   ],
   "source": [
    "plt.plot(*zip(*loss_history))\n",
    "plt.show()"
   ]
  },
  {
   "cell_type": "code",
   "execution_count": 641,
   "id": "33ef333f",
   "metadata": {},
   "outputs": [
    {
     "data": {
      "image/png": "[encoded data removed]",
      "text/plain": [
       "<Figure size 432x288 with 1 Axes>"
      ]
     },
     "metadata": {
      "needs_background": "light"
     },
     "output_type": "display_data"
    }
   ],
   "source": [
    "plt.plot(*zip(*accuracy_history))\n",
    "plt.show()"
   ]
  },
  {
   "cell_type": "code",
   "execution_count": 643,
   "id": "097f3d91",
   "metadata": {},
   "outputs": [],
   "source": [
    "# torch.save((W1, b1, W2, b2, W3, b3), \"../results/inference-learning/model_1-epoch.pt\")\n",
    "# torch.save(loss_history, \"../results/inference-learning/loss-history_1-epoch.pt\")\n",
    "# torch.save(accuracy_history, \"../results/inference-learning/accuracy-history_1-epoch.pt\")"
   ]
  },
  {
   "cell_type": "markdown",
   "id": "e9a85464",
   "metadata": {},
   "source": [
    "# Zero Divergent Inference Learning"
   ]
  },
  {
   "cell_type": "code",
   "execution_count": 603,
   "id": "89797210",
   "metadata": {},
   "outputs": [],
   "source": [
    "# Define out layer sizes\n",
    "in_features = 784\n",
    "hidden1_features = 600\n",
    "hidden2_features = 600\n",
    "out_features = 10\n",
    "\n",
    "# Define weights and biases\n",
    "W1, b1 = get_weights_and_biases(in_features, hidden1_features)\n",
    "W2, b2 = get_weights_and_biases(hidden1_features, hidden2_features)\n",
    "W3, b3 = get_weights_and_biases(hidden2_features, out_features)\n",
    "\n",
    "activation1 = leaky_relu\n",
    "activation2 = leaky_relu\n",
    "activation3 = softmax"
   ]
  },
  {
   "cell_type": "code",
   "execution_count": 604,
   "id": "178e231d",
   "metadata": {},
   "outputs": [],
   "source": [
    "accuracy_history = []\n",
    "loss_history = []\n",
    "accuracy = 0\n",
    "loss = 0\n",
    "step = 0\n"
   ]
  },
  {
   "cell_type": "code",
   "execution_count": 605,
   "id": "b10ae1cd",
   "metadata": {},
   "outputs": [],
   "source": [
    "# Setup hyperparameters\n",
    "ir = 1 # Inference rate (has to be 1 for Z-IL)\n",
    "lr = 1e-1 # Learning rate\n",
    "\n",
    "# Should we just test the inference part\n",
    "test = False"
   ]
  },
  {
   "cell_type": "code",
   "execution_count": 615,
   "id": "82fcc775",
   "metadata": {},
   "outputs": [
    {
     "name": "stdout",
     "output_type": "stream",
     "text": [
      "Epoch 1\n"
     ]
    },
    {
     "data": {
      "application/vnd.jupyter.widget-view+json": {
       "model_id": "80bd953982f24a219520528c5edb1719",
       "version_major": 2,
       "version_minor": 0
      },
      "text/plain": [
       "  0%|          | 0/938 [00:00<?, ?it/s]"
      ]
     },
     "metadata": {},
     "output_type": "display_data"
    }
   ],
   "source": [
    "# Training loop\n",
    "for epoch in range(1):\n",
    "  print(f\"Epoch {epoch+1}\")\n",
    "  tqdm_train_data = tqdm(train_data)\n",
    "  for images, labels in tqdm_train_data:\n",
    "    step += 1\n",
    "    x0 = images.flatten(start_dim=1)\n",
    "    batch_dim = x0.shape[0]\n",
    "\n",
    "    u1 = x1 = x0 @ W1.T + b1\n",
    "    u2 = x2 = activation1(x1) @ W2.T + b2\n",
    "    u3 = x3 = activation2(x2) @ W3.T + b3\n",
    "    u4 = x4_pred = activation3(x3)\n",
    "\n",
    "    x4 = onehot(labels, n_classes=10) # Constrain output to be the correct labels.\n",
    "    loss = -(torch.log(x4_pred) * x4).sum(dim=1).mean()\n",
    "    if step % 10 == 0:\n",
    "      tqdm_train_data.set_description(f\"Training - Loss: {loss:.4f} - Accuracy: {accuracy*100:.2f}%\")\n",
    "    loss_history.append((step, loss))\n",
    "\n",
    "    for t in range(5):\n",
    "      u1 = x0 @ W1.T + b1\n",
    "      u2 = activation1(x1) @ W2.T + b2\n",
    "      u3 = activation2(x2) @ W3.T + b3\n",
    "      u4 = activation3(x3)\n",
    "\n",
    "      # Calculate errors\n",
    "      e1 = x1 - u1\n",
    "      e2 = x2 - u2\n",
    "      e3 = x3 - u3\n",
    "      e4 = x4 - u4\n",
    "\n",
    "      # Canculate derivatives\n",
    "      dx1 = -e1 + activation1(x1, deriv=True) * (e2 @ W2)\n",
    "      dx2 = -e2 + activation2(x2, deriv=True) * (e3 @ W3)\n",
    "      dx3 = -e3 + activation3(x3, deriv=True) * (e4)\n",
    "      #dx4 = -e4 # Only do this during inference\n",
    "\n",
    "      # Do actual steps\n",
    "      x1 += ir * dx1\n",
    "      x2 += ir * dx2\n",
    "      x3 += ir * dx3\n",
    "      #x4 -= ir * dx4 # Only do this during inference.\n",
    "\n",
    "      if t == 1:\n",
    "        dW3 = e3[:, :, None] @ activation2(x2)[:, None, :]\n",
    "        db3 = e3\n",
    "        W3 += lr * dW3.mean(dim=0)\n",
    "        b3 += lr * db3.mean(dim=0)\n",
    "      elif t == 2:\n",
    "        dW2 = e2[:, :, None] @ activation1(x1)[:, None, :]\n",
    "        db2 = e2\n",
    "        W2 += lr * dW2.mean(dim=0)\n",
    "        b2 += lr * db2.mean(dim=0)\n",
    "\n",
    "      elif t == 3:\n",
    "        dW1 = e1[:, :, None] @ x0[:, None, :]\n",
    "        db1 = e1\n",
    "        W1 += lr * dW1.mean(dim=0)\n",
    "        b1 += lr * db1.mean(dim=0)\n",
    "      \n",
    "    if test:\n",
    "      break\n",
    "\n",
    "    if step % 100 == 0:\n",
    "      tqdm_train_data.set_description(f\"Testing - Loss: {loss:.4f} - Accuracy: {accuracy*100:.2f}%\")\n",
    "      tested = 0\n",
    "      correct = 0\n",
    "      for images, labels in test_data:\n",
    "        x0 = images.flatten(start_dim=1)\n",
    "        pred = activation3(activation2(activation1(x0 @ W1.T + b1) @ W2.T + b2) @ W3.T + b3)\n",
    "        pred_labels = pred.argmax(dim=1)\n",
    "\n",
    "        tested += len(pred_labels)\n",
    "        correct += (pred_labels == labels).sum()\n",
    "\n",
    "      accuracy = correct / tested\n",
    "      accuracy_history.append((step, accuracy))\n",
    "\n",
    "  if test:\n",
    "    break"
   ]
  },
  {
   "cell_type": "code",
   "execution_count": 616,
   "id": "965cfe6d",
   "metadata": {},
   "outputs": [
    {
     "data": {
      "image/png": "[encoded data removed]",
      "text/plain": [
       "<Figure size 432x288 with 1 Axes>"
      ]
     },
     "metadata": {
      "needs_background": "light"
     },
     "output_type": "display_data"
    }
   ],
   "source": [
    "plt.plot(*zip(*loss_history))\n",
    "plt.show()"
   ]
  },
  {
   "cell_type": "code",
   "execution_count": 617,
   "id": "aa55f8f9",
   "metadata": {},
   "outputs": [
    {
     "data": {
      "image/png": "[encoded data removed]",
      "text/plain": [
       "<Figure size 432x288 with 1 Axes>"
      ]
     },
     "metadata": {
      "needs_background": "light"
     },
     "output_type": "display_data"
    }
   ],
   "source": [
    "plt.plot(*zip(*accuracy_history))\n",
    "plt.show()"
   ]
  },
  {
   "cell_type": "code",
   "execution_count": null,
   "id": "203f6dca",
   "metadata": {},
   "outputs": [],
   "source": []
  }
 ],
 "metadata": {
  "interpreter": {
   "hash": "a9dcdb033610e0f0b6c0ad22ac046a6d96792469febf86f491713b8d1d50e429"
  },
  "kernelspec": {
   "display_name": "Python 3.9.7 64-bit ('bachelor-project': conda)",
   "language": "python",
   "name": "python3"
  },
  "language_info": {
   "codemirror_mode": {
    "name": "ipython",
    "version": 3
   },
   "file_extension": ".py",
   "mimetype": "text/x-python",
   "name": "python",
   "nbconvert_exporter": "python",
   "pygments_lexer": "ipython3",
   "version": "3.9.7"
  }
 },
 "nbformat": 4,
 "nbformat_minor": 5
}

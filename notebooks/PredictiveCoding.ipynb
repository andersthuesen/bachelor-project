{
 "cells": [
  {
   "cell_type": "markdown",
   "id": "2f7393e3",
   "metadata": {},
   "source": [
    "# Setup"
   ]
  },
  {
   "cell_type": "code",
   "execution_count": 1,
   "id": "c175d1db",
   "metadata": {},
   "outputs": [],
   "source": [
    "import math\n",
    "import random\n",
    "import torch\n",
    "import torch.nn as nn\n",
    "import torch.nn.functional as F\n",
    "from torch.utils.data import DataLoader\n",
    "from torchvision.transforms import ToTensor\n",
    "from torchvision.datasets import MNIST\n",
    "import matplotlib.pyplot as plt\n",
    "from tqdm.notebook import tqdm"
   ]
  },
  {
   "cell_type": "code",
   "execution_count": 2,
   "id": "23c5a7de",
   "metadata": {},
   "outputs": [
    {
     "name": "stderr",
     "output_type": "stream",
     "text": [
      "/opt/homebrew/Caskroom/miniforge/base/envs/bachelor-project/lib/python3.9/site-packages/torchvision/datasets/mnist.py:498: UserWarning: The given NumPy array is not writeable, and PyTorch does not support non-writeable tensors. This means you can write to the underlying (supposedly non-writeable) NumPy array using the tensor. You may want to copy the array to protect its data or make it writeable before converting it to a tensor. This type of warning will be suppressed for the rest of this program. (Triggered internally at  /Users/runner/miniforge3/conda-bld/pytorch-recipe_1635217266490/work/torch/csrc/utils/tensor_numpy.cpp:189.)\n",
      "  return torch.from_numpy(parsed.astype(m[2], copy=False)).view(*s)\n"
     ]
    }
   ],
   "source": [
    "# Prepare train and test data\n",
    "train_dataset = MNIST(download=True, root='data', train=True, transform=ToTensor())\n",
    "train_data = DataLoader(train_dataset, batch_size=64, shuffle=False)\n",
    "\n",
    "test_dataset = MNIST(download=True, root='data', train=False, transform=ToTensor())\n",
    "test_data = DataLoader(test_dataset, batch_size=32, shuffle=False)"
   ]
  },
  {
   "cell_type": "code",
   "execution_count": 3,
   "id": "f5a50809",
   "metadata": {},
   "outputs": [],
   "source": [
    "# Make results reproducible\n",
    "random.seed(0)\n",
    "torch.manual_seed(0)\n",
    "torch.use_deterministic_algorithms(True)"
   ]
  },
  {
   "cell_type": "code",
   "execution_count": 4,
   "id": "452c5e5e",
   "metadata": {},
   "outputs": [],
   "source": [
    "# Membrane time constant\n",
    "T_RC = 0.02\n",
    "T_REF = 4e-3\n",
    "V_TH = 1.0"
   ]
  },
  {
   "cell_type": "code",
   "execution_count": 5,
   "id": "70b9b1e1",
   "metadata": {},
   "outputs": [],
   "source": [
    "def sigmoid(x, deriv=False):\n",
    "  out = F.sigmoid(x)\n",
    "  if deriv:\n",
    "    return out * (1 - out)\n",
    "  return out\n",
    "\n",
    "def leaky_relu(x, deriv=False):\n",
    "  factor = (x > 0) + 0.1\n",
    "  if deriv:\n",
    "    return factor\n",
    "  return factor * x\n",
    "\n",
    "def rate(x, p=torch.relu, t_rc = T_RC, t_ref = T_REF, V_th = V_TH, epsilon=1e-12, deriv=False):\n",
    "  b = (p(x - V_th) + epsilon)\n",
    "  l = 1 + V_th / b\n",
    "  r = torch.reciprocal(t_ref + t_rc * torch.log(l))\n",
    "  if deriv:\n",
    "    return (r ** 2) * t_rc / l * V_th / (b ** 2) * p(x - V_th, deriv=True)\n",
    "  return r\n",
    "\n",
    "def soft_plus(x, beta=20, threshold=20, deriv=False):\n",
    "  if deriv:\n",
    "    out = 1 / beta * 1 / (1 + torch.exp(beta * x)) * beta * torch.exp(beta * x)\n",
    "    out[beta * x > threshold] = 1\n",
    "    return out\n",
    "  return torch.nn.functional.softplus(x, beta=beta, threshold=threshold)\n",
    "\n",
    "def soft_rate(x, t_rc = T_RC, t_ref = T_REF, V_th = V_TH, deriv=False):\n",
    "  if deriv:\n",
    "    return rate(x, p=soft_plus, t_rc=t_rc, t_ref=t_ref, V_th=V_th, deriv=True)\n",
    "  return rate(x, p=soft_plus, t_rc=t_rc, t_ref=t_ref, V_th=V_th)\n",
    "\n",
    "def scaled_soft_rate(x, t_rc = T_RC, t_ref = T_REF, V_th = V_TH, scale = 0.05, deriv=False):\n",
    "  if deriv:\n",
    "    return soft_rate(x, t_rc=t_rc, t_ref=t_ref, V_th=V_th, deriv=True) * scale\n",
    "  return soft_rate(x, t_rc=t_rc, t_ref=t_ref, V_th=V_th) * scale\n",
    "\n",
    "def softmax(x, deriv=False):\n",
    "  if deriv:\n",
    "    # This is little unusual, but is required to calculate correct the correct partial derivate if e = x - u\n",
    "    return torch.ones_like(x) \n",
    "  return x.exp() / x.exp().sum(dim=1, keepdim=True)\n",
    "\n",
    "def onehot(x, n_classes):\n",
    "  return torch.eye(n_classes)[x]\n",
    "\n",
    "def get_weights_and_biases(in_features, out_features):\n",
    "  W = torch.randn((out_features, in_features)) * 2/math.sqrt(in_features)\n",
    "  b = torch.zeros(out_features)\n",
    "\n",
    "  return W, b"
   ]
  },
  {
   "cell_type": "code",
   "execution_count": 6,
   "id": "2319ed96",
   "metadata": {},
   "outputs": [
    {
     "data": {
      "image/png": "[encoded data removed]",
      "text/plain": [
       "<Figure size 432x288 with 1 Axes>"
      ]
     },
     "metadata": {
      "needs_background": "light"
     },
     "output_type": "display_data"
    }
   ],
   "source": [
    "x = torch.linspace(-1, 10, 1000)\n",
    "r = scaled_soft_rate(x)\n",
    "dr = scaled_soft_rate(x, deriv=True)\n",
    "\n",
    "plt.plot(x, r)\n",
    "plt.plot(x, dr)\n",
    "\n",
    "plt.show()"
   ]
  },
  {
   "cell_type": "markdown",
   "id": "c15b942f",
   "metadata": {},
   "source": [
    "# Back-propagation"
   ]
  },
  {
   "cell_type": "code",
   "execution_count": 13,
   "id": "86f86731",
   "metadata": {},
   "outputs": [],
   "source": [
    "# Define out layer sizes\n",
    "in_features = 784\n",
    "hidden1_features = 32\n",
    "hidden2_features = 32\n",
    "out_features = 10\n",
    "\n",
    "# Define weights and biases\n",
    "W1, b1 = get_weights_and_biases(in_features, hidden1_features)\n",
    "W2, b2 = get_weights_and_biases(hidden1_features, hidden2_features)\n",
    "W3, b3 = get_weights_and_biases(hidden2_features, out_features)\n",
    "\n",
    "activation1 = leaky_relu\n",
    "activation2 = leaky_relu\n",
    "activation3 = softmax"
   ]
  },
  {
   "cell_type": "code",
   "execution_count": null,
   "id": "331692ae",
   "metadata": {},
   "outputs": [],
   "source": [
    "# Baseline backprop model\n",
    "class MLP(nn.Module):\n",
    "  def __init__(self, in_features, hidden1_features, hidden2_features, out_features):\n",
    "    super().__init__()\n",
    "    self.l1 = nn.Linear(in_features, hidden1_features)\n",
    "    self.l2 = nn.Linear(hidden1_features, hidden2_features)\n",
    "    self.l3 = nn.Linear(hidden2_features, out_features)\n",
    "\n",
    "    # Start with exactly the same weights.\n",
    "    with torch.no_grad():\n",
    "      self.l1.weight.copy_(W1)\n",
    "      self.l1.bias.copy_(b1)\n",
    "      self.l2.weight.copy_(W2)\n",
    "      self.l2.bias.copy_(b2)\n",
    "      self.l3.weight.copy_(W3)\n",
    "      self.l3.bias.copy_(b3)\n",
    "\n",
    "  def forward(self, x):\n",
    "    x = activation1(self.l1(x))\n",
    "    x = activation2(self.l2(x))\n",
    "    x = self.l3(x)\n",
    "    return x\n",
    "\n",
    "\n",
    "model = MLP(in_features, hidden1_features, hidden2_features, out_features)"
   ]
  },
  {
   "cell_type": "code",
   "execution_count": 17,
   "id": "af315349",
   "metadata": {},
   "outputs": [],
   "source": [
    "loss_history = []\n",
    "accuracy_history = []\n",
    "step = 0\n",
    "accuracy = 0\n",
    "loss = None"
   ]
  },
  {
   "cell_type": "code",
   "execution_count": 18,
   "id": "9fbfc074",
   "metadata": {},
   "outputs": [
    {
     "ename": "NameError",
     "evalue": "name 'model' is not defined",
     "output_type": "error",
     "traceback": [
      "\u001b[0;31m---------------------------------------------------------------------------\u001b[0m",
      "\u001b[0;31mNameError\u001b[0m                                 Traceback (most recent call last)",
      "\u001b[0;32m/var/folders/vs/ylfhyw117z1g5xvn55z8jr3c0000gp/T/ipykernel_61660/3604429192.py\u001b[0m in \u001b[0;36m<module>\u001b[0;34m\u001b[0m\n\u001b[1;32m      1\u001b[0m \u001b[0mlr\u001b[0m \u001b[0;34m=\u001b[0m \u001b[0;36m1e-1\u001b[0m\u001b[0;34m\u001b[0m\u001b[0;34m\u001b[0m\u001b[0m\n\u001b[1;32m      2\u001b[0m \u001b[0mcriterion\u001b[0m \u001b[0;34m=\u001b[0m \u001b[0mnn\u001b[0m\u001b[0;34m.\u001b[0m\u001b[0mCrossEntropyLoss\u001b[0m\u001b[0;34m(\u001b[0m\u001b[0;34m)\u001b[0m\u001b[0;34m\u001b[0m\u001b[0;34m\u001b[0m\u001b[0m\n\u001b[0;32m----> 3\u001b[0;31m \u001b[0moptimizer\u001b[0m \u001b[0;34m=\u001b[0m \u001b[0mtorch\u001b[0m\u001b[0;34m.\u001b[0m\u001b[0moptim\u001b[0m\u001b[0;34m.\u001b[0m\u001b[0mSGD\u001b[0m\u001b[0;34m(\u001b[0m\u001b[0mmodel\u001b[0m\u001b[0;34m.\u001b[0m\u001b[0mparameters\u001b[0m\u001b[0;34m(\u001b[0m\u001b[0;34m)\u001b[0m\u001b[0;34m,\u001b[0m \u001b[0mlr\u001b[0m\u001b[0;34m=\u001b[0m\u001b[0mlr\u001b[0m\u001b[0;34m)\u001b[0m\u001b[0;34m\u001b[0m\u001b[0;34m\u001b[0m\u001b[0m\n\u001b[0m",
      "\u001b[0;31mNameError\u001b[0m: name 'model' is not defined"
     ]
    }
   ],
   "source": [
    "lr = 1e-1\n",
    "criterion = nn.CrossEntropyLoss()\n",
    "optimizer = torch.optim.SGD(model.parameters(), lr=lr)"
   ]
  },
  {
   "cell_type": "code",
   "execution_count": null,
   "id": "3261c53d",
   "metadata": {},
   "outputs": [
    {
     "name": "stdout",
     "output_type": "stream",
     "text": [
      "Epoch 1\n"
     ]
    },
    {
     "data": {
      "application/vnd.jupyter.widget-view+json": {
       "model_id": "5dc00904afb1480b9593f1915cde8f17",
       "version_major": 2,
       "version_minor": 0
      },
      "text/plain": [
       "  0%|          | 0/938 [00:00<?, ?it/s]"
      ]
     },
     "metadata": {},
     "output_type": "display_data"
    }
   ],
   "source": [
    "for epoch in range(1):\n",
    "  print(f\"Epoch {epoch+1}\")\n",
    "  tqdm_train_data = tqdm(train_data)\n",
    "  for images, labels in tqdm_train_data:\n",
    "    step += 1\n",
    "\n",
    "    optimizer.zero_grad()\n",
    "    x0 = images.flatten(start_dim=1)\n",
    "\n",
    "    pred = model(x0)\n",
    "    loss = criterion(pred, labels)\n",
    "    loss.backward()\n",
    "    \n",
    "    loss_history.append((step, loss.item()))\n",
    "\n",
    "    tqdm_train_data.set_description(f\"Training - Loss: {loss.item():.4f} - Accuracy: {accuracy*100:.2f}%\")\n",
    "\n",
    "    optimizer.step()\n",
    "\n",
    "    if step % 100 == 0: \n",
    "      model.eval()\n",
    "      tqdm_train_data.set_description(f\"Testing - Loss: {loss.item():.4f} - Accuracy: {accuracy*100:.2f}%\")\n",
    "      tested = 0\n",
    "      correct = 0\n",
    "      for images, labels in test_data:\n",
    "        x0 = images.flatten(start_dim=1)\n",
    "        x3_pred = model(x0)\n",
    "        pred_labels = x3_pred.argmax(dim=1)\n",
    "\n",
    "        tested += len(pred_labels)\n",
    "        correct += (pred_labels == labels).sum()\n",
    "      accuracy = correct / tested\n",
    "      \n",
    "\n",
    "      accuracy_history.append((step, accuracy))\n",
    "      model.train()\n",
    "    "
   ]
  },
  {
   "cell_type": "code",
   "execution_count": null,
   "id": "6f62f928",
   "metadata": {},
   "outputs": [
    {
     "data": {
      "image/png": "[encoded data removed]",
      "text/plain": [
       "<Figure size 432x288 with 1 Axes>"
      ]
     },
     "metadata": {
      "needs_background": "light"
     },
     "output_type": "display_data"
    }
   ],
   "source": [
    "plt.plot(*zip(*loss_history))\n",
    "plt.show()"
   ]
  },
  {
   "cell_type": "code",
   "execution_count": null,
   "id": "7a096b34",
   "metadata": {},
   "outputs": [
    {
     "data": {
      "image/png": "[encoded data removed]",
      "text/plain": [
       "<Figure size 432x288 with 1 Axes>"
      ]
     },
     "metadata": {
      "needs_background": "light"
     },
     "output_type": "display_data"
    }
   ],
   "source": [
    "plt.plot(*zip(*accuracy_history))\n",
    "plt.show()"
   ]
  },
  {
   "cell_type": "code",
   "execution_count": null,
   "id": "4117fd4b",
   "metadata": {},
   "outputs": [],
   "source": [
    "# Save loss and accuracy history\n",
    "torch.save(loss_history, \"../results/backprop-loss_history.pt\")\n",
    "torch.save(accuracy_history, \"../results/backprop-accuracy_history.pt\")"
   ]
  },
  {
   "cell_type": "code",
   "execution_count": null,
   "id": "417408e9",
   "metadata": {},
   "outputs": [],
   "source": [
    "torch.save(model.state_dict(), \"../results/backprop/model.py\")"
   ]
  },
  {
   "cell_type": "code",
   "execution_count": null,
   "id": "5ae7e5d1",
   "metadata": {},
   "outputs": [
    {
     "ename": "KeyboardInterrupt",
     "evalue": "",
     "output_type": "error",
     "traceback": [
      "\u001b[0;31m---------------------------------------------------------------------------\u001b[0m",
      "\u001b[0;31mKeyboardInterrupt\u001b[0m                         Traceback (most recent call last)",
      "\u001b[0;32m/var/folders/vs/ylfhyw117z1g5xvn55z8jr3c0000gp/T/ipykernel_56192/476898173.py\u001b[0m in \u001b[0;36m<module>\u001b[0;34m\u001b[0m\n\u001b[1;32m      3\u001b[0m \u001b[0;32mfor\u001b[0m \u001b[0mimages\u001b[0m\u001b[0;34m,\u001b[0m \u001b[0mlabels\u001b[0m \u001b[0;32min\u001b[0m \u001b[0mtest_data\u001b[0m\u001b[0;34m:\u001b[0m\u001b[0;34m\u001b[0m\u001b[0;34m\u001b[0m\u001b[0m\n\u001b[1;32m      4\u001b[0m   \u001b[0mx0\u001b[0m \u001b[0;34m=\u001b[0m \u001b[0mimages\u001b[0m\u001b[0;34m.\u001b[0m\u001b[0mflatten\u001b[0m\u001b[0;34m(\u001b[0m\u001b[0mstart_dim\u001b[0m\u001b[0;34m=\u001b[0m\u001b[0;36m1\u001b[0m\u001b[0;34m)\u001b[0m\u001b[0;34m\u001b[0m\u001b[0;34m\u001b[0m\u001b[0m\n\u001b[0;32m----> 5\u001b[0;31m   \u001b[0mx3_pred\u001b[0m \u001b[0;34m=\u001b[0m \u001b[0mmodel\u001b[0m\u001b[0;34m(\u001b[0m\u001b[0mx0\u001b[0m\u001b[0;34m)\u001b[0m\u001b[0;34m\u001b[0m\u001b[0;34m\u001b[0m\u001b[0m\n\u001b[0m\u001b[1;32m      6\u001b[0m   \u001b[0mpred_labels\u001b[0m \u001b[0;34m=\u001b[0m \u001b[0mx3_pred\u001b[0m\u001b[0;34m.\u001b[0m\u001b[0margmax\u001b[0m\u001b[0;34m(\u001b[0m\u001b[0mdim\u001b[0m\u001b[0;34m=\u001b[0m\u001b[0;36m1\u001b[0m\u001b[0;34m)\u001b[0m\u001b[0;34m\u001b[0m\u001b[0;34m\u001b[0m\u001b[0m\n\u001b[1;32m      7\u001b[0m \u001b[0;34m\u001b[0m\u001b[0m\n",
      "\u001b[0;32m/opt/homebrew/Caskroom/miniforge/base/envs/bachelor-project/lib/python3.9/site-packages/torch/nn/modules/module.py\u001b[0m in \u001b[0;36m_call_impl\u001b[0;34m(self, *input, **kwargs)\u001b[0m\n\u001b[1;32m   1100\u001b[0m         if not (self._backward_hooks or self._forward_hooks or self._forward_pre_hooks or _global_backward_hooks\n\u001b[1;32m   1101\u001b[0m                 or _global_forward_hooks or _global_forward_pre_hooks):\n\u001b[0;32m-> 1102\u001b[0;31m             \u001b[0;32mreturn\u001b[0m \u001b[0mforward_call\u001b[0m\u001b[0;34m(\u001b[0m\u001b[0;34m*\u001b[0m\u001b[0minput\u001b[0m\u001b[0;34m,\u001b[0m \u001b[0;34m**\u001b[0m\u001b[0mkwargs\u001b[0m\u001b[0;34m)\u001b[0m\u001b[0;34m\u001b[0m\u001b[0;34m\u001b[0m\u001b[0m\n\u001b[0m\u001b[1;32m   1103\u001b[0m         \u001b[0;31m# Do not call functions when jit is used\u001b[0m\u001b[0;34m\u001b[0m\u001b[0;34m\u001b[0m\u001b[0m\n\u001b[1;32m   1104\u001b[0m         \u001b[0mfull_backward_hooks\u001b[0m\u001b[0;34m,\u001b[0m \u001b[0mnon_full_backward_hooks\u001b[0m \u001b[0;34m=\u001b[0m \u001b[0;34m[\u001b[0m\u001b[0;34m]\u001b[0m\u001b[0;34m,\u001b[0m \u001b[0;34m[\u001b[0m\u001b[0;34m]\u001b[0m\u001b[0;34m\u001b[0m\u001b[0;34m\u001b[0m\u001b[0m\n",
      "\u001b[0;32m/var/folders/vs/ylfhyw117z1g5xvn55z8jr3c0000gp/T/ipykernel_56192/1253878852.py\u001b[0m in \u001b[0;36mforward\u001b[0;34m(self, x)\u001b[0m\n\u001b[1;32m     17\u001b[0m \u001b[0;34m\u001b[0m\u001b[0m\n\u001b[1;32m     18\u001b[0m   \u001b[0;32mdef\u001b[0m \u001b[0mforward\u001b[0m\u001b[0;34m(\u001b[0m\u001b[0mself\u001b[0m\u001b[0;34m,\u001b[0m \u001b[0mx\u001b[0m\u001b[0;34m)\u001b[0m\u001b[0;34m:\u001b[0m\u001b[0;34m\u001b[0m\u001b[0;34m\u001b[0m\u001b[0m\n\u001b[0;32m---> 19\u001b[0;31m     \u001b[0mx\u001b[0m \u001b[0;34m=\u001b[0m \u001b[0mactivation1\u001b[0m\u001b[0;34m(\u001b[0m\u001b[0mself\u001b[0m\u001b[0;34m.\u001b[0m\u001b[0ml1\u001b[0m\u001b[0;34m(\u001b[0m\u001b[0mx\u001b[0m\u001b[0;34m)\u001b[0m\u001b[0;34m)\u001b[0m\u001b[0;34m\u001b[0m\u001b[0;34m\u001b[0m\u001b[0m\n\u001b[0m\u001b[1;32m     20\u001b[0m     \u001b[0mx\u001b[0m \u001b[0;34m=\u001b[0m \u001b[0mactivation2\u001b[0m\u001b[0;34m(\u001b[0m\u001b[0mself\u001b[0m\u001b[0;34m.\u001b[0m\u001b[0ml2\u001b[0m\u001b[0;34m(\u001b[0m\u001b[0mx\u001b[0m\u001b[0;34m)\u001b[0m\u001b[0;34m)\u001b[0m\u001b[0;34m\u001b[0m\u001b[0;34m\u001b[0m\u001b[0m\n\u001b[1;32m     21\u001b[0m     \u001b[0mx\u001b[0m \u001b[0;34m=\u001b[0m \u001b[0mself\u001b[0m\u001b[0;34m.\u001b[0m\u001b[0ml3\u001b[0m\u001b[0;34m(\u001b[0m\u001b[0mx\u001b[0m\u001b[0;34m)\u001b[0m\u001b[0;34m\u001b[0m\u001b[0;34m\u001b[0m\u001b[0m\n",
      "\u001b[0;32m/opt/homebrew/Caskroom/miniforge/base/envs/bachelor-project/lib/python3.9/site-packages/torch/nn/modules/module.py\u001b[0m in \u001b[0;36m_call_impl\u001b[0;34m(self, *input, **kwargs)\u001b[0m\n\u001b[1;32m   1100\u001b[0m         if not (self._backward_hooks or self._forward_hooks or self._forward_pre_hooks or _global_backward_hooks\n\u001b[1;32m   1101\u001b[0m                 or _global_forward_hooks or _global_forward_pre_hooks):\n\u001b[0;32m-> 1102\u001b[0;31m             \u001b[0;32mreturn\u001b[0m \u001b[0mforward_call\u001b[0m\u001b[0;34m(\u001b[0m\u001b[0;34m*\u001b[0m\u001b[0minput\u001b[0m\u001b[0;34m,\u001b[0m \u001b[0;34m**\u001b[0m\u001b[0mkwargs\u001b[0m\u001b[0;34m)\u001b[0m\u001b[0;34m\u001b[0m\u001b[0;34m\u001b[0m\u001b[0m\n\u001b[0m\u001b[1;32m   1103\u001b[0m         \u001b[0;31m# Do not call functions when jit is used\u001b[0m\u001b[0;34m\u001b[0m\u001b[0;34m\u001b[0m\u001b[0m\n\u001b[1;32m   1104\u001b[0m         \u001b[0mfull_backward_hooks\u001b[0m\u001b[0;34m,\u001b[0m \u001b[0mnon_full_backward_hooks\u001b[0m \u001b[0;34m=\u001b[0m \u001b[0;34m[\u001b[0m\u001b[0;34m]\u001b[0m\u001b[0;34m,\u001b[0m \u001b[0;34m[\u001b[0m\u001b[0;34m]\u001b[0m\u001b[0;34m\u001b[0m\u001b[0;34m\u001b[0m\u001b[0m\n",
      "\u001b[0;32m/opt/homebrew/Caskroom/miniforge/base/envs/bachelor-project/lib/python3.9/site-packages/torch/nn/modules/linear.py\u001b[0m in \u001b[0;36mforward\u001b[0;34m(self, input)\u001b[0m\n\u001b[1;32m    101\u001b[0m \u001b[0;34m\u001b[0m\u001b[0m\n\u001b[1;32m    102\u001b[0m     \u001b[0;32mdef\u001b[0m \u001b[0mforward\u001b[0m\u001b[0;34m(\u001b[0m\u001b[0mself\u001b[0m\u001b[0;34m,\u001b[0m \u001b[0minput\u001b[0m\u001b[0;34m:\u001b[0m \u001b[0mTensor\u001b[0m\u001b[0;34m)\u001b[0m \u001b[0;34m->\u001b[0m \u001b[0mTensor\u001b[0m\u001b[0;34m:\u001b[0m\u001b[0;34m\u001b[0m\u001b[0;34m\u001b[0m\u001b[0m\n\u001b[0;32m--> 103\u001b[0;31m         \u001b[0;32mreturn\u001b[0m \u001b[0mF\u001b[0m\u001b[0;34m.\u001b[0m\u001b[0mlinear\u001b[0m\u001b[0;34m(\u001b[0m\u001b[0minput\u001b[0m\u001b[0;34m,\u001b[0m \u001b[0mself\u001b[0m\u001b[0;34m.\u001b[0m\u001b[0mweight\u001b[0m\u001b[0;34m,\u001b[0m \u001b[0mself\u001b[0m\u001b[0;34m.\u001b[0m\u001b[0mbias\u001b[0m\u001b[0;34m)\u001b[0m\u001b[0;34m\u001b[0m\u001b[0;34m\u001b[0m\u001b[0m\n\u001b[0m\u001b[1;32m    104\u001b[0m \u001b[0;34m\u001b[0m\u001b[0m\n\u001b[1;32m    105\u001b[0m     \u001b[0;32mdef\u001b[0m \u001b[0mextra_repr\u001b[0m\u001b[0;34m(\u001b[0m\u001b[0mself\u001b[0m\u001b[0;34m)\u001b[0m \u001b[0;34m->\u001b[0m \u001b[0mstr\u001b[0m\u001b[0;34m:\u001b[0m\u001b[0;34m\u001b[0m\u001b[0;34m\u001b[0m\u001b[0m\n",
      "\u001b[0;32m/opt/homebrew/Caskroom/miniforge/base/envs/bachelor-project/lib/python3.9/site-packages/torch/nn/functional.py\u001b[0m in \u001b[0;36mlinear\u001b[0;34m(input, weight, bias)\u001b[0m\n\u001b[1;32m   1846\u001b[0m     \u001b[0;32mif\u001b[0m \u001b[0mhas_torch_function_variadic\u001b[0m\u001b[0;34m(\u001b[0m\u001b[0minput\u001b[0m\u001b[0;34m,\u001b[0m \u001b[0mweight\u001b[0m\u001b[0;34m,\u001b[0m \u001b[0mbias\u001b[0m\u001b[0;34m)\u001b[0m\u001b[0;34m:\u001b[0m\u001b[0;34m\u001b[0m\u001b[0;34m\u001b[0m\u001b[0m\n\u001b[1;32m   1847\u001b[0m         \u001b[0;32mreturn\u001b[0m \u001b[0mhandle_torch_function\u001b[0m\u001b[0;34m(\u001b[0m\u001b[0mlinear\u001b[0m\u001b[0;34m,\u001b[0m \u001b[0;34m(\u001b[0m\u001b[0minput\u001b[0m\u001b[0;34m,\u001b[0m \u001b[0mweight\u001b[0m\u001b[0;34m,\u001b[0m \u001b[0mbias\u001b[0m\u001b[0;34m)\u001b[0m\u001b[0;34m,\u001b[0m \u001b[0minput\u001b[0m\u001b[0;34m,\u001b[0m \u001b[0mweight\u001b[0m\u001b[0;34m,\u001b[0m \u001b[0mbias\u001b[0m\u001b[0;34m=\u001b[0m\u001b[0mbias\u001b[0m\u001b[0;34m)\u001b[0m\u001b[0;34m\u001b[0m\u001b[0;34m\u001b[0m\u001b[0m\n\u001b[0;32m-> 1848\u001b[0;31m     \u001b[0;32mreturn\u001b[0m \u001b[0mtorch\u001b[0m\u001b[0;34m.\u001b[0m\u001b[0m_C\u001b[0m\u001b[0;34m.\u001b[0m\u001b[0m_nn\u001b[0m\u001b[0;34m.\u001b[0m\u001b[0mlinear\u001b[0m\u001b[0;34m(\u001b[0m\u001b[0minput\u001b[0m\u001b[0;34m,\u001b[0m \u001b[0mweight\u001b[0m\u001b[0;34m,\u001b[0m \u001b[0mbias\u001b[0m\u001b[0;34m)\u001b[0m\u001b[0;34m\u001b[0m\u001b[0;34m\u001b[0m\u001b[0m\n\u001b[0m\u001b[1;32m   1849\u001b[0m \u001b[0;34m\u001b[0m\u001b[0m\n\u001b[1;32m   1850\u001b[0m \u001b[0;34m\u001b[0m\u001b[0m\n",
      "\u001b[0;31mKeyboardInterrupt\u001b[0m: "
     ]
    }
   ],
   "source": [
    "tested = 0\n",
    "correct = 0\n",
    "for images, labels in test_data:\n",
    "  x0 = images.flatten(start_dim=1)\n",
    "  x3_pred = model(x0)\n",
    "  pred_labels = x3_pred.argmax(dim=1)\n",
    "\n",
    "  tested += len(pred_labels)\n",
    "  correct += (pred_labels == labels).sum()\n",
    "\n",
    "accuracy = correct / tested\n",
    "print(f\"Accuracy: {accuracy * 100}%\")"
   ]
  },
  {
   "cell_type": "code",
   "execution_count": null,
   "id": "0542abb5",
   "metadata": {},
   "outputs": [
    {
     "name": "stdout",
     "output_type": "stream",
     "text": [
      "tensor(1.6816)\n",
      "tensor(1.6816)\n"
     ]
    }
   ],
   "source": [
    "logits = torch.tensor([[2.0, 5.0, 2.0, 2.0, 2.0], [2.0, 5.0, 2.0, 2.0, 2.0]])\n",
    "pred = softmax(logits)\n",
    "labels = torch.tensor([1, 2])\n",
    "\n",
    "print(nn.CrossEntropyLoss()(logits, labels))\n",
    "print(-(torch.log(pred) * torch.stack([onehot(label, pred.shape[1]) for label in labels])).sum(dim=1).mean())"
   ]
  },
  {
   "cell_type": "markdown",
   "id": "cf9684f9",
   "metadata": {},
   "source": [
    "# Inference Learning"
   ]
  },
  {
   "cell_type": "code",
   "execution_count": null,
   "id": "68f81b89",
   "metadata": {},
   "outputs": [
    {
     "ename": "NameError",
     "evalue": "name 'get_weights_and_biases' is not defined",
     "output_type": "error",
     "traceback": [
      "\u001b[0;31m---------------------------------------------------------------------------\u001b[0m",
      "\u001b[0;31mNameError\u001b[0m                                 Traceback (most recent call last)",
      "\u001b[0;32m/var/folders/vs/ylfhyw117z1g5xvn55z8jr3c0000gp/T/ipykernel_58547/1499758797.py\u001b[0m in \u001b[0;36m<module>\u001b[0;34m\u001b[0m\n\u001b[1;32m      6\u001b[0m \u001b[0;34m\u001b[0m\u001b[0m\n\u001b[1;32m      7\u001b[0m \u001b[0;31m# Define weights and biases\u001b[0m\u001b[0;34m\u001b[0m\u001b[0;34m\u001b[0m\u001b[0m\n\u001b[0;32m----> 8\u001b[0;31m \u001b[0mW1\u001b[0m\u001b[0;34m,\u001b[0m \u001b[0mb1\u001b[0m \u001b[0;34m=\u001b[0m \u001b[0mget_weights_and_biases\u001b[0m\u001b[0;34m(\u001b[0m\u001b[0min_features\u001b[0m\u001b[0;34m,\u001b[0m \u001b[0mhidden1_features\u001b[0m\u001b[0;34m)\u001b[0m\u001b[0;34m\u001b[0m\u001b[0;34m\u001b[0m\u001b[0m\n\u001b[0m\u001b[1;32m      9\u001b[0m \u001b[0mW2\u001b[0m\u001b[0;34m,\u001b[0m \u001b[0mb2\u001b[0m \u001b[0;34m=\u001b[0m \u001b[0mget_weights_and_biases\u001b[0m\u001b[0;34m(\u001b[0m\u001b[0mhidden1_features\u001b[0m\u001b[0;34m,\u001b[0m \u001b[0mhidden2_features\u001b[0m\u001b[0;34m)\u001b[0m\u001b[0;34m\u001b[0m\u001b[0;34m\u001b[0m\u001b[0m\n\u001b[1;32m     10\u001b[0m \u001b[0mW3\u001b[0m\u001b[0;34m,\u001b[0m \u001b[0mb3\u001b[0m \u001b[0;34m=\u001b[0m \u001b[0mget_weights_and_biases\u001b[0m\u001b[0;34m(\u001b[0m\u001b[0mhidden2_features\u001b[0m\u001b[0;34m,\u001b[0m \u001b[0mout_features\u001b[0m\u001b[0;34m)\u001b[0m\u001b[0;34m\u001b[0m\u001b[0;34m\u001b[0m\u001b[0m\n",
      "\u001b[0;31mNameError\u001b[0m: name 'get_weights_and_biases' is not defined"
     ]
    }
   ],
   "source": [
    "# Define out layer sizes\n",
    "in_features = 784\n",
    "hidden1_features = 32\n",
    "hidden2_features = 32\n",
    "out_features = 10\n",
    "\n",
    "# Define weights and biases\n",
    "W1, b1 = get_weights_and_biases(in_features, hidden1_features)\n",
    "W2, b2 = get_weights_and_biases(hidden1_features, hidden2_features)\n",
    "W3, b3 = get_weights_and_biases(hidden2_features, out_features)\n",
    "\n",
    "activation1 = leaky_relu\n",
    "activation2 = leaky_relu\n",
    "activation3 = softmax"
   ]
  },
  {
   "cell_type": "code",
   "execution_count": null,
   "id": "b4ed4d9d",
   "metadata": {},
   "outputs": [],
   "source": [
    "loss_history = []\n",
    "accuracy_history = []\n",
    "accuracy = 0\n",
    "loss = 0\n",
    "step = 0"
   ]
  },
  {
   "cell_type": "code",
   "execution_count": null,
   "id": "441be1c2",
   "metadata": {},
   "outputs": [],
   "source": [
    "# Setup hyperparameters\n",
    "ir = 4e-1 # Inference rate\n",
    "lr = 1e-1 # Learning rate\n",
    "\n",
    "# Should we just test the inference part\n",
    "test = True"
   ]
  },
  {
   "cell_type": "code",
   "execution_count": null,
   "id": "bae4d3bf",
   "metadata": {},
   "outputs": [
    {
     "name": "stdout",
     "output_type": "stream",
     "text": [
      "Epoch 1\n"
     ]
    },
    {
     "data": {
      "application/vnd.jupyter.widget-view+json": {
       "model_id": "53ab25a867d3469ba23878b65b33d818",
       "version_major": 2,
       "version_minor": 0
      },
      "text/plain": [
       "  0%|          | 0/938 [00:00<?, ?it/s]"
      ]
     },
     "metadata": {},
     "output_type": "display_data"
    },
    {
     "data": {
      "image/png": "[encoded data removed]",
      "text/plain": [
       "<Figure size 432x288 with 1 Axes>"
      ]
     },
     "metadata": {
      "needs_background": "light"
     },
     "output_type": "display_data"
    },
    {
     "data": {
      "image/png": "[encoded data removed]",
      "text/plain": [
       "<Figure size 432x288 with 1 Axes>"
      ]
     },
     "metadata": {
      "needs_background": "light"
     },
     "output_type": "display_data"
    },
    {
     "data": {
      "image/png": "[encoded data removed]",
      "text/plain": [
       "<Figure size 432x288 with 1 Axes>"
      ]
     },
     "metadata": {
      "needs_background": "light"
     },
     "output_type": "display_data"
    },
    {
     "data": {
      "image/png": "[encoded data removed]",
      "text/plain": [
       "<Figure size 432x288 with 1 Axes>"
      ]
     },
     "metadata": {
      "needs_background": "light"
     },
     "output_type": "display_data"
    }
   ],
   "source": [
    "# Training loop\n",
    "for epoch in range(1):\n",
    "  print(f\"Epoch {epoch+1}\")\n",
    "  tqdm_train_data = tqdm(train_data)\n",
    "  for images, labels in tqdm_train_data:\n",
    "    step += 1\n",
    "    x0 = images.flatten(start_dim=1)\n",
    "    batch_dim = x0.shape[0]\n",
    "    x1 = torch.zeros((batch_dim, hidden1_features))\n",
    "    x2 = torch.zeros((batch_dim, hidden2_features))\n",
    "    x3 = torch.zeros((batch_dim, out_features))\n",
    "\n",
    "    x4 = onehot(labels, n_classes=10) # Constrain output to be the correct labels.\n",
    "\n",
    "    x4_pred = activation3(activation2(activation1(x0 @ W1.T + b1) @ W2.T + b2) @ W3.T + b3)\n",
    "\n",
    "    loss = -(torch.log(x4_pred) * x4).sum(dim=1).mean()\n",
    "    tqdm_train_data.set_description(f\"Training - Loss: {loss:.4f} - Accuracy: {accuracy*100:.2f}%\")\n",
    "    loss_history.append((step, loss))\n",
    "    errors_history = []\n",
    "\n",
    "    # Run predictive coding inference. \n",
    "    for t in range(300):\n",
    "      u1 = x0 @ W1.T + b1\n",
    "      u2 = activation1(x1) @ W2.T + b2\n",
    "      u3 = activation2(x2) @ W3.T + b3\n",
    "      u4 = activation3(x3)\n",
    "\n",
    "      # Calculate errors\n",
    "      e1 = x1 - u1\n",
    "      e2 = x2 - u2\n",
    "      e3 = x3 - u3\n",
    "      e4 = x4 - u4\n",
    "\n",
    "      # Canculate derivatives\n",
    "      dx1 = -e1 + activation1(x1, deriv=True) * (e2 @ W2)\n",
    "      dx2 = -e2 + activation2(x2, deriv=True) * (e3 @ W3)\n",
    "      dx3 = -e3 + activation3(x3, deriv=True) * (e4)\n",
    "      #dx4 = -e4 # Only do this during prediction\n",
    "\n",
    "      # Do actual steps\n",
    "      x1 += ir * dx1\n",
    "      x2 += ir * dx2\n",
    "      x3 += ir * dx3\n",
    "      #x4 -= ir * dx4 # Only do this during inference.\n",
    "\n",
    "      if test:\n",
    "        errors_history.append(((e1 ** 2).mean(), (e2 ** 2).mean(), (e3 ** 2).mean(), (e4 ** 2).mean()))\n",
    "\n",
    "    error_histories = zip(*errors_history)\n",
    "    for error_history in error_histories:\n",
    "      plt.plot(error_history)\n",
    "      plt.show()\n",
    "      \n",
    "    if test:\n",
    "      break\n",
    "\n",
    "    # Calculate gradients\n",
    "    dW1 = e1[:, :, None] @ x0[:, None, :]\n",
    "    dW2 = e2[:, :, None] @ activation1(x1)[:, None, :]\n",
    "    dW3 = e3[:, :, None] @ activation2(x2)[:, None, :]\n",
    "\n",
    "    db1 = e1\n",
    "    db2 = e2\n",
    "    db3 = e3\n",
    "\n",
    "    # Perform weight update here.\n",
    "    W1 += lr * dW1.mean(dim=0)\n",
    "    b1 += lr * db1.mean(dim=0)\n",
    "\n",
    "    W2 += lr * dW2.mean(dim=0)\n",
    "    b2 += lr * db2.mean(dim=0)\n",
    "\n",
    "    W3 += lr * dW3.mean(dim=0)\n",
    "    b3 += lr * db3.mean(dim=0)\n",
    "\n",
    "    if step % 100 == 0:\n",
    "      tqdm_train_data.set_description(f\"Testing - Loss: {loss.item():.4f} - Accuracy: {accuracy*100:.2f}%\")\n",
    "      tested = 0\n",
    "      correct = 0\n",
    "      for images, labels in test_data:\n",
    "        x0 = images.flatten(start_dim=1)\n",
    "        pred = activation3(activation2(activation1(x0 @ W1.T + b1) @ W2.T + b2) @ W3.T + b3)\n",
    "        pred_labels = pred.argmax(dim=1)\n",
    "\n",
    "        tested += len(pred_labels)\n",
    "        correct += (pred_labels == labels).sum()\n",
    "\n",
    "      accuracy = correct / tested\n",
    "      accuracy_history.append((step, accuracy))\n",
    "\n",
    "  if test:\n",
    "    break"
   ]
  },
  {
   "cell_type": "code",
   "execution_count": null,
   "id": "86993106",
   "metadata": {},
   "outputs": [
    {
     "name": "stdout",
     "output_type": "stream",
     "text": [
      "Epoch 1\n"
     ]
    },
    {
     "data": {
      "application/vnd.jupyter.widget-view+json": {
       "model_id": "271938ba113c4fe3897c078851208f56",
       "version_major": 2,
       "version_minor": 0
      },
      "text/plain": [
       "  0%|          | 0/938 [00:00<?, ?it/s]"
      ]
     },
     "metadata": {},
     "output_type": "display_data"
    },
    {
     "name": "stdout",
     "output_type": "stream",
     "text": [
      "torch.Size([64, 32]) torch.Size([64, 32]) torch.Size([64, 10]) torch.Size([10, 32])\n",
      "torch.Size([64, 32]) torch.Size([64, 32]) torch.Size([64, 10]) torch.Size([10, 32])\n",
      "torch.Size([64, 32]) torch.Size([64, 32]) torch.Size([64, 10]) torch.Size([10, 32])\n",
      "torch.Size([64, 32]) torch.Size([64, 32]) torch.Size([64, 10]) torch.Size([10, 32])\n",
      "torch.Size([64, 32]) torch.Size([64, 32]) torch.Size([64, 10]) torch.Size([10, 32])\n",
      "torch.Size([64, 32]) torch.Size([64, 32]) torch.Size([64, 10]) torch.Size([10, 32])\n",
      "torch.Size([64, 32]) torch.Size([64, 32]) torch.Size([64, 10]) torch.Size([10, 32])\n",
      "torch.Size([64, 32]) torch.Size([64, 32]) torch.Size([64, 10]) torch.Size([10, 32])\n",
      "torch.Size([64, 32]) torch.Size([64, 32]) torch.Size([64, 10]) torch.Size([10, 32])\n",
      "torch.Size([64, 32]) torch.Size([64, 32]) torch.Size([64, 10]) torch.Size([10, 32])\n",
      "torch.Size([64, 32]) torch.Size([64, 32]) torch.Size([64, 10]) torch.Size([10, 32])\n",
      "torch.Size([64, 32]) torch.Size([64, 32]) torch.Size([64, 10]) torch.Size([10, 32])\n",
      "torch.Size([64, 32]) torch.Size([64, 32]) torch.Size([64, 10]) torch.Size([10, 32])\n",
      "torch.Size([64, 32]) torch.Size([64, 32]) torch.Size([64, 10]) torch.Size([10, 32])\n",
      "torch.Size([64, 32]) torch.Size([64, 32]) torch.Size([64, 10]) torch.Size([10, 32])\n",
      "torch.Size([64, 32]) torch.Size([64, 32]) torch.Size([64, 10]) torch.Size([10, 32])\n",
      "torch.Size([64, 32]) torch.Size([64, 32]) torch.Size([64, 10]) torch.Size([10, 32])\n",
      "torch.Size([64, 32]) torch.Size([64, 32]) torch.Size([64, 10]) torch.Size([10, 32])\n",
      "torch.Size([64, 32]) torch.Size([64, 32]) torch.Size([64, 10]) torch.Size([10, 32])\n",
      "torch.Size([64, 32]) torch.Size([64, 32]) torch.Size([64, 10]) torch.Size([10, 32])\n",
      "torch.Size([64, 32]) torch.Size([64, 32]) torch.Size([64, 10]) torch.Size([10, 32])\n",
      "torch.Size([64, 32]) torch.Size([64, 32]) torch.Size([64, 10]) torch.Size([10, 32])\n",
      "torch.Size([64, 32]) torch.Size([64, 32]) torch.Size([64, 10]) torch.Size([10, 32])\n",
      "torch.Size([64, 32]) torch.Size([64, 32]) torch.Size([64, 10]) torch.Size([10, 32])\n",
      "torch.Size([64, 32]) torch.Size([64, 32]) torch.Size([64, 10]) torch.Size([10, 32])\n",
      "torch.Size([64, 32]) torch.Size([64, 32]) torch.Size([64, 10]) torch.Size([10, 32])\n",
      "torch.Size([64, 32]) torch.Size([64, 32]) torch.Size([64, 10]) torch.Size([10, 32])\n",
      "torch.Size([64, 32]) torch.Size([64, 32]) torch.Size([64, 10]) torch.Size([10, 32])\n",
      "torch.Size([64, 32]) torch.Size([64, 32]) torch.Size([64, 10]) torch.Size([10, 32])\n",
      "torch.Size([64, 32]) torch.Size([64, 32]) torch.Size([64, 10]) torch.Size([10, 32])\n",
      "torch.Size([64, 32]) torch.Size([64, 32]) torch.Size([64, 10]) torch.Size([10, 32])\n",
      "torch.Size([64, 32]) torch.Size([64, 32]) torch.Size([64, 10]) torch.Size([10, 32])\n",
      "torch.Size([64, 32]) torch.Size([64, 32]) torch.Size([64, 10]) torch.Size([10, 32])\n",
      "torch.Size([64, 32]) torch.Size([64, 32]) torch.Size([64, 10]) torch.Size([10, 32])\n",
      "torch.Size([64, 32]) torch.Size([64, 32]) torch.Size([64, 10]) torch.Size([10, 32])\n",
      "torch.Size([64, 32]) torch.Size([64, 32]) torch.Size([64, 10]) torch.Size([10, 32])\n",
      "torch.Size([64, 32]) torch.Size([64, 32]) torch.Size([64, 10]) torch.Size([10, 32])\n",
      "torch.Size([64, 32]) torch.Size([64, 32]) torch.Size([64, 10]) torch.Size([10, 32])\n",
      "torch.Size([64, 32]) torch.Size([64, 32]) torch.Size([64, 10]) torch.Size([10, 32])\n",
      "torch.Size([64, 32]) torch.Size([64, 32]) torch.Size([64, 10]) torch.Size([10, 32])\n"
     ]
    },
    {
     "data": {
      "image/png": "[encoded data removed]",
      "text/plain": [
       "<Figure size 432x288 with 1 Axes>"
      ]
     },
     "metadata": {
      "needs_background": "light"
     },
     "output_type": "display_data"
    },
    {
     "data": {
      "image/png": "[encoded data removed]",
      "text/plain": [
       "<Figure size 432x288 with 1 Axes>"
      ]
     },
     "metadata": {
      "needs_background": "light"
     },
     "output_type": "display_data"
    },
    {
     "data": {
      "image/png": "[encoded data removed]",
      "text/plain": [
       "<Figure size 432x288 with 1 Axes>"
      ]
     },
     "metadata": {
      "needs_background": "light"
     },
     "output_type": "display_data"
    },
    {
     "data": {
      "image/png": "[encoded data removed]",
      "text/plain": [
       "<Figure size 432x288 with 1 Axes>"
      ]
     },
     "metadata": {
      "needs_background": "light"
     },
     "output_type": "display_data"
    }
   ],
   "source": [
    "# Training loop\n",
    "for epoch in range(1):\n",
    "  print(f\"Epoch {epoch+1}\")\n",
    "  tqdm_train_data = tqdm(train_data)\n",
    "  for images, labels in tqdm_train_data:\n",
    "    step += 1\n",
    "    x0 = images.flatten(start_dim=1)\n",
    "\n",
    "    # Initialize x's with forward predictions\n",
    "    x1 = u1 = x0 @ W1.T + b1\n",
    "    x2 = u2 = activation1(x1) @ W2.T + b2\n",
    "    x3 = u3 = activation2(x2) @ W3.T + b3\n",
    "    u4 = activation3(x3)\n",
    "\n",
    "    x4 = onehot(labels, n_classes=10) # Constrain output to be the correct labels.\n",
    "\n",
    "    x4_pred = activation3(activation2(activation1(x0 @ W1.T + b1) @ W2.T + b2) @ W3.T + b3)\n",
    "\n",
    "    loss = -(torch.log(x4_pred) * x4).sum(dim=1).mean()\n",
    "    tqdm_train_data.set_description(f\"Training - Loss: {loss:.4f} - Accuracy: {accuracy*100:.2f}%\")\n",
    "    loss_history.append((step, loss))\n",
    "    errors_history = []\n",
    "\n",
    "    # Run predictive coding inference. \n",
    "    for t in range(40):\n",
    "      u4 = activation3(x3)\n",
    "      e4 = x4 - u4\n",
    "\n",
    "\n",
    "      u3 = activation2(x2) @ W3.T + b3\n",
    "      e3 = x3 - u3\n",
    "\n",
    "      print(activation2(x2, deriv=True).shape, e2.shape, e3.shape, W3.shape)\n",
    "\n",
    "      dx3 = -e3 + activation3(x3, deriv=True) * (e4)\n",
    "      x3 += ir * dx3\n",
    "      \n",
    "      u2 = activation1(x1) @ W2.T + b2\n",
    "      e2 = x2 - u2\n",
    "      dx2 = -e2 + activation2(x2, deriv=True) * (e3 @ W3)\n",
    "      x2 += ir * dx2\n",
    "      \n",
    "      u1 = x0 @ W1.T + b1\n",
    "      e1 = x1 - u1\n",
    "      dx1 = -e1 + activation1(x1, deriv=True) * (e2 @ W2)\n",
    "      x1 += ir * dx1\n",
    "\n",
    "      if test:\n",
    "        errors_history.append(((e1 ** 2).mean(), (e2 ** 2).mean(), (e3 ** 2).mean(), (e4 ** 2).mean()))\n",
    "\n",
    "    error_histories = zip(*errors_history)\n",
    "    for error_history in error_histories:\n",
    "      plt.plot(error_history)\n",
    "      plt.show()\n",
    "      \n",
    "    if test:\n",
    "      break\n",
    "\n",
    "    # Calculate gradients\n",
    "    dW1 = e1[:, :, None] @ x0[:, None, :]\n",
    "    dW2 = e2[:, :, None] @ activation1(x1)[:, None, :]\n",
    "    dW3 = e3[:, :, None] @ activation2(x2)[:, None, :]\n",
    "\n",
    "    db1 = e1\n",
    "    db2 = e2\n",
    "    db3 = e3\n",
    "\n",
    "    # Perform weight update here.\n",
    "    W1 += lr * dW1.mean(dim=0)\n",
    "    b1 += lr * db1.mean(dim=0)\n",
    "\n",
    "    W2 += lr * dW2.mean(dim=0)\n",
    "    b2 += lr * db2.mean(dim=0)\n",
    "\n",
    "    W3 += lr * dW3.mean(dim=0)\n",
    "    b3 += lr * db3.mean(dim=0)\n",
    "\n",
    "    if step % 100 == 0:\n",
    "      tqdm_train_data.set_description(f\"Testing - Loss: {loss.item():.4f} - Accuracy: {accuracy*100:.2f}%\")\n",
    "      tested = 0\n",
    "      correct = 0\n",
    "      for images, labels in test_data:\n",
    "        x0 = images.flatten(start_dim=1)\n",
    "        pred = activation3(activation2(activation1(x0 @ W1.T + b1) @ W2.T + b2) @ W3.T + b3)\n",
    "        pred_labels = pred.argmax(dim=1)\n",
    "\n",
    "        tested += len(pred_labels)\n",
    "        correct += (pred_labels == labels).sum()\n",
    "\n",
    "      accuracy = correct / tested\n",
    "      accuracy_history.append((step, accuracy))\n",
    "\n",
    "  if test:\n",
    "    break"
   ]
  },
  {
   "cell_type": "code",
   "execution_count": null,
   "id": "bcce9247",
   "metadata": {},
   "outputs": [
    {
     "data": {
      "image/png": "[encoded data removed]",
      "text/plain": [
       "<Figure size 432x288 with 1 Axes>"
      ]
     },
     "metadata": {
      "needs_background": "light"
     },
     "output_type": "display_data"
    }
   ],
   "source": [
    "plt.plot(*zip(*loss_history))\n",
    "plt.show()"
   ]
  },
  {
   "cell_type": "code",
   "execution_count": null,
   "id": "33ef333f",
   "metadata": {},
   "outputs": [
    {
     "data": {
      "image/png": "[encoded data removed]",
      "text/plain": [
       "<Figure size 432x288 with 1 Axes>"
      ]
     },
     "metadata": {
      "needs_background": "light"
     },
     "output_type": "display_data"
    }
   ],
   "source": [
    "plt.plot(*zip(*accuracy_history))\n",
    "plt.show()"
   ]
  },
  {
   "cell_type": "code",
   "execution_count": null,
   "id": "097f3d91",
   "metadata": {},
   "outputs": [],
   "source": [
    "# torch.save((W1, b1, W2, b2, W3, b3), \"../results/inference-learning/model_1-epoch.pt\")\n",
    "# torch.save(loss_history, \"../results/inference-learning/loss-history_1-epoch.pt\")\n",
    "# torch.save(accuracy_history, \"../results/inference-learning/accuracy-history_1-epoch.pt\")"
   ]
  },
  {
   "cell_type": "code",
   "execution_count": null,
   "id": "9326533d",
   "metadata": {},
   "outputs": [
    {
     "name": "stdout",
     "output_type": "stream",
     "text": [
      "tensor(0.9244)\n"
     ]
    }
   ],
   "source": [
    "tested = 0\n",
    "correct = 0\n",
    "for images, labels in test_data:\n",
    "  x0 = images.flatten(start_dim=1)\n",
    "  pred = activation3(activation2(activation1(x0 @ W1.T + b1) @ W2.T + b2) @ W3.T + b3)\n",
    "  pred_labels = pred.argmax(dim=1)\n",
    "\n",
    "  tested += len(pred_labels)\n",
    "  correct += (pred_labels == labels).sum()\n",
    "\n",
    "accuracy = correct / tested\n",
    "accuracy_history.append((step, accuracy))\n",
    "print(accuracy)"
   ]
  },
  {
   "cell_type": "markdown",
   "id": "e9a85464",
   "metadata": {},
   "source": [
    "# Zero Divergent Inference Learning"
   ]
  },
  {
   "cell_type": "code",
   "execution_count": null,
   "id": "89797210",
   "metadata": {},
   "outputs": [],
   "source": [
    "# Define out layer sizes\n",
    "in_features = 784\n",
    "hidden1_features = 32\n",
    "hidden2_features = 32\n",
    "out_features = 10\n",
    "\n",
    "# Define weights and biases\n",
    "W1, b1 = get_weights_and_biases(in_features, hidden1_features)\n",
    "W2, b2 = get_weights_and_biases(hidden1_features, hidden2_features)\n",
    "W3, b3 = get_weights_and_biases(hidden2_features, out_features)\n",
    "\n",
    "activation1 = leaky_relu\n",
    "activation2 = leaky_relu\n",
    "activation3 = softmax"
   ]
  },
  {
   "cell_type": "code",
   "execution_count": null,
   "id": "178e231d",
   "metadata": {},
   "outputs": [],
   "source": [
    "accuracy_history = []\n",
    "loss_history = []\n",
    "accuracy = 0\n",
    "loss = 0\n",
    "step = 0"
   ]
  },
  {
   "cell_type": "code",
   "execution_count": null,
   "id": "b10ae1cd",
   "metadata": {},
   "outputs": [],
   "source": [
    "# Setup hyperparameters\n",
    "ir = 1 # Inference rate (has to be 1 for Z-IL)\n",
    "lr = 1e-1 # Learning rate\n",
    "\n",
    "# Should we just test the inference part\n",
    "test = False"
   ]
  },
  {
   "cell_type": "code",
   "execution_count": null,
   "id": "82fcc775",
   "metadata": {},
   "outputs": [
    {
     "name": "stdout",
     "output_type": "stream",
     "text": [
      "Epoch 1\n"
     ]
    },
    {
     "data": {
      "application/vnd.jupyter.widget-view+json": {
       "model_id": "31e57ee7a4374150907b0f30dfe13281",
       "version_major": 2,
       "version_minor": 0
      },
      "text/plain": [
       "  0%|          | 0/938 [00:00<?, ?it/s]"
      ]
     },
     "metadata": {},
     "output_type": "display_data"
    }
   ],
   "source": [
    "# Training loop\n",
    "for epoch in range(1):\n",
    "  print(f\"Epoch {epoch+1}\")\n",
    "  tqdm_train_data = tqdm(train_data)\n",
    "  for images, labels in tqdm_train_data:\n",
    "    step += 1\n",
    "    x0 = images.flatten(start_dim=1)\n",
    "    batch_dim = x0.shape[0]\n",
    "\n",
    "    u1 = x1 = x0 @ W1.T + b1\n",
    "    u2 = x2 = activation1(x1) @ W2.T + b2\n",
    "    u3 = x3 = activation2(x2) @ W3.T + b3\n",
    "    u4 = x4_pred = activation3(x3)\n",
    "\n",
    "    x4 = onehot(labels, n_classes=10) # Constrain output to be the correct labels.\n",
    "    loss = -(torch.log(x4_pred) * x4).sum(dim=1).mean()\n",
    "    if step % 10 == 0:\n",
    "      tqdm_train_data.set_description(f\"Training - Loss: {loss:.4f} - Accuracy: {accuracy*100:.2f}%\")\n",
    "    loss_history.append((step, loss))\n",
    "\n",
    "    for t in range(6):\n",
    "      # Calculate errors\n",
    "      u1 = x0 @ W1.T + b1\n",
    "      u2 = activation1(x1) @ W2.T + b2\n",
    "      u3 = activation2(x2) @ W3.T + b3\n",
    "      u4 = activation3(x3)\n",
    "\n",
    "      e4 = x4 - u4\n",
    "      #dx4 = -e4 # Only do this during inference\n",
    "      #x4 -= ir * dx4 # Only do this during inference.\n",
    "\n",
    "      e3 = x3 - u3\n",
    "      dx3 = -e3 + activation3(x3, deriv=True) * (e4)\n",
    "      x3 += ir * dx3\n",
    "\n",
    "      e2 = x2 - u2\n",
    "      dx2 = -e2 + activation2(x2, deriv=True) * (e3 @ W3)\n",
    "      x2 += ir * dx2\n",
    "\n",
    "      e1 = x1 - u1\n",
    "      dx1 = -e1 + activation1(x1, deriv=True) * (e2 @ W2)\n",
    "      x1 += ir * dx1\n",
    "\n",
    "\n",
    "      if t == 1:\n",
    "        dW3 = e3[:, :, None] @ activation2(x2)[:, None, :]\n",
    "        db3 = e3\n",
    "        W3 += lr * dW3.mean(dim=0)\n",
    "        b3 += lr * db3.mean(dim=0)\n",
    "      elif t == 2:\n",
    "        dW2 = e2[:, :, None] @ activation1(x1)[:, None, :]\n",
    "        db2 = e2\n",
    "        W2 += lr * dW2.mean(dim=0)\n",
    "        b2 += lr * db2.mean(dim=0)\n",
    "      elif t == 3:\n",
    "        dW1 = e1[:, :, None] @ x0[:, None, :]\n",
    "        db1 = e1\n",
    "        W1 += lr * dW1.mean(dim=0)\n",
    "        b1 += lr * db1.mean(dim=0)\n",
    "      \n",
    "    if test:\n",
    "      break\n",
    "\n",
    "    if step % 100 == 0:\n",
    "      tqdm_train_data.set_description(f\"Testing - Loss: {loss:.4f} - Accuracy: {accuracy*100:.2f}%\")\n",
    "      tested = 0\n",
    "      correct = 0\n",
    "      for images, labels in test_data:\n",
    "        x0 = images.flatten(start_dim=1)\n",
    "        pred = activation3(activation2(activation1(x0 @ W1.T + b1) @ W2.T + b2) @ W3.T + b3)\n",
    "        pred_labels = pred.argmax(dim=1)\n",
    "\n",
    "        tested += len(pred_labels)\n",
    "        correct += (pred_labels == labels).sum()\n",
    "\n",
    "      accuracy = correct / tested\n",
    "      accuracy_history.append((step, accuracy))\n",
    "\n",
    "  if test:\n",
    "    break"
   ]
  },
  {
   "cell_type": "code",
   "execution_count": null,
   "id": "965cfe6d",
   "metadata": {},
   "outputs": [
    {
     "data": {
      "image/png": "[encoded data removed]",
      "text/plain": [
       "<Figure size 432x288 with 1 Axes>"
      ]
     },
     "metadata": {
      "needs_background": "light"
     },
     "output_type": "display_data"
    }
   ],
   "source": [
    "plt.plot(*zip(*loss_history))\n",
    "plt.show()"
   ]
  },
  {
   "cell_type": "code",
   "execution_count": null,
   "id": "aa55f8f9",
   "metadata": {},
   "outputs": [
    {
     "data": {
      "image/png": "[encoded data removed]",
      "text/plain": [
       "<Figure size 432x288 with 1 Axes>"
      ]
     },
     "metadata": {
      "needs_background": "light"
     },
     "output_type": "display_data"
    }
   ],
   "source": [
    "plt.plot(*zip(*accuracy_history[:-1]))\n",
    "plt.show()"
   ]
  },
  {
   "cell_type": "markdown",
   "id": "962abe35",
   "metadata": {},
   "source": [
    "# Experiment"
   ]
  },
  {
   "cell_type": "code",
   "execution_count": 87,
   "id": "be6d810a",
   "metadata": {},
   "outputs": [],
   "source": [
    "W1, b1 = get_weights_and_biases(28*28, 32)\n",
    "W2, b2 = get_weights_and_biases(32, 10)\n",
    "activation1 = scaled_soft_rate"
   ]
  },
  {
   "cell_type": "code",
   "execution_count": 88,
   "id": "5aad9927",
   "metadata": {},
   "outputs": [],
   "source": [
    "W1_og = W1.clone()\n",
    "b1_og = b1.clone()\n",
    "W2_og = W2.clone()\n",
    "b2_og = b2.clone()"
   ]
  },
  {
   "cell_type": "code",
   "execution_count": 89,
   "id": "7cebda8d",
   "metadata": {},
   "outputs": [],
   "source": [
    "lr = 1e-2\n",
    "ir = 1e-1"
   ]
  },
  {
   "cell_type": "code",
   "execution_count": 90,
   "id": "b25de9fe",
   "metadata": {},
   "outputs": [],
   "source": [
    "loss_history = []\n",
    "accuracy_history = []\n",
    "step = 0\n",
    "loss = 0\n",
    "accuracy = 0"
   ]
  },
  {
   "cell_type": "markdown",
   "id": "d3a7be5c",
   "metadata": {},
   "source": [
    "## Backprop"
   ]
  },
  {
   "cell_type": "code",
   "execution_count": 91,
   "id": "b3666993",
   "metadata": {},
   "outputs": [],
   "source": [
    "# Baseline backprop model\n",
    "class MLP(nn.Module):\n",
    "  def __init__(self, in_features, hidden_features, out_features):\n",
    "    super().__init__()\n",
    "    self.l1 = nn.Linear(in_features, hidden_features)\n",
    "    self.l2 = nn.Linear(hidden_features, out_features)\n",
    "\n",
    "    with torch.no_grad():\n",
    "      self.l1.weight.copy_(W1)\n",
    "      self.l1.bias.copy_(b1)\n",
    "      self.l2.weight.copy_(W2)\n",
    "      self.l2.bias.copy_(b2)\n",
    "\n",
    "  def forward(self, x):\n",
    "    return self.l2(activation1(self.l1(x)))\n",
    "\n",
    "\n",
    "model = MLP(28*28, 32, 10)"
   ]
  },
  {
   "cell_type": "code",
   "execution_count": 92,
   "id": "e5d8d492",
   "metadata": {},
   "outputs": [],
   "source": [
    "criterion = nn.CrossEntropyLoss()\n",
    "optimizer = torch.optim.SGD(model.parameters(), lr=lr)"
   ]
  },
  {
   "cell_type": "code",
   "execution_count": 93,
   "id": "fc70d168",
   "metadata": {},
   "outputs": [],
   "source": [
    "step = 0\n",
    "accuracy = 0\n",
    "loss_history = []\n",
    "accuracy_history = []"
   ]
  },
  {
   "cell_type": "code",
   "execution_count": 96,
   "id": "912a57d0",
   "metadata": {},
   "outputs": [
    {
     "name": "stdout",
     "output_type": "stream",
     "text": [
      "Epoch 1\n"
     ]
    },
    {
     "data": {
      "application/vnd.jupyter.widget-view+json": {
       "model_id": "834904cd1af64313a097d027514743af",
       "version_major": 2,
       "version_minor": 0
      },
      "text/plain": [
       "  0%|          | 0/938 [00:00<?, ?it/s]"
      ]
     },
     "metadata": {},
     "output_type": "display_data"
    },
    {
     "name": "stdout",
     "output_type": "stream",
     "text": [
      "Epoch 2\n"
     ]
    },
    {
     "data": {
      "application/vnd.jupyter.widget-view+json": {
       "model_id": "18711e3a433a4ade955629022ec72886",
       "version_major": 2,
       "version_minor": 0
      },
      "text/plain": [
       "  0%|          | 0/938 [00:00<?, ?it/s]"
      ]
     },
     "metadata": {},
     "output_type": "display_data"
    },
    {
     "name": "stdout",
     "output_type": "stream",
     "text": [
      "Epoch 3\n"
     ]
    },
    {
     "data": {
      "application/vnd.jupyter.widget-view+json": {
       "model_id": "38dc3ec19fc0477c94f09971d9d4b726",
       "version_major": 2,
       "version_minor": 0
      },
      "text/plain": [
       "  0%|          | 0/938 [00:00<?, ?it/s]"
      ]
     },
     "metadata": {},
     "output_type": "display_data"
    },
    {
     "name": "stdout",
     "output_type": "stream",
     "text": [
      "Epoch 4\n"
     ]
    },
    {
     "data": {
      "application/vnd.jupyter.widget-view+json": {
       "model_id": "1ad2cac5f3dd409eaa18054e42bc3e51",
       "version_major": 2,
       "version_minor": 0
      },
      "text/plain": [
       "  0%|          | 0/938 [00:00<?, ?it/s]"
      ]
     },
     "metadata": {},
     "output_type": "display_data"
    },
    {
     "name": "stdout",
     "output_type": "stream",
     "text": [
      "Epoch 5\n"
     ]
    },
    {
     "data": {
      "application/vnd.jupyter.widget-view+json": {
       "model_id": "0ded498c4b3943dd8530c0541b4ef56b",
       "version_major": 2,
       "version_minor": 0
      },
      "text/plain": [
       "  0%|          | 0/938 [00:00<?, ?it/s]"
      ]
     },
     "metadata": {},
     "output_type": "display_data"
    },
    {
     "name": "stdout",
     "output_type": "stream",
     "text": [
      "Epoch 6\n"
     ]
    },
    {
     "data": {
      "application/vnd.jupyter.widget-view+json": {
       "model_id": "ca1113c4b6314c8ba19cee8e49bf06d1",
       "version_major": 2,
       "version_minor": 0
      },
      "text/plain": [
       "  0%|          | 0/938 [00:00<?, ?it/s]"
      ]
     },
     "metadata": {},
     "output_type": "display_data"
    },
    {
     "name": "stdout",
     "output_type": "stream",
     "text": [
      "Epoch 7\n"
     ]
    },
    {
     "data": {
      "application/vnd.jupyter.widget-view+json": {
       "model_id": "689cb43fe8ff4e5e9074f7c829ca08e0",
       "version_major": 2,
       "version_minor": 0
      },
      "text/plain": [
       "  0%|          | 0/938 [00:00<?, ?it/s]"
      ]
     },
     "metadata": {},
     "output_type": "display_data"
    },
    {
     "name": "stdout",
     "output_type": "stream",
     "text": [
      "Epoch 8\n"
     ]
    },
    {
     "data": {
      "application/vnd.jupyter.widget-view+json": {
       "model_id": "b1b85be0d8c64f6d94d0e575004a4539",
       "version_major": 2,
       "version_minor": 0
      },
      "text/plain": [
       "  0%|          | 0/938 [00:00<?, ?it/s]"
      ]
     },
     "metadata": {},
     "output_type": "display_data"
    },
    {
     "name": "stdout",
     "output_type": "stream",
     "text": [
      "Epoch 9\n"
     ]
    },
    {
     "data": {
      "application/vnd.jupyter.widget-view+json": {
       "model_id": "1d4feb9f8bf2411c8fd31019ef847199",
       "version_major": 2,
       "version_minor": 0
      },
      "text/plain": [
       "  0%|          | 0/938 [00:00<?, ?it/s]"
      ]
     },
     "metadata": {},
     "output_type": "display_data"
    },
    {
     "name": "stdout",
     "output_type": "stream",
     "text": [
      "Epoch 10\n"
     ]
    },
    {
     "data": {
      "application/vnd.jupyter.widget-view+json": {
       "model_id": "08b063808e35496e8acf33d83deacda3",
       "version_major": 2,
       "version_minor": 0
      },
      "text/plain": [
       "  0%|          | 0/938 [00:00<?, ?it/s]"
      ]
     },
     "metadata": {},
     "output_type": "display_data"
    }
   ],
   "source": [
    "model.train()\n",
    "for epoch in range(10):\n",
    "  print(f\"Epoch {epoch+1}\")\n",
    "  tqdm_train_data = tqdm(train_data)\n",
    "  for images, labels in tqdm_train_data:\n",
    "    step += 1\n",
    "\n",
    "    optimizer.zero_grad()\n",
    "    x0 = images.flatten(start_dim=1)\n",
    "\n",
    "    pred = model(x0)\n",
    "    loss = criterion(pred, labels)\n",
    "    loss.backward()\n",
    "    \n",
    "    loss_history.append((step, loss.item()))\n",
    "\n",
    "    tqdm_train_data.set_description(f\"Training - Loss: {loss.item():.4f} - Accuracy: {accuracy*100:.2f}%\")\n",
    "\n",
    "    optimizer.step()\n",
    "\n",
    "    if step % 100 == 0: \n",
    "      model.eval()\n",
    "      tqdm_train_data.set_description(f\"Testing - Loss: {loss.item():.4f} - Accuracy: {accuracy*100:.2f}%\")\n",
    "      tested = 0\n",
    "      correct = 0\n",
    "      for images, labels in test_data:\n",
    "        x0 = images.flatten(start_dim=1)\n",
    "        x3_pred = model(x0)\n",
    "        pred_labels = x3_pred.argmax(dim=1)\n",
    "\n",
    "        tested += len(pred_labels)\n",
    "        correct += (pred_labels == labels).sum()\n",
    "      accuracy = correct / tested\n",
    "      \n",
    "\n",
    "      accuracy_history.append((step, accuracy))\n",
    "      model.train()\n",
    "    "
   ]
  },
  {
   "cell_type": "code",
   "execution_count": 97,
   "id": "6a17ceaf",
   "metadata": {},
   "outputs": [
    {
     "data": {
      "image/png": "[encoded data removed]",
      "text/plain": [
       "<Figure size 432x288 with 1 Axes>"
      ]
     },
     "metadata": {
      "needs_background": "light"
     },
     "output_type": "display_data"
    }
   ],
   "source": [
    "plt.plot(*zip(*loss_history))\n",
    "plt.show()"
   ]
  },
  {
   "cell_type": "code",
   "execution_count": 98,
   "id": "8428724f",
   "metadata": {},
   "outputs": [
    {
     "data": {
      "image/png": "[encoded data removed]",
      "text/plain": [
       "<Figure size 432x288 with 1 Axes>"
      ]
     },
     "metadata": {
      "needs_background": "light"
     },
     "output_type": "display_data"
    }
   ],
   "source": [
    "plt.plot(*zip(*accuracy_history))\n",
    "plt.show()"
   ]
  },
  {
   "cell_type": "code",
   "execution_count": 27,
   "id": "39d7d5de",
   "metadata": {},
   "outputs": [
    {
     "name": "stdout",
     "output_type": "stream",
     "text": [
      "Accuracy: 95.55%\n"
     ]
    }
   ],
   "source": [
    "tested = 0\n",
    "correct = 0\n",
    "for images, labels in test_data:\n",
    "  x0 = images.flatten(start_dim=1)\n",
    "  pred = model(x0)\n",
    "  pred_labels = pred.argmax(dim=1)\n",
    "\n",
    "  tested += len(pred_labels)\n",
    "  correct += (pred_labels == labels).sum()\n",
    "\n",
    "accuracy = correct / tested\n",
    "print(f\"Accuracy: {accuracy*100:.2f}%\")"
   ]
  },
  {
   "cell_type": "markdown",
   "id": "afe69a57",
   "metadata": {},
   "source": [
    "## Activate after summation"
   ]
  },
  {
   "cell_type": "code",
   "execution_count": null,
   "id": "7ec5ab34",
   "metadata": {},
   "outputs": [
    {
     "name": "stdout",
     "output_type": "stream",
     "text": [
      "Epoch 1\n"
     ]
    },
    {
     "data": {
      "application/vnd.jupyter.widget-view+json": {
       "model_id": "c0ed80c8e63d445ea43419d7a0af70c3",
       "version_major": 2,
       "version_minor": 0
      },
      "text/plain": [
       "  0%|          | 0/938 [00:00<?, ?it/s]"
      ]
     },
     "metadata": {},
     "output_type": "display_data"
    },
    {
     "data": {
      "image/png": "[encoded data removed]",
      "text/plain": [
       "<Figure size 432x288 with 1 Axes>"
      ]
     },
     "metadata": {
      "needs_background": "light"
     },
     "output_type": "display_data"
    },
    {
     "data": {
      "image/png": "[encoded data removed]",
      "text/plain": [
       "<Figure size 432x288 with 1 Axes>"
      ]
     },
     "metadata": {
      "needs_background": "light"
     },
     "output_type": "display_data"
    }
   ],
   "source": [
    "# Training loop\n",
    "for epoch in range(1):\n",
    "  print(f\"Epoch {epoch+1}\")\n",
    "  tqdm_train_data = tqdm(train_data)\n",
    "  for images, labels in tqdm_train_data:\n",
    "    step += 1\n",
    "    x0 = images.flatten(start_dim=1)\n",
    "    u1 = x1 = activation1(x0 @ W1.T + b1)\n",
    "    u2 = softmax(x1 @ W2.T + b2)\n",
    "\n",
    "    x2 = onehot(labels, n_classes=10)\n",
    "\n",
    "    loss = -(torch.log(u2) * x2).sum(dim=1).mean()\n",
    "    tqdm_train_data.set_description(f\"Training - Loss: {loss.item():.4f} - Accuracy: {accuracy*100:.2f}%\")\n",
    "    loss_history.append((step, loss))\n",
    "  \n",
    "    errors = []\n",
    "    for i in range(40):\n",
    "      u1 = activation1(x0 @ W1.T + b1)\n",
    "      u2 = softmax(x1 @ W2.T + b2)\n",
    "\n",
    "      e2 = x2 - u2\n",
    "\n",
    "      e1 = x1 - u1\n",
    "      dx1 = -e1 + activation1(x1, deriv=True) * (e2 @ W2)\n",
    "      x1 += ir * dx1\n",
    "\n",
    "      errors.append((e1.abs().mean(), e2.abs().mean()))\n",
    "\n",
    "    for errors in zip(*errors):\n",
    "      plt.plot(errors)\n",
    "      plt.show()\n",
    "    break \n",
    "  \n",
    "    dW1 = e1[:, :, None] @ x0[:, None, :]\n",
    "    db1 = e1\n",
    "    dW2 = e2[:, :, None] @ activation1(x1[:, None, :])\n",
    "    db2 = e2\n",
    "\n",
    "    W1 += lr * dW1.mean(dim=0)\n",
    "    b1 += lr * db1.mean(dim=0)\n",
    "\n",
    "    W2 += lr * dW2.mean(dim=0)\n",
    "    b2 += lr * db2.mean(dim=0)\n",
    "\n",
    "\n",
    "    if step % 100 == 0: \n",
    "      tqdm_train_data.set_description(f\"Testing - Loss: {loss.item():.4f} - Accuracy: {accuracy*100:.2f}%\")\n",
    "      tested = 0\n",
    "      correct = 0\n",
    "      for images, labels in test_data:\n",
    "        x0 = images.flatten(start_dim=1)\n",
    "        pred = activation1(x0 @ W1.T + b1) @ W2.T + b2\n",
    "        pred_labels = pred.argmax(dim=1)\n",
    "\n",
    "        tested += len(pred_labels)\n",
    "        correct += (pred_labels == labels).sum()\n",
    "      accuracy = correct / tested\n",
    "\n",
    "      accuracy_history.append((step, accuracy))\n",
    "\n"
   ]
  },
  {
   "cell_type": "code",
   "execution_count": null,
   "id": "6a270370",
   "metadata": {},
   "outputs": [
    {
     "data": {
      "image/png": "[encoded data removed]",
      "text/plain": [
       "<Figure size 432x288 with 1 Axes>"
      ]
     },
     "metadata": {
      "needs_background": "light"
     },
     "output_type": "display_data"
    }
   ],
   "source": [
    "plt.plot(*zip(*loss_history))\n",
    "plt.show()"
   ]
  },
  {
   "cell_type": "code",
   "execution_count": null,
   "id": "5598839f",
   "metadata": {},
   "outputs": [
    {
     "data": {
      "image/png": "[encoded data removed]",
      "text/plain": [
       "<Figure size 432x288 with 1 Axes>"
      ]
     },
     "metadata": {
      "needs_background": "light"
     },
     "output_type": "display_data"
    }
   ],
   "source": [
    "plt.plot(*zip(*accuracy_history))\n",
    "plt.show()"
   ]
  },
  {
   "cell_type": "code",
   "execution_count": null,
   "id": "0c61e6f0",
   "metadata": {},
   "outputs": [
    {
     "name": "stdout",
     "output_type": "stream",
     "text": [
      "Accuracy: 90.48%\n"
     ]
    }
   ],
   "source": [
    "tested = 0\n",
    "correct = 0\n",
    "for images, labels in test_data:\n",
    "  x0 = images.flatten(start_dim=1)\n",
    "  pred = activation1(x0 @ W1.T + b1) @ W2.T + b2\n",
    "  pred_labels = pred.argmax(dim=1)\n",
    "\n",
    "  tested += len(pred_labels)\n",
    "  correct += (pred_labels == labels).sum()\n",
    "\n",
    "accuracy = correct / tested\n",
    "print(f\"Accuracy: {accuracy*100:.2f}%\")"
   ]
  },
  {
   "cell_type": "markdown",
   "id": "9ca4f9ad",
   "metadata": {},
   "source": [
    "## Activate before summation"
   ]
  },
  {
   "cell_type": "code",
   "execution_count": 99,
   "id": "c4864181",
   "metadata": {},
   "outputs": [],
   "source": [
    "W1 = W1_og.clone()\n",
    "b1 = b1_og.clone()\n",
    "W2 = W2_og.clone()\n",
    "b2 = b2_og.clone()"
   ]
  },
  {
   "cell_type": "code",
   "execution_count": 100,
   "id": "5ca07515",
   "metadata": {},
   "outputs": [],
   "source": [
    "step = 0\n",
    "accuracy = 0\n",
    "loss_history = []\n",
    "accuracy_history = []"
   ]
  },
  {
   "cell_type": "code",
   "execution_count": 101,
   "id": "593ad1f9",
   "metadata": {},
   "outputs": [],
   "source": [
    "ir = 1e-1\n",
    "lr = 1e-2"
   ]
  },
  {
   "cell_type": "code",
   "execution_count": 86,
   "id": "eca4dd77",
   "metadata": {},
   "outputs": [
    {
     "name": "stdout",
     "output_type": "stream",
     "text": [
      "Epoch 1\n"
     ]
    },
    {
     "data": {
      "application/vnd.jupyter.widget-view+json": {
       "model_id": "2305dba0d32442218fe603bbf6baf6ce",
       "version_major": 2,
       "version_minor": 0
      },
      "text/plain": [
       "  0%|          | 0/938 [00:00<?, ?it/s]"
      ]
     },
     "metadata": {},
     "output_type": "display_data"
    },
    {
     "ename": "KeyboardInterrupt",
     "evalue": "",
     "output_type": "error",
     "traceback": [
      "\u001b[0;31m---------------------------------------------------------------------------\u001b[0m",
      "\u001b[0;31mKeyboardInterrupt\u001b[0m                         Traceback (most recent call last)",
      "\u001b[0;32m/var/folders/vs/ylfhyw117z1g5xvn55z8jr3c0000gp/T/ipykernel_62254/697869718.py\u001b[0m in \u001b[0;36m<module>\u001b[0;34m\u001b[0m\n\u001b[1;32m     18\u001b[0m     \u001b[0;31m# errors = []\u001b[0m\u001b[0;34m\u001b[0m\u001b[0;34m\u001b[0m\u001b[0m\n\u001b[1;32m     19\u001b[0m     \u001b[0;32mfor\u001b[0m \u001b[0mi\u001b[0m \u001b[0;32min\u001b[0m \u001b[0mrange\u001b[0m\u001b[0;34m(\u001b[0m\u001b[0;36m300\u001b[0m\u001b[0;34m)\u001b[0m\u001b[0;34m:\u001b[0m\u001b[0;34m\u001b[0m\u001b[0;34m\u001b[0m\u001b[0m\n\u001b[0;32m---> 20\u001b[0;31m       \u001b[0mu1\u001b[0m \u001b[0;34m=\u001b[0m \u001b[0mx0\u001b[0m \u001b[0;34m@\u001b[0m \u001b[0mW1\u001b[0m\u001b[0;34m.\u001b[0m\u001b[0mT\u001b[0m \u001b[0;34m+\u001b[0m \u001b[0mb1\u001b[0m\u001b[0;34m\u001b[0m\u001b[0;34m\u001b[0m\u001b[0m\n\u001b[0m\u001b[1;32m     21\u001b[0m       \u001b[0mu2\u001b[0m \u001b[0;34m=\u001b[0m \u001b[0mactivation1\u001b[0m\u001b[0;34m(\u001b[0m\u001b[0mx1\u001b[0m\u001b[0;34m)\u001b[0m \u001b[0;34m@\u001b[0m \u001b[0mW2\u001b[0m\u001b[0;34m.\u001b[0m\u001b[0mT\u001b[0m \u001b[0;34m+\u001b[0m \u001b[0mb2\u001b[0m\u001b[0;34m\u001b[0m\u001b[0;34m\u001b[0m\u001b[0m\n\u001b[1;32m     22\u001b[0m       \u001b[0mu3\u001b[0m \u001b[0;34m=\u001b[0m \u001b[0msoftmax\u001b[0m\u001b[0;34m(\u001b[0m\u001b[0mx2\u001b[0m\u001b[0;34m)\u001b[0m\u001b[0;34m\u001b[0m\u001b[0;34m\u001b[0m\u001b[0m\n",
      "\u001b[0;31mKeyboardInterrupt\u001b[0m: "
     ]
    }
   ],
   "source": [
    "# Training loop\n",
    "for epoch in range(1):\n",
    "  print(f\"Epoch {epoch+1}\")\n",
    "  tqdm_train_data = tqdm(train_data)\n",
    "  for images, labels in tqdm_train_data:\n",
    "    step += 1\n",
    "    x0 = images.flatten(start_dim=1)\n",
    "    u1 = x1 = x0 @ W1.T + b1\n",
    "    u2 = x2 = activation1(x1) @ W2.T + b2\n",
    "    u3 = softmax(x2)\n",
    "\n",
    "    x3 = onehot(labels, n_classes=10)\n",
    "\n",
    "    loss = -(torch.log(u3) * x3).sum(dim=1).mean()\n",
    "    tqdm_train_data.set_description(f\"Training - Loss: {loss.item():.4f} - Accuracy: {accuracy*100:.2f}%\")\n",
    "    loss_history.append((step, loss))\n",
    "  \n",
    "    # errors = []\n",
    "    for i in range(300):\n",
    "      u1 = x0 @ W1.T + b1\n",
    "      u2 = activation1(x1) @ W2.T + b2\n",
    "      u3 = softmax(x2)\n",
    "\n",
    "      # x3 is clamped\n",
    "      e1 = x1 - u1\n",
    "      e2 = x2 - u2\n",
    "      e3 = x3 - u3\n",
    "\n",
    "      dx1 = -e1 + activation1(x1, deriv=True) * (e2 @ W2)\n",
    "      dx2 = -e2 + e3\n",
    "      \n",
    "      x1 += ir * dx1\n",
    "      x2 += ir * dx2\n",
    "\n",
    "    #   errors.append((e1.abs().mean(), e2.abs().mean(), e3.abs().mean()))\n",
    "\n",
    "    # for errors in zip(*errors):\n",
    "    #   plt.plot(errors)\n",
    "    #   plt.show()\n",
    "    # break \n",
    "  \n",
    "    dW1 = e1[:, :, None] @ x0[:, None, :]\n",
    "    db1 = e1\n",
    "    dW2 = e2[:, :, None] @ activation1(x1[:, None, :])\n",
    "    db2 = e2\n",
    "\n",
    "    W1 += lr * dW1.mean(dim=0)\n",
    "    b1 += lr * db1.mean(dim=0)\n",
    "\n",
    "    W2 += lr * dW2.mean(dim=0)\n",
    "    b2 += lr * db2.mean(dim=0)\n",
    "\n",
    "\n",
    "    if step % 100 == 0: \n",
    "      tqdm_train_data.set_description(f\"Testing - Loss: {loss.item():.4f} - Accuracy: {accuracy*100:.2f}%\")\n",
    "      tested = 0\n",
    "      correct = 0\n",
    "      for images, labels in test_data:\n",
    "        x0 = images.flatten(start_dim=1)\n",
    "        pred = activation1(x0 @ W1.T + b1) @ W2.T + b2\n",
    "        pred_labels = pred.argmax(dim=1)\n",
    "\n",
    "        tested += len(pred_labels)\n",
    "        correct += (pred_labels == labels).sum()\n",
    "      accuracy = correct / tested\n",
    "\n",
    "      accuracy_history.append((step, accuracy))\n",
    "\n"
   ]
  },
  {
   "cell_type": "code",
   "execution_count": 51,
   "id": "68f6253f",
   "metadata": {},
   "outputs": [
    {
     "data": {
      "image/png": "[encoded data removed]",
      "text/plain": [
       "<Figure size 432x288 with 1 Axes>"
      ]
     },
     "metadata": {
      "needs_background": "light"
     },
     "output_type": "display_data"
    }
   ],
   "source": [
    "plt.plot(*zip(*loss_history))\n",
    "plt.show()"
   ]
  },
  {
   "cell_type": "code",
   "execution_count": 52,
   "id": "68e8b1db",
   "metadata": {},
   "outputs": [
    {
     "data": {
      "image/png": "[encoded data removed]",
      "text/plain": [
       "<Figure size 432x288 with 1 Axes>"
      ]
     },
     "metadata": {
      "needs_background": "light"
     },
     "output_type": "display_data"
    }
   ],
   "source": [
    "plt.plot(*zip(*accuracy_history))\n",
    "plt.show()"
   ]
  },
  {
   "cell_type": "code",
   "execution_count": 102,
   "id": "0799c561",
   "metadata": {},
   "outputs": [],
   "source": [
    "W1 = W1_og.clone()\n",
    "b1 = b1_og.clone()\n",
    "W2 = W2_og.clone()\n",
    "b2 = b2_og.clone()"
   ]
  },
  {
   "cell_type": "code",
   "execution_count": 103,
   "id": "f677dd75",
   "metadata": {},
   "outputs": [],
   "source": [
    "step = 0\n",
    "accuracy = 0\n",
    "loss_history = []\n",
    "accuracy_history = []"
   ]
  },
  {
   "cell_type": "code",
   "execution_count": 23,
   "id": "982dc65f",
   "metadata": {},
   "outputs": [
    {
     "name": "stdout",
     "output_type": "stream",
     "text": [
      "Epoch 1\n"
     ]
    },
    {
     "data": {
      "application/vnd.jupyter.widget-view+json": {
       "model_id": "d1ecdcfbba504993a7c2efe3838e012d",
       "version_major": 2,
       "version_minor": 0
      },
      "text/plain": [
       "  0%|          | 0/938 [00:00<?, ?it/s]"
      ]
     },
     "metadata": {},
     "output_type": "display_data"
    },
    {
     "name": "stdout",
     "output_type": "stream",
     "text": [
      "Epoch 2\n"
     ]
    },
    {
     "data": {
      "application/vnd.jupyter.widget-view+json": {
       "model_id": "a0e4a7352ac54704ad08ea3a2a7db852",
       "version_major": 2,
       "version_minor": 0
      },
      "text/plain": [
       "  0%|          | 0/938 [00:00<?, ?it/s]"
      ]
     },
     "metadata": {},
     "output_type": "display_data"
    },
    {
     "name": "stdout",
     "output_type": "stream",
     "text": [
      "Epoch 3\n"
     ]
    },
    {
     "data": {
      "application/vnd.jupyter.widget-view+json": {
       "model_id": "28bf9bab980b49769a2e574102aae145",
       "version_major": 2,
       "version_minor": 0
      },
      "text/plain": [
       "  0%|          | 0/938 [00:00<?, ?it/s]"
      ]
     },
     "metadata": {},
     "output_type": "display_data"
    },
    {
     "name": "stdout",
     "output_type": "stream",
     "text": [
      "Epoch 4\n"
     ]
    },
    {
     "data": {
      "application/vnd.jupyter.widget-view+json": {
       "model_id": "8ec0bccc69e64ac396dd0338551c0a73",
       "version_major": 2,
       "version_minor": 0
      },
      "text/plain": [
       "  0%|          | 0/938 [00:00<?, ?it/s]"
      ]
     },
     "metadata": {},
     "output_type": "display_data"
    },
    {
     "name": "stdout",
     "output_type": "stream",
     "text": [
      "Epoch 5\n"
     ]
    },
    {
     "data": {
      "application/vnd.jupyter.widget-view+json": {
       "model_id": "49f41089021f41d28b41dd09b11ba9b2",
       "version_major": 2,
       "version_minor": 0
      },
      "text/plain": [
       "  0%|          | 0/938 [00:00<?, ?it/s]"
      ]
     },
     "metadata": {},
     "output_type": "display_data"
    }
   ],
   "source": [
    "# Z-IL\n",
    "# Training loop\n",
    "for epoch in range(20):\n",
    "  print(f\"Epoch {epoch+1}\")\n",
    "  tqdm_train_data = tqdm(train_data)\n",
    "  for images, labels in tqdm_train_data:\n",
    "    step += 1\n",
    "    x0 = images.flatten(start_dim=1)\n",
    "    u1 = x1 = x0 @ W1.T + b1\n",
    "    u2 = x2 = activation1(x1) @ W2.T + b2\n",
    "    u3 = softmax(x2)\n",
    "\n",
    "    \n",
    "    x3 = onehot(labels, n_classes=10)\n",
    "    pred = softmax(activation1(x0 @ W1.T + b1) @ W2.T + b2)\n",
    "\n",
    "    loss = -(torch.log(pred) * x3).sum(dim=1).mean()\n",
    "    tqdm_train_data.set_description(f\"Training - Loss: {loss.item():.4f} - Accuracy: {accuracy*100:.2f}%\")\n",
    "    loss_history.append((step, loss))\n",
    "\n",
    "    # errors = []\n",
    "    for t in range(3):\n",
    "      u1 = x0 @ W1.T + b1\n",
    "      u2 = activation1(x1) @ W2.T + b2\n",
    "      u3 = softmax(x2)\n",
    "\n",
    "      e3 = x3 - u3\n",
    "\n",
    "      e2 = x2 - u2\n",
    "      dx2 = -e2 + e3\n",
    "      x2 += dx2\n",
    "\n",
    "      if t == 1:\n",
    "        dW2 = e2[:, :, None] @ activation1(x1)[:, None, :]\n",
    "        db2 = e2\n",
    "        W2 += lr * dW2.mean(dim=0)\n",
    "        b2 += lr * db2.mean(dim=0)\n",
    "\n",
    "      e1 = x1 - u1\n",
    "      dx1 = -e1 + activation1(x1, deriv=True) * (e2 @ W2)\n",
    "      x1 += dx1\n",
    "\n",
    "      if t == 2:\n",
    "        dW1 = e1[:, :, None] @ x0[:, None, :]\n",
    "        db1 = e1\n",
    "        W1 += lr * dW1.mean(dim=0)\n",
    "        b1 += lr * db1.mean(dim=0)\n",
    "\n",
    "      #print(e1.abs().mean(), e2.abs().mean(), e3.abs().mean())\n",
    "    #break\n",
    "\n",
    "    if step % 100 == 0: \n",
    "      tqdm_train_data.set_description(f\"Testing - Loss: {loss.item():.4f} - Accuracy: {accuracy*100:.2f}%\")\n",
    "      tested = 0\n",
    "      correct = 0\n",
    "      for images, labels in test_data:\n",
    "        x0 = images.flatten(start_dim=1)\n",
    "        pred = activation1(x0 @ W1.T + b1) @ W2.T + b2\n",
    "        pred_labels = pred.argmax(dim=1)\n",
    "\n",
    "        tested += len(pred_labels)\n",
    "        correct += (pred_labels == labels).sum()\n",
    "      accuracy = correct / tested\n",
    "\n",
    "      accuracy_history.append((step, accuracy))"
   ]
  },
  {
   "cell_type": "code",
   "execution_count": 24,
   "id": "33bc3a11",
   "metadata": {},
   "outputs": [
    {
     "data": {
      "image/png": "[encoded data removed]",
      "text/plain": [
       "<Figure size 432x288 with 1 Axes>"
      ]
     },
     "metadata": {
      "needs_background": "light"
     },
     "output_type": "display_data"
    }
   ],
   "source": [
    "plt.plot(*zip(*loss_history))\n",
    "plt.show()"
   ]
  },
  {
   "cell_type": "code",
   "execution_count": 25,
   "id": "21769005",
   "metadata": {},
   "outputs": [
    {
     "data": {
      "image/png": "[encoded data removed]",
      "text/plain": [
       "<Figure size 432x288 with 1 Axes>"
      ]
     },
     "metadata": {
      "needs_background": "light"
     },
     "output_type": "display_data"
    }
   ],
   "source": [
    "plt.plot(*zip(*accuracy_history))\n",
    "plt.show()"
   ]
  },
  {
   "cell_type": "code",
   "execution_count": 26,
   "id": "532a0281",
   "metadata": {},
   "outputs": [
    {
     "name": "stdout",
     "output_type": "stream",
     "text": [
      "Accuracy: 95.75%\n"
     ]
    }
   ],
   "source": [
    "tested = 0\n",
    "correct = 0\n",
    "for images, labels in test_data:\n",
    "  x0 = images.flatten(start_dim=1)\n",
    "  pred = activation1(x0 @ W1.T + b1) @ W2.T + b2\n",
    "  pred_labels = pred.argmax(dim=1)\n",
    "\n",
    "  tested += len(pred_labels)\n",
    "  correct += (pred_labels == labels).sum()\n",
    "\n",
    "accuracy = correct / tested\n",
    "print(f\"Accuracy: {accuracy*100:.2f}%\")"
   ]
  },
  {
   "cell_type": "code",
   "execution_count": null,
   "id": "d3bff670",
   "metadata": {},
   "outputs": [],
   "source": []
  }
 ],
 "metadata": {
  "interpreter": {
   "hash": "a9dcdb033610e0f0b6c0ad22ac046a6d96792469febf86f491713b8d1d50e429"
  },
  "kernelspec": {
   "display_name": "Python 3.9.7 64-bit ('bachelor-project': conda)",
   "language": "python",
   "name": "python3"
  },
  "language_info": {
   "codemirror_mode": {
    "name": "ipython",
    "version": 3
   },
   "file_extension": ".py",
   "mimetype": "text/x-python",
   "name": "python",
   "nbconvert_exporter": "python",
   "pygments_lexer": "ipython3",
   "version": "3.9.7"
  }
 },
 "nbformat": 4,
 "nbformat_minor": 5
}

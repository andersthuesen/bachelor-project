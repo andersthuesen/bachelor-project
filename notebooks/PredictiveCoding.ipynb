{
 "cells": [
  {
   "cell_type": "code",
   "execution_count": 230,
   "id": "c175d1db",
   "metadata": {},
   "outputs": [],
   "source": [
    "import math\n",
    "import random\n",
    "import torch\n",
    "import torch.nn as nn\n",
    "import torch.nn.functional as F\n",
    "from torch.utils.data import DataLoader\n",
    "from torchvision.transforms import ToTensor\n",
    "from torchvision.datasets import MNIST\n",
    "import matplotlib.pyplot as plt\n",
    "from tqdm.notebook import tqdm"
   ]
  },
  {
   "cell_type": "code",
   "execution_count": 231,
   "id": "23c5a7de",
   "metadata": {},
   "outputs": [],
   "source": [
    "# Prepare train and test data\n",
    "train_dataset = MNIST(download=True, root='data', train=True, transform=ToTensor())\n",
    "train_data = DataLoader(train_dataset, batch_size=64, shuffle=False)\n",
    "\n",
    "test_dataset = MNIST(download=True, root='data', train=False, transform=ToTensor())\n",
    "test_data = DataLoader(test_dataset, batch_size=32, shuffle=False)"
   ]
  },
  {
   "cell_type": "code",
   "execution_count": 235,
   "id": "f5a50809",
   "metadata": {},
   "outputs": [],
   "source": [
    "# Make results reproducible\n",
    "random.seed(0)\n",
    "torch.manual_seed(0)\n",
    "torch.use_deterministic_algorithms(True)"
   ]
  },
  {
   "cell_type": "code",
   "execution_count": 236,
   "id": "5b1a7321",
   "metadata": {},
   "outputs": [],
   "source": [
    "def sigmoid(x, deriv=False):\n",
    "  out = F.sigmoid(x)\n",
    "  if deriv:\n",
    "    return out * (1 - out)\n",
    "  return out\n",
    "\n",
    "def leaky_relu(x, deriv=False):\n",
    "  factor = (x > 0) + 0.1\n",
    "  if deriv:\n",
    "    return factor\n",
    "  return factor * x\n",
    "\n",
    "\n",
    "def softmax(x, deriv=False):\n",
    "  if deriv:\n",
    "    # This is little unusual, but is required to calculate correct the correct partial derivate if e = x - u\n",
    "    return torch.ones_like(x) \n",
    "  return x.exp() / x.exp().sum(dim=1, keepdim=True)\n",
    "\n",
    "def onehot(x, n_classes):\n",
    "  return torch.eye(n_classes)[x]\n",
    "\n",
    "def get_weights_and_biases(in_features, out_features):\n",
    "  W = torch.randn((out_features, in_features)) * 2/math.sqrt(in_features)\n",
    "  b = torch.zeros(out_features)\n",
    "\n",
    "  return W, b"
   ]
  },
  {
   "cell_type": "code",
   "execution_count": 237,
   "id": "86f86731",
   "metadata": {},
   "outputs": [],
   "source": [
    "# Define out layer sizes\n",
    "in_features = 784\n",
    "hidden1_features = 600\n",
    "hidden2_features = 600\n",
    "out_features = 10\n",
    "\n",
    "# Define weights and biases\n",
    "W1, b1 = get_weights_and_biases(in_features, hidden1_features)\n",
    "W2, b2 = get_weights_and_biases(hidden1_features, hidden2_features)\n",
    "W3, b3 = get_weights_and_biases(hidden2_features, out_features)\n",
    "\n",
    "activation1 = leaky_relu\n",
    "activation2 = leaky_relu\n",
    "activation3 = softmax\n",
    "\n",
    "# Prepare loss history\n",
    "loss_history = []"
   ]
  },
  {
   "cell_type": "code",
   "execution_count": 238,
   "id": "331692ae",
   "metadata": {},
   "outputs": [],
   "source": [
    "# Baseline backprop model\n",
    "class MLP(nn.Module):\n",
    "  def __init__(self, in_features, hidden1_features, hidden2_features, out_features):\n",
    "    super().__init__()\n",
    "    self.l1 = nn.Linear(in_features, hidden1_features)\n",
    "    self.l2 = nn.Linear(hidden1_features, hidden2_features)\n",
    "    self.l3 = nn.Linear(hidden2_features, out_features)\n",
    "\n",
    "    # Start with exactly the same weights.\n",
    "    with torch.no_grad():\n",
    "      self.l1.weight.copy_(W1)\n",
    "      self.l1.bias.copy_(b1)\n",
    "      self.l2.weight.copy_(W2)\n",
    "      self.l2.bias.copy_(b2)\n",
    "      self.l3.weight.copy_(W3)\n",
    "      self.l3.bias.copy_(b3)\n",
    "\n",
    "  def forward(self, x):\n",
    "    x = activation1(self.l1(x))\n",
    "    x = activation2(self.l2(x))\n",
    "    x = self.l3(x)\n",
    "    return x\n",
    "\n",
    "\n",
    "model = MLP(in_features, hidden1_features, hidden2_features, out_features)"
   ]
  },
  {
   "cell_type": "code",
   "execution_count": 239,
   "id": "d7b04855",
   "metadata": {},
   "outputs": [],
   "source": [
    "lr = 1e-1\n",
    "criterion = nn.CrossEntropyLoss()\n",
    "optimizer = torch.optim.SGD(model.parameters(), lr=lr)\n",
    "loss_history = []\n",
    "accuracy_history = []"
   ]
  },
  {
   "cell_type": "code",
   "execution_count": 240,
   "id": "3261c53d",
   "metadata": {},
   "outputs": [
    {
     "name": "stdout",
     "output_type": "stream",
     "text": [
      "Epoch 1\n"
     ]
    },
    {
     "data": {
      "application/vnd.jupyter.widget-view+json": {
       "model_id": "0e28689f0a7f40e5b7d9d10882c31e73",
       "version_major": 2,
       "version_minor": 0
      },
      "text/plain": [
       "  0%|          | 0/938 [00:00<?, ?it/s]"
      ]
     },
     "metadata": {},
     "output_type": "display_data"
    },
    {
     "name": "stdout",
     "output_type": "stream",
     "text": [
      "Epoch 2\n"
     ]
    },
    {
     "data": {
      "application/vnd.jupyter.widget-view+json": {
       "model_id": "df54c70fc25048f683a8c9dc05cad174",
       "version_major": 2,
       "version_minor": 0
      },
      "text/plain": [
       "  0%|          | 0/938 [00:00<?, ?it/s]"
      ]
     },
     "metadata": {},
     "output_type": "display_data"
    },
    {
     "name": "stdout",
     "output_type": "stream",
     "text": [
      "Epoch 3\n"
     ]
    },
    {
     "data": {
      "application/vnd.jupyter.widget-view+json": {
       "model_id": "e0e13ec0ad744607b5311e04fb277b00",
       "version_major": 2,
       "version_minor": 0
      },
      "text/plain": [
       "  0%|          | 0/938 [00:00<?, ?it/s]"
      ]
     },
     "metadata": {},
     "output_type": "display_data"
    },
    {
     "name": "stdout",
     "output_type": "stream",
     "text": [
      "Epoch 4\n"
     ]
    },
    {
     "data": {
      "application/vnd.jupyter.widget-view+json": {
       "model_id": "083ef2d662954093a5887163001ba36a",
       "version_major": 2,
       "version_minor": 0
      },
      "text/plain": [
       "  0%|          | 0/938 [00:00<?, ?it/s]"
      ]
     },
     "metadata": {},
     "output_type": "display_data"
    },
    {
     "name": "stdout",
     "output_type": "stream",
     "text": [
      "Epoch 5\n"
     ]
    },
    {
     "data": {
      "application/vnd.jupyter.widget-view+json": {
       "model_id": "f8f62a2ff1cd4661a27c32bfa4838d1f",
       "version_major": 2,
       "version_minor": 0
      },
      "text/plain": [
       "  0%|          | 0/938 [00:00<?, ?it/s]"
      ]
     },
     "metadata": {},
     "output_type": "display_data"
    }
   ],
   "source": [
    "step = 0\n",
    "for epoch in range(5):\n",
    "  print(f\"Epoch {epoch+1}\")\n",
    "  tqdm_train_data = tqdm(train_data)\n",
    "  for images, labels in tqdm_train_data:\n",
    "    step += 1\n",
    "\n",
    "    optimizer.zero_grad()\n",
    "    x0 = images.flatten(start_dim=1)\n",
    "\n",
    "    pred = model(x0)\n",
    "    loss = criterion(pred, labels)\n",
    "    loss.backward()\n",
    "\n",
    "    loss_history.append((step, loss.item()))\n",
    "\n",
    "    tqdm_train_data.set_description(f\"Loss: {loss.item()}\")\n",
    "\n",
    "    optimizer.step()\n",
    "\n",
    "    if step % 100 == 0: \n",
    "      model.eval()\n",
    "      tqdm_train_data.set_description(f\"Testing\")\n",
    "      tested = 0\n",
    "      correct = 0\n",
    "      for images, labels in test_data:\n",
    "        x0 = images.flatten(start_dim=1)\n",
    "        x3_pred = model(x0)\n",
    "        pred_labels = x3_pred.argmax(dim=1)\n",
    "\n",
    "        tested += len(pred_labels)\n",
    "        correct += (pred_labels == labels).sum()\n",
    "\n",
    "      accuracy = correct / tested\n",
    "      accuracy_history.append((step, accuracy))\n",
    "      model.train()\n",
    "    "
   ]
  },
  {
   "cell_type": "code",
   "execution_count": 241,
   "id": "7a096b34",
   "metadata": {},
   "outputs": [
    {
     "data": {
      "image/png": "[encoded data removed]",
      "text/plain": [
       "<Figure size 432x288 with 1 Axes>"
      ]
     },
     "metadata": {
      "needs_background": "light"
     },
     "output_type": "display_data"
    }
   ],
   "source": [
    "plt.plot(*zip(*accuracy_history))\n",
    "plt.show()"
   ]
  },
  {
   "cell_type": "code",
   "execution_count": 242,
   "id": "6f62f928",
   "metadata": {},
   "outputs": [
    {
     "data": {
      "image/png": "[encoded data removed]",
      "text/plain": [
       "<Figure size 432x288 with 1 Axes>"
      ]
     },
     "metadata": {
      "needs_background": "light"
     },
     "output_type": "display_data"
    }
   ],
   "source": [
    "plt.plot(*zip(*loss_history))\n",
    "plt.show()"
   ]
  },
  {
   "cell_type": "code",
   "execution_count": 244,
   "id": "4117fd4b",
   "metadata": {},
   "outputs": [],
   "source": [
    "# Save loss and accuracy history\n",
    "torch.save(loss_history, \"../results/backprop-loss_history.pt\")\n",
    "torch.save(accuracy_history, \"../results/backprop-accuracy_history.pt\")"
   ]
  },
  {
   "cell_type": "code",
   "execution_count": 197,
   "id": "5ae7e5d1",
   "metadata": {},
   "outputs": [
    {
     "name": "stdout",
     "output_type": "stream",
     "text": [
      "Accuracy: 93.55999755859375%\n"
     ]
    }
   ],
   "source": [
    "tested = 0\n",
    "correct = 0\n",
    "for images, labels in test_data:\n",
    "  x0 = images.flatten(start_dim=1)\n",
    "  x3_pred = model(x0)\n",
    "  pred_labels = x3_pred.argmax(dim=1)\n",
    "\n",
    "  tested += len(pred_labels)\n",
    "  correct += (pred_labels == labels).sum()\n",
    "\n",
    "accuracy = correct / tested\n",
    "print(f\"Accuracy: {accuracy * 100}%\")"
   ]
  },
  {
   "cell_type": "code",
   "execution_count": 173,
   "id": "0542abb5",
   "metadata": {},
   "outputs": [
    {
     "name": "stdout",
     "output_type": "stream",
     "text": [
      "tensor(1.6816)\n",
      "tensor(1.6816)\n"
     ]
    }
   ],
   "source": [
    "logits = torch.tensor([[2.0, 5.0, 2.0, 2.0, 2.0], [2.0, 5.0, 2.0, 2.0, 2.0]])\n",
    "pred = softmax(logits)\n",
    "labels = torch.tensor([1, 2])\n",
    "\n",
    "print(nn.CrossEntropyLoss()(logits, labels))\n",
    "print(-(torch.log(pred) * torch.stack([onehot(label, pred.shape[1]) for label in labels])).sum(dim=1).mean())"
   ]
  },
  {
   "cell_type": "code",
   "execution_count": null,
   "id": "b4ed4d9d",
   "metadata": {},
   "outputs": [],
   "source": [
    "loss_history = []\n",
    "accuracy_history = []"
   ]
  },
  {
   "cell_type": "code",
   "execution_count": 184,
   "id": "441be1c2",
   "metadata": {},
   "outputs": [],
   "source": [
    "# Setup hyperparameters\n",
    "ir = 1e-1 # Inference rate\n",
    "lr = 1e-1 # Learning rate\n",
    "\n",
    "# Should we just test the inference part\n",
    "test = False"
   ]
  },
  {
   "cell_type": "code",
   "execution_count": 185,
   "id": "bae4d3bf",
   "metadata": {},
   "outputs": [
    {
     "name": "stdout",
     "output_type": "stream",
     "text": [
      "Epoch 1\n"
     ]
    },
    {
     "data": {
      "application/vnd.jupyter.widget-view+json": {
       "model_id": "b6b1c3e6ce2b4c57bd19016c62c7a0da",
       "version_major": 2,
       "version_minor": 0
      },
      "text/plain": [
       "  0%|          | 0/938 [00:00<?, ?it/s]"
      ]
     },
     "metadata": {},
     "output_type": "display_data"
    },
    {
     "data": {
      "image/png": "[encoded data removed]",
      "text/plain": [
       "<Figure size 432x288 with 1 Axes>"
      ]
     },
     "metadata": {
      "needs_background": "light"
     },
     "output_type": "display_data"
    },
    {
     "data": {
      "image/png": "[encoded data removed]",
      "text/plain": [
       "<Figure size 432x288 with 1 Axes>"
      ]
     },
     "metadata": {
      "needs_background": "light"
     },
     "output_type": "display_data"
    },
    {
     "data": {
      "image/png": "[encoded data removed]",
      "text/plain": [
       "<Figure size 432x288 with 1 Axes>"
      ]
     },
     "metadata": {
      "needs_background": "light"
     },
     "output_type": "display_data"
    },
    {
     "data": {
      "image/png": "[encoded data removed]",
      "text/plain": [
       "<Figure size 432x288 with 1 Axes>"
      ]
     },
     "metadata": {
      "needs_background": "light"
     },
     "output_type": "display_data"
    }
   ],
   "source": [
    "# Training loop\n",
    "step = 0\n",
    "for epoch in range(5):\n",
    "  print(f\"Epoch {epoch+1}\")\n",
    "  tqdm_train_data = tqdm(train_data)\n",
    "  for images, labels in tqdm_train_data:\n",
    "    step += 1\n",
    "    x0 = images.flatten(start_dim=1)\n",
    "    batch_dim = x0.shape[0]\n",
    "    x1 = torch.zeros((batch_dim, hidden1_features))\n",
    "    v1 = torch.zeros((hidden1_features))\n",
    "\n",
    "    x2 = torch.zeros((batch_dim, hidden2_features))\n",
    "    v2 = torch.zeros((hidden2_features))\n",
    "\n",
    "    x3 = torch.zeros((batch_dim, out_features))\n",
    "    v3 = torch.zeros((out_features))\n",
    "\n",
    "    x4 = onehot(labels, n_classes=10) # Constrain output to be the correct labels.\n",
    "\n",
    "    x4_pred = activation3(activation2(activation1(x0 @ W1.T + b1) @ W2.T + b2) @ W3.T + b3)\n",
    "\n",
    "    loss = -(torch.log(x4_pred) * x4).sum(dim=1).mean()\n",
    "    tqdm_train_data.set_description(f\"Loss: {loss}\")\n",
    "    loss_history.append(loss)\n",
    "    errors_history = []\n",
    "\n",
    "    # Run predictive coding inference. \n",
    "    for t in range(200):\n",
    "      u1 = x0 @ W1.T + b1\n",
    "      u2 = activation1(x1) @ W2.T + b2\n",
    "      u3 = activation2(x2) @ W3.T + b3\n",
    "      u4 = activation3(x3)\n",
    "\n",
    "      # Calculate errors\n",
    "      e1 = x1 - u1\n",
    "      e2 = x2 - u2\n",
    "      e3 = x3 - u3\n",
    "      e4 = x4 - u4\n",
    "\n",
    "      # Canculate derivatives\n",
    "      dx1 = -e1 + activation1(x1, deriv=True) * (e2 @ W2)\n",
    "      dx2 = -e2 + activation2(x2, deriv=True) * (e3 @ W3)\n",
    "      dx3 = -e3 + activation3(x3, deriv=True) * (e4)\n",
    "      #dx4 = -e4 # Only do this during inference\n",
    "\n",
    "      # Do actual steps\n",
    "      x1 += ir * dx1\n",
    "      x2 += ir * dx2\n",
    "      x3 += ir * dx3\n",
    "      #x4 -= ir * dx4 # Only do this during inference.\n",
    "\n",
    "      if test:\n",
    "        errors_history.append(((e1 ** 2).mean(), (e2 ** 2).mean(), (e3 ** 2).mean(), (e4 ** 2).mean()))\n",
    "\n",
    "    error_histories = zip(*errors_history)\n",
    "    for error_history in error_histories:\n",
    "      plt.plot(error_history)\n",
    "      plt.show()\n",
    "      \n",
    "    if test:\n",
    "      break\n",
    "\n",
    "    # Calculate gradients\n",
    "    dW1 = e1[:, :, None] @ activation1(x0)[:, None, :]\n",
    "    dW2 = e2[:, :, None] @ activation2(x1)[:, None, :]\n",
    "    dW3 = e3[:, :, None] @ activation3(x2)[:, None, :]\n",
    "\n",
    "    db1 = e1\n",
    "    db2 = e2\n",
    "    db3 = e3\n",
    "\n",
    "    # Perform weight update here.\n",
    "    W1 += lr * dW1.mean(dim=0)\n",
    "    b1 += lr * db1.mean(dim=0)\n",
    "\n",
    "    W2 += lr * dW2.mean(dim=0)\n",
    "    b2 += lr * db2.mean(dim=0)\n",
    "\n",
    "    W3 += lr * dW3.mean(dim=0)\n",
    "    b3 += lr * db3.mean(dim=0)\n",
    "\n",
    "    if step % 100 == 0:\n",
    "      tqdm_train_data.set_description(f\"Testing\")\n",
    "      tested = 0\n",
    "      correct = 0\n",
    "      for images, labels in test_data:\n",
    "        x0 = images.flatten(start_dim=1)\n",
    "        pred = activation3(activation2(activation1(x0 @ W1.T + b1) @ W2.T + b2) @ W3.T + b3)\n",
    "        pred_labels = pred.argmax(dim=1)\n",
    "\n",
    "        tested += len(pred_labels)\n",
    "        correct += (pred_labels == labels).sum()\n",
    "\n",
    "      accuracy = correct / tested\n",
    "      accuracy_history.append((step, accuracy))\n",
    "\n",
    "  if test:\n",
    "    break"
   ]
  },
  {
   "cell_type": "code",
   "execution_count": 176,
   "id": "33ef333f",
   "metadata": {},
   "outputs": [
    {
     "data": {
      "image/png": "[encoded data removed]",
      "text/plain": [
       "<Figure size 432x288 with 1 Axes>"
      ]
     },
     "metadata": {
      "needs_background": "light"
     },
     "output_type": "display_data"
    }
   ],
   "source": [
    "plt.plot(loss_history)\n",
    "plt.show()"
   ]
  },
  {
   "cell_type": "code",
   "execution_count": 177,
   "id": "a15b2b1b",
   "metadata": {},
   "outputs": [
    {
     "name": "stdout",
     "output_type": "stream",
     "text": [
      "Accuracy: 88.38999938964844%\n"
     ]
    }
   ],
   "source": [
    "tested = 0\n",
    "correct = 0\n",
    "for images, labels in test_data:\n",
    "  x0 = images.flatten(start_dim=1)\n",
    "  x3_pred = activation3(activation2(activation1(x0 @ W1.T + b1) @ W2.T + b2) @ W3.T + b3)\n",
    "  pred_labels = x3_pred.argmax(dim=1)\n",
    "\n",
    "  tested += len(pred_labels)\n",
    "  correct += (pred_labels == labels).sum()\n",
    "\n",
    "accuracy = correct / tested\n",
    "print(f\"Accuracy: {accuracy * 100}%\")"
   ]
  },
  {
   "cell_type": "code",
   "execution_count": 268,
   "id": "4a324cde",
   "metadata": {},
   "outputs": [],
   "source": []
  },
  {
   "cell_type": "code",
   "execution_count": 269,
   "id": "fedb69b9",
   "metadata": {},
   "outputs": [
    {
     "name": "stdout",
     "output_type": "stream",
     "text": [
      "Epoch 1\n"
     ]
    },
    {
     "data": {
      "application/vnd.jupyter.widget-view+json": {
       "model_id": "14b4963ccdcd4f04a8f940bca3d7c4c0",
       "version_major": 2,
       "version_minor": 0
      },
      "text/plain": [
       "  0%|          | 0/938 [00:00<?, ?it/s]"
      ]
     },
     "metadata": {},
     "output_type": "display_data"
    },
    {
     "name": "stdout",
     "output_type": "stream",
     "text": [
      "Epoch 2\n"
     ]
    },
    {
     "data": {
      "application/vnd.jupyter.widget-view+json": {
       "model_id": "0db3b35e782c48e9a030cc092189454f",
       "version_major": 2,
       "version_minor": 0
      },
      "text/plain": [
       "  0%|          | 0/938 [00:00<?, ?it/s]"
      ]
     },
     "metadata": {},
     "output_type": "display_data"
    },
    {
     "name": "stdout",
     "output_type": "stream",
     "text": [
      "Epoch 3\n"
     ]
    },
    {
     "data": {
      "application/vnd.jupyter.widget-view+json": {
       "model_id": "d7636f2337834c1094c571030de095c4",
       "version_major": 2,
       "version_minor": 0
      },
      "text/plain": [
       "  0%|          | 0/938 [00:00<?, ?it/s]"
      ]
     },
     "metadata": {},
     "output_type": "display_data"
    },
    {
     "ename": "KeyboardInterrupt",
     "evalue": "",
     "output_type": "error",
     "traceback": [
      "\u001b[0;31m---------------------------------------------------------------------------\u001b[0m",
      "\u001b[0;31mKeyboardInterrupt\u001b[0m                         Traceback (most recent call last)",
      "\u001b[0;32m/var/folders/vs/ylfhyw117z1g5xvn55z8jr3c0000gp/T/ipykernel_59203/4207345141.py\u001b[0m in \u001b[0;36m<module>\u001b[0;34m\u001b[0m\n\u001b[1;32m      8\u001b[0m     \u001b[0mpred\u001b[0m \u001b[0;34m=\u001b[0m \u001b[0mmodel\u001b[0m\u001b[0;34m(\u001b[0m\u001b[0mx0\u001b[0m\u001b[0;34m)\u001b[0m\u001b[0;34m\u001b[0m\u001b[0;34m\u001b[0m\u001b[0m\n\u001b[1;32m      9\u001b[0m     \u001b[0mloss\u001b[0m \u001b[0;34m=\u001b[0m \u001b[0mcriterion\u001b[0m\u001b[0;34m(\u001b[0m\u001b[0mpred\u001b[0m\u001b[0;34m,\u001b[0m \u001b[0mlabels\u001b[0m\u001b[0;34m)\u001b[0m\u001b[0;34m\u001b[0m\u001b[0;34m\u001b[0m\u001b[0m\n\u001b[0;32m---> 10\u001b[0;31m     \u001b[0mloss\u001b[0m\u001b[0;34m.\u001b[0m\u001b[0mbackward\u001b[0m\u001b[0;34m(\u001b[0m\u001b[0;34m)\u001b[0m\u001b[0;34m\u001b[0m\u001b[0;34m\u001b[0m\u001b[0m\n\u001b[0m\u001b[1;32m     11\u001b[0m \u001b[0;34m\u001b[0m\u001b[0m\n\u001b[1;32m     12\u001b[0m     \u001b[0mtqdm_train_data\u001b[0m\u001b[0;34m.\u001b[0m\u001b[0mset_description\u001b[0m\u001b[0;34m(\u001b[0m\u001b[0;34mf\"Loss: {loss.item()}\"\u001b[0m\u001b[0;34m)\u001b[0m\u001b[0;34m\u001b[0m\u001b[0;34m\u001b[0m\u001b[0m\n",
      "\u001b[0;32m/opt/homebrew/Caskroom/miniforge/base/envs/bachelor-project/lib/python3.9/site-packages/torch/_tensor.py\u001b[0m in \u001b[0;36mbackward\u001b[0;34m(self, gradient, retain_graph, create_graph, inputs)\u001b[0m\n\u001b[1;32m    305\u001b[0m                 \u001b[0mcreate_graph\u001b[0m\u001b[0;34m=\u001b[0m\u001b[0mcreate_graph\u001b[0m\u001b[0;34m,\u001b[0m\u001b[0;34m\u001b[0m\u001b[0;34m\u001b[0m\u001b[0m\n\u001b[1;32m    306\u001b[0m                 inputs=inputs)\n\u001b[0;32m--> 307\u001b[0;31m         \u001b[0mtorch\u001b[0m\u001b[0;34m.\u001b[0m\u001b[0mautograd\u001b[0m\u001b[0;34m.\u001b[0m\u001b[0mbackward\u001b[0m\u001b[0;34m(\u001b[0m\u001b[0mself\u001b[0m\u001b[0;34m,\u001b[0m \u001b[0mgradient\u001b[0m\u001b[0;34m,\u001b[0m \u001b[0mretain_graph\u001b[0m\u001b[0;34m,\u001b[0m \u001b[0mcreate_graph\u001b[0m\u001b[0;34m,\u001b[0m \u001b[0minputs\u001b[0m\u001b[0;34m=\u001b[0m\u001b[0minputs\u001b[0m\u001b[0;34m)\u001b[0m\u001b[0;34m\u001b[0m\u001b[0;34m\u001b[0m\u001b[0m\n\u001b[0m\u001b[1;32m    308\u001b[0m \u001b[0;34m\u001b[0m\u001b[0m\n\u001b[1;32m    309\u001b[0m     \u001b[0;32mdef\u001b[0m \u001b[0mregister_hook\u001b[0m\u001b[0;34m(\u001b[0m\u001b[0mself\u001b[0m\u001b[0;34m,\u001b[0m \u001b[0mhook\u001b[0m\u001b[0;34m)\u001b[0m\u001b[0;34m:\u001b[0m\u001b[0;34m\u001b[0m\u001b[0;34m\u001b[0m\u001b[0m\n",
      "\u001b[0;32m/opt/homebrew/Caskroom/miniforge/base/envs/bachelor-project/lib/python3.9/site-packages/torch/autograd/__init__.py\u001b[0m in \u001b[0;36mbackward\u001b[0;34m(tensors, grad_tensors, retain_graph, create_graph, grad_variables, inputs)\u001b[0m\n\u001b[1;32m    152\u001b[0m         \u001b[0mretain_graph\u001b[0m \u001b[0;34m=\u001b[0m \u001b[0mcreate_graph\u001b[0m\u001b[0;34m\u001b[0m\u001b[0;34m\u001b[0m\u001b[0m\n\u001b[1;32m    153\u001b[0m \u001b[0;34m\u001b[0m\u001b[0m\n\u001b[0;32m--> 154\u001b[0;31m     Variable._execution_engine.run_backward(\n\u001b[0m\u001b[1;32m    155\u001b[0m         \u001b[0mtensors\u001b[0m\u001b[0;34m,\u001b[0m \u001b[0mgrad_tensors_\u001b[0m\u001b[0;34m,\u001b[0m \u001b[0mretain_graph\u001b[0m\u001b[0;34m,\u001b[0m \u001b[0mcreate_graph\u001b[0m\u001b[0;34m,\u001b[0m \u001b[0minputs\u001b[0m\u001b[0;34m,\u001b[0m\u001b[0;34m\u001b[0m\u001b[0;34m\u001b[0m\u001b[0m\n\u001b[1;32m    156\u001b[0m         allow_unreachable=True, accumulate_grad=True)  # allow_unreachable flag\n",
      "\u001b[0;31mKeyboardInterrupt\u001b[0m: "
     ]
    }
   ],
   "source": []
  }
 ],
 "metadata": {
  "interpreter": {
   "hash": "a9dcdb033610e0f0b6c0ad22ac046a6d96792469febf86f491713b8d1d50e429"
  },
  "kernelspec": {
   "display_name": "Python 3.9.7 64-bit ('bachelor-project': conda)",
   "language": "python",
   "name": "python3"
  },
  "language_info": {
   "codemirror_mode": {
    "name": "ipython",
    "version": 3
   },
   "file_extension": ".py",
   "mimetype": "text/x-python",
   "name": "python",
   "nbconvert_exporter": "python",
   "pygments_lexer": "ipython3",
   "version": "3.9.7"
  }
 },
 "nbformat": 4,
 "nbformat_minor": 5
}

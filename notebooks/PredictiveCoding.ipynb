{
 "cells": [
  {
   "cell_type": "code",
   "execution_count": 8,
   "id": "c175d1db",
   "metadata": {},
   "outputs": [],
   "source": [
    "import numpy as np\n",
    "from torch.utils.data import DataLoader\n",
    "from torchvision.transforms import ToTensor\n",
    "from torchvision.datasets import MNIST\n",
    "import matplotlib.pyplot as plt\n",
    "from tqdm.notebook import tqdm"
   ]
  },
  {
   "cell_type": "code",
   "execution_count": 9,
   "id": "23c5a7de",
   "metadata": {},
   "outputs": [],
   "source": [
    "train_dataset = MNIST(download=True, root='data', train=True, transform=ToTensor())\n",
    "train_data = DataLoader(train_dataset, batch_size=64, shuffle=False)\n",
    "\n",
    "test_dataset = MNIST(download=True, root='data', train=False, transform=ToTensor())\n",
    "test_data = DataLoader(test_dataset, batch_size=32, shuffle=False)\n"
   ]
  },
  {
   "cell_type": "code",
   "execution_count": 252,
   "id": "bab4395a",
   "metadata": {},
   "outputs": [],
   "source": [
    "def sigmoid(x, deriv=False):\n",
    "  out = 1.0 / (1.0 + np.exp(-x))\n",
    "  if deriv:\n",
    "    return out * (1 - out)\n",
    "  return out\n",
    "\n",
    "def leaky_relu(x, deriv=False):\n",
    "  factor = ((x > 0) + 0.1)\n",
    "  if deriv:\n",
    "    return factor\n",
    "  return factor * x"
   ]
  },
  {
   "cell_type": "code",
   "execution_count": 256,
   "id": "ef075ed7",
   "metadata": {},
   "outputs": [
    {
     "name": "stdout",
     "output_type": "stream",
     "text": [
      "Epoch 1\n"
     ]
    },
    {
     "data": {
      "application/vnd.jupyter.widget-view+json": {
       "model_id": "2d840daeaf5f485c835695b5c2ec2823",
       "version_major": 2,
       "version_minor": 0
      },
      "text/plain": [
       "  0%|          | 0/938 [00:00<?, ?it/s]"
      ]
     },
     "metadata": {},
     "output_type": "display_data"
    },
    {
     "name": "stdout",
     "output_type": "stream",
     "text": [
      "Epoch 2\n"
     ]
    },
    {
     "data": {
      "application/vnd.jupyter.widget-view+json": {
       "model_id": "53c936e2e7134ddcb0a2e57f87d7c57b",
       "version_major": 2,
       "version_minor": 0
      },
      "text/plain": [
       "  0%|          | 0/938 [00:00<?, ?it/s]"
      ]
     },
     "metadata": {},
     "output_type": "display_data"
    },
    {
     "name": "stdout",
     "output_type": "stream",
     "text": [
      "Epoch 3\n"
     ]
    },
    {
     "data": {
      "application/vnd.jupyter.widget-view+json": {
       "model_id": "d13f60fe3c4647d5bb83c335d4592185",
       "version_major": 2,
       "version_minor": 0
      },
      "text/plain": [
       "  0%|          | 0/938 [00:00<?, ?it/s]"
      ]
     },
     "metadata": {},
     "output_type": "display_data"
    },
    {
     "name": "stdout",
     "output_type": "stream",
     "text": [
      "Epoch 4\n"
     ]
    },
    {
     "data": {
      "application/vnd.jupyter.widget-view+json": {
       "model_id": "af543059ebc84556bc2d17fe5ef18863",
       "version_major": 2,
       "version_minor": 0
      },
      "text/plain": [
       "  0%|          | 0/938 [00:00<?, ?it/s]"
      ]
     },
     "metadata": {},
     "output_type": "display_data"
    },
    {
     "name": "stdout",
     "output_type": "stream",
     "text": [
      "Epoch 5\n"
     ]
    },
    {
     "data": {
      "application/vnd.jupyter.widget-view+json": {
       "model_id": "8d7a0f3cb90942ba8ab418fc59688d73",
       "version_major": 2,
       "version_minor": 0
      },
      "text/plain": [
       "  0%|          | 0/938 [00:00<?, ?it/s]"
      ]
     },
     "metadata": {},
     "output_type": "display_data"
    }
   ],
   "source": [
    "ir = 1 # Inference rate\n",
    "lr = 1e-2 # Learning rate\n",
    "\n",
    "def get_weights_and_biases(in_features, out_features):\n",
    "  w = (np.random.random((out_features, in_features)) * 2 - 1) * 1/np.sqrt(in_features)\n",
    "  b = np.zeros(out_features)\n",
    "\n",
    "  return w, b\n",
    "\n",
    "# Define out layer sizes\n",
    "in_features = 784\n",
    "hidden_features = 256\n",
    "out_features = 10\n",
    "\n",
    "# Define weights and biases\n",
    "W1, b1 = get_weights_and_biases(in_features, hidden_features)\n",
    "W2, b2 = get_weights_and_biases(hidden_features, out_features)\n",
    "\n",
    "loss_history = []\n",
    "activation1 = leaky_relu\n",
    "activation2 = sigmoid\n",
    "\n",
    "for epoch in range(5):\n",
    "  print(f\"Epoch {epoch+1}\")\n",
    "  tqdm_train_data = tqdm(train_data)\n",
    "  for images, labels in tqdm_train_data:\n",
    "    x0 = images.flatten(start_dim=1).numpy()\n",
    "    x1 = np.zeros((x0.shape[0], hidden_features))\n",
    "    x2 = np.zeros((x0.shape[0], out_features))\n",
    "    x3 = onehot(labels) # Constrain output to be the correct labels.\n",
    "\n",
    "    x3_pred = activation2(activation1(x0 @ W1.T + b1) @ W2.T + b2)\n",
    "\n",
    "    loss = ((x3 - x3_pred) ** 2).mean() # MSE loss\n",
    "    tqdm_train_data.set_description(f\"Loss: {loss}\")\n",
    "    loss_history.append(loss)\n",
    "    errors_history = []\n",
    "\n",
    "    # Run predictive coding inference. \n",
    "    for t in range(10):\n",
    "      u1 = x0 @ W1.T + b1\n",
    "      u2 = activation1(x1) @ W2.T + b2\n",
    "      u3 = activation2(x2)\n",
    "\n",
    "      # Calculate errors\n",
    "      e1 = x1 - u1\n",
    "      e2 = x2 - u2\n",
    "      e3 = x3 - u3\n",
    "\n",
    "      # Canculate derivatives\n",
    "      dx1 = -e1 + activation1(x1, deriv=True) * (e2 @ W2)\n",
    "      dx2 = -e2 + activation2(x2, deriv=True) * e3\n",
    "      #dx3 = -e3 # Only do this during inference\n",
    "\n",
    "      # Do actual steps\n",
    "      x1 += ir * dx1\n",
    "      x2 += ir * dx2\n",
    "      #x3 -= ir * dx3 # Only do this during inference.\n",
    "\n",
    "    error_histories = zip(*errors_history)\n",
    "    for error_history in error_histories:\n",
    "      plt.plot(error_history)\n",
    "      plt.show()\n",
    "      \n",
    "    # Perform weight update here.\n",
    "    dW1 = e1[:, :, None] @ activation1(x0)[:, None, :]\n",
    "    dW2 = e2[:, :, None] @ activation2(x1)[:, None, :]\n",
    "\n",
    "    W1 += lr * dW1.mean(axis=0)\n",
    "    W2 += lr * dW2.mean(axis=0)"
   ]
  },
  {
   "cell_type": "code",
   "execution_count": 257,
   "id": "5722a189",
   "metadata": {},
   "outputs": [
    {
     "data": {
      "image/png": "[encoded data removed]",
      "text/plain": [
       "<Figure size 432x288 with 1 Axes>"
      ]
     },
     "metadata": {
      "needs_background": "light"
     },
     "output_type": "display_data"
    }
   ],
   "source": [
    "plt.plot(loss_history)\n",
    "plt.show()"
   ]
  },
  {
   "cell_type": "code",
   "execution_count": 258,
   "id": "0f747a57",
   "metadata": {},
   "outputs": [
    {
     "data": {
      "image/png": "[encoded data removed]",
      "text/plain": [
       "<Figure size 432x288 with 1 Axes>"
      ]
     },
     "metadata": {
      "needs_background": "light"
     },
     "output_type": "display_data"
    },
    {
     "data": {
      "image/png": "[encoded data removed]",
      "text/plain": [
       "<Figure size 432x288 with 1 Axes>"
      ]
     },
     "metadata": {
      "needs_background": "light"
     },
     "output_type": "display_data"
    },
    {
     "data": {
      "image/png": "[encoded data removed]",
      "text/plain": [
       "<Figure size 432x288 with 1 Axes>"
      ]
     },
     "metadata": {
      "needs_background": "light"
     },
     "output_type": "display_data"
    },
    {
     "data": {
      "image/png": "[encoded data removed]",
      "text/plain": [
       "<Figure size 432x288 with 1 Axes>"
      ]
     },
     "metadata": {
      "needs_background": "light"
     },
     "output_type": "display_data"
    },
    {
     "data": {
      "image/png": "[encoded data removed]",
      "text/plain": [
       "<Figure size 432x288 with 1 Axes>"
      ]
     },
     "metadata": {
      "needs_background": "light"
     },
     "output_type": "display_data"
    },
    {
     "data": {
      "image/png": "[encoded data removed]",
      "text/plain": [
       "<Figure size 432x288 with 1 Axes>"
      ]
     },
     "metadata": {
      "needs_background": "light"
     },
     "output_type": "display_data"
    },
    {
     "data": {
      "image/png": "[encoded data removed]",
      "text/plain": [
       "<Figure size 432x288 with 1 Axes>"
      ]
     },
     "metadata": {
      "needs_background": "light"
     },
     "output_type": "display_data"
    },
    {
     "data": {
      "image/png": "[encoded data removed]",
      "text/plain": [
       "<Figure size 432x288 with 1 Axes>"
      ]
     },
     "metadata": {
      "needs_background": "light"
     },
     "output_type": "display_data"
    },
    {
     "data": {
      "image/png": "[encoded data removed]",
      "text/plain": [
       "<Figure size 432x288 with 1 Axes>"
      ]
     },
     "metadata": {
      "needs_background": "light"
     },
     "output_type": "display_data"
    },
    {
     "data": {
      "image/png": "[encoded data removed]",
      "text/plain": [
       "<Figure size 432x288 with 1 Axes>"
      ]
     },
     "metadata": {
      "needs_background": "light"
     },
     "output_type": "display_data"
    }
   ],
   "source": [
    "for images, labels in test_data:\n",
    "  x0 = images.flatten(start_dim=1).numpy()\n",
    "  x3_pred = activation2(activation1(x0 @ W1.T + b1) @ W2.T + b2)\n",
    "  pred_labels = np.argmax(x3_pred, axis=1)\n",
    "\n",
    "  for i in range(10):\n",
    "    plt.title(f\"Predicted: {pred_labels[i]} Actual: {labels[i]}\")\n",
    "    plt.imshow(images[i].reshape(28, 28))\n",
    "    plt.show()\n",
    "\n",
    "  break"
   ]
  },
  {
   "cell_type": "code",
   "execution_count": null,
   "id": "70cd9fe3",
   "metadata": {},
   "outputs": [],
   "source": [
    "ir = 1 # Inference rate\n",
    "lr = 1e-2 # Learning rate\n",
    "\n",
    "def get_weights_and_biases(in_features, out_features):\n",
    "  w = (np.random.random((out_features, in_features)) * 2 - 1) * 1/np.sqrt(in_features)\n",
    "  b = np.zeros(out_features)\n",
    "\n",
    "  return w, b\n",
    "\n",
    "# Define out layer sizes\n",
    "in_features = 1\n",
    "out_features = 1\n",
    "\n",
    "# Define weights and biases\n",
    "W1, b1 = get_weights_and_biases(in_features, hidden_features)\n",
    "\n",
    "loss_history = []\n",
    "activation1 = leaky_relu\n",
    "activation2 = sigmoid\n",
    "\n",
    "for epoch in range(1):\n",
    "  print(f\"Epoch {epoch+1}\")\n",
    "    x0 = np.random.choice(2, size=64)[:, None]\n",
    "    x1 = np.zeros((x0.shape[0], out_features))\n",
    "    x2 = x0 # Same input as output\n",
    "\n",
    "    # Run predictive coding inference. \n",
    "    for t in range(10):\n",
    "      u1 = x0 @ W1.T + b1\n",
    "      u2 = activation1(x1)\n",
    "\n",
    "      # Calculate errors\n",
    "      e1 = x1 - u1\n",
    "      e2 = x2 - u2\n",
    "\n",
    "      # Canculate derivatives\n",
    "      dx1 = -e1 + activation1(x1, deriv=True) * (e2 @ W2)\n",
    "      dx2 = -e2 + activation2(x2, deriv=True) * e3\n",
    "      #dx3 = -e3 # Only do this during inference\n",
    "\n",
    "      # Do actual steps\n",
    "      x1 += ir * dx1\n",
    "      x2 += ir * dx2\n",
    "      #x3 -= ir * dx3 # Only do this during inference.\n",
    "\n",
    "    error_histories = zip(*errors_history)\n",
    "    for error_history in error_histories:\n",
    "      plt.plot(error_history)\n",
    "      plt.show()\n",
    "      \n",
    "    # Perform weight update here.\n",
    "    dW1 = e1[:, :, None] @ activation1(x0)[:, None, :]\n",
    "    dW2 = e2[:, :, None] @ activation2(x1)[:, None, :]\n",
    "\n",
    "    W1 += lr * dW1.mean(axis=0)\n",
    "    W2 += lr * dW2.mean(axis=0)"
   ]
  }
 ],
 "metadata": {
  "interpreter": {
   "hash": "a9dcdb033610e0f0b6c0ad22ac046a6d96792469febf86f491713b8d1d50e429"
  },
  "kernelspec": {
   "display_name": "Python 3.9.7 64-bit ('bachelor-project': conda)",
   "language": "python",
   "name": "python3"
  },
  "language_info": {
   "codemirror_mode": {
    "name": "ipython",
    "version": 3
   },
   "file_extension": ".py",
   "mimetype": "text/x-python",
   "name": "python",
   "nbconvert_exporter": "python",
   "pygments_lexer": "ipython3",
   "version": "3.9.7"
  }
 },
 "nbformat": 4,
 "nbformat_minor": 5
}

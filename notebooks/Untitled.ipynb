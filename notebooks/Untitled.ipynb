{
 "cells": [
  {
   "cell_type": "code",
   "execution_count": 52,
   "id": "c175d1db",
   "metadata": {},
   "outputs": [],
   "source": [
    "import torch\n",
    "import torch.nn as nn\n",
    "from torch.utils.data import DataLoader\n",
    "from torch.optim import Adam, SGD\n",
    "from torchvision.transforms import ToTensor, Compose\n",
    "from torchvision.datasets import MNIST\n",
    "import matplotlib.pyplot as plt\n",
    "from torchviz import make_dot"
   ]
  },
  {
   "cell_type": "code",
   "execution_count": 205,
   "id": "23c5a7de",
   "metadata": {},
   "outputs": [],
   "source": [
    "train_dataset = MNIST(download=True, root='data', train=True, transform=ToTensor())\n",
    "train_data = DataLoader(train_dataset, batch_size=64, shuffle=False)"
   ]
  },
  {
   "cell_type": "code",
   "execution_count": 16,
   "id": "5d0a9d70",
   "metadata": {},
   "outputs": [],
   "source": [
    "device = torch.device(\"cuda\" if torch.cuda.is_available() else \"cpu\")"
   ]
  },
  {
   "cell_type": "code",
   "execution_count": 17,
   "id": "cadb3221",
   "metadata": {},
   "outputs": [],
   "source": [
    "class AutoEncoder(nn.Module):\n",
    "    def __init__(self, in_features, hidden_features):\n",
    "      super(AutoEncoder, self).__init__()\n",
    "      self.encoder = nn.Sequential(\n",
    "        nn.Linear(in_features, hidden_features),\n",
    "        nn.ReLU()\n",
    "      )\n",
    "\n",
    "      self.decoder = nn.Sequential(\n",
    "        nn.Linear(hidden_features, in_features),\n",
    "        nn.ReLU()\n",
    "      )\n",
    "\n",
    "    def bottom_up(self, x):\n",
    "      return self.encoder(x)\n",
    "    \n",
    "    def top_down(self, x):\n",
    "      return self.decoder(x)"
   ]
  },
  {
   "cell_type": "code",
   "execution_count": 38,
   "id": "cfbbe8f5",
   "metadata": {},
   "outputs": [],
   "source": [
    "criterion = nn.MSELoss()"
   ]
  },
  {
   "cell_type": "code",
   "execution_count": 21,
   "id": "5f5a7881",
   "metadata": {},
   "outputs": [],
   "source": [
    "layers = [\n",
    "  AutoEncoder(784, 256),\n",
    "  AutoEncoder(256, 128),\n",
    "  AutoEncoder(128, 64)\n",
    "]"
   ]
  },
  {
   "cell_type": "code",
   "execution_count": 206,
   "id": "be521f05",
   "metadata": {},
   "outputs": [],
   "source": [
    "\n",
    "for image, labels in train_data:\n",
    "  image, labels = image.to(device), labels.to(device)\n",
    "\n",
    "  image = image.flatten(start_dim=1)\n",
    "  activation = image\n",
    "\n",
    "  bottom_up_activations = [activation] # How were the layers activated from bottom up?\n",
    "  top_down_activations = [] # How were the layers activated from top down?\n",
    "\n",
    "  for layer in layers:\n",
    "    activation = layer.bottom_up(activation)\n",
    "    bottom_up_activations.append(activation.clone())\n",
    "\n",
    "  for layer in layers[::-1]: # Reverse the list\n",
    "    activation = layer.top_down(activation)\n",
    "    top_down_activations.append(activation.clone())\n",
    "  \n",
    "  top_down_activations.reverse()\n",
    "\n",
    "  for (bottom_up_activation, top_down_activation) in zip(bottom_up_activations, top_down_activations):\n",
    "    loss = criterion(top_down_activation, bottom_up_activation)\n",
    "    loss.backward()\n",
    "\n",
    "    break\n",
    "    print(top_down_activation.shape, layers[0].encoder[0].weight.grad.norm())\n",
    "  \n",
    "  break"
   ]
  },
  {
   "cell_type": "code",
   "execution_count": 220,
   "id": "929a6277",
   "metadata": {},
   "outputs": [
    {
     "data": {
      "image/png": "[encoded data removed]",
      "text/plain": [
       "<Figure size 432x288 with 1 Axes>"
      ]
     },
     "metadata": {
      "needs_background": "light"
     },
     "output_type": "display_data"
    },
    {
     "data": {
      "image/png": "[encoded data removed]",
      "text/plain": [
       "<Figure size 432x288 with 1 Axes>"
      ]
     },
     "metadata": {
      "needs_background": "light"
     },
     "output_type": "display_data"
    },
    {
     "data": {
      "image/png": "[encoded data removed]",
      "text/plain": [
       "<Figure size 432x288 with 1 Axes>"
      ]
     },
     "metadata": {
      "needs_background": "light"
     },
     "output_type": "display_data"
    },
    {
     "ename": "ValueError",
     "evalue": "operands could not be broadcast together with shapes (64,784) (64,784,512) ",
     "output_type": "error",
     "traceback": [
      "\u001b[0;31m---------------------------------------------------------------------------\u001b[0m",
      "\u001b[0;31mValueError\u001b[0m                                Traceback (most recent call last)",
      "\u001b[0;32m/var/folders/vs/ylfhyw117z1g5xvn55z8jr3c0000gp/T/ipykernel_82791/644904275.py\u001b[0m in \u001b[0;36m<module>\u001b[0;34m\u001b[0m\n\u001b[1;32m     70\u001b[0m   \u001b[0mda2dW2\u001b[0m \u001b[0;34m=\u001b[0m \u001b[0mda2dz2\u001b[0m\u001b[0;34m[\u001b[0m\u001b[0;34m:\u001b[0m\u001b[0;34m,\u001b[0m \u001b[0;34m:\u001b[0m\u001b[0;34m,\u001b[0m \u001b[0;32mNone\u001b[0m\u001b[0;34m]\u001b[0m \u001b[0;34m@\u001b[0m \u001b[0mdz2dW2\u001b[0m\u001b[0;34m[\u001b[0m\u001b[0;34m:\u001b[0m\u001b[0;34m,\u001b[0m \u001b[0;32mNone\u001b[0m\u001b[0;34m,\u001b[0m \u001b[0;34m:\u001b[0m\u001b[0;34m]\u001b[0m\u001b[0;34m\u001b[0m\u001b[0;34m\u001b[0m\u001b[0m\n\u001b[1;32m     71\u001b[0m \u001b[0;34m\u001b[0m\u001b[0m\n\u001b[0;32m---> 72\u001b[0;31m   \u001b[0mdEdW2\u001b[0m \u001b[0;34m=\u001b[0m \u001b[0mdEda2\u001b[0m \u001b[0;34m*\u001b[0m \u001b[0mda2dW2\u001b[0m\u001b[0;34m\u001b[0m\u001b[0;34m\u001b[0m\u001b[0m\n\u001b[0m\u001b[1;32m     73\u001b[0m \u001b[0;34m\u001b[0m\u001b[0m\n\u001b[1;32m     74\u001b[0m   \u001b[0mW2\u001b[0m \u001b[0;34m-=\u001b[0m \u001b[0;36m1e-3\u001b[0m \u001b[0;34m*\u001b[0m \u001b[0mdEdW2\u001b[0m\u001b[0;34m.\u001b[0m\u001b[0mT\u001b[0m\u001b[0;34m\u001b[0m\u001b[0;34m\u001b[0m\u001b[0m\n",
      "\u001b[0;31mValueError\u001b[0m: operands could not be broadcast together with shapes (64,784) (64,784,512) "
     ]
    }
   ],
   "source": [
    "import numpy as np\n",
    "\n",
    "def relu(x, deriv=False):\n",
    "  if deriv:\n",
    "    return 1.0 * (x > 0)\n",
    "  return x * (x > 0)\n",
    "\n",
    "\n",
    "def sigmoid(x, deriv=True):\n",
    "  out = 1.0 / (1.0 + np.exp(-x))\n",
    "  if deriv:\n",
    "    return out * (1 - out)\n",
    "  return out\n",
    "\n",
    "def leaky_relu(x, deriv=False):\n",
    "  factor = ((x > 0) + 0.1)\n",
    "  if deriv:\n",
    "    return factor\n",
    "  return factor * x\n",
    "\n",
    "xs = np.linspace(-5, 5, 100)\n",
    "ys = leaky_relu(xs)\n",
    "plt.plot(xs, ys)\n",
    "plt.show()\n",
    "\n",
    "activation = leaky_relu\n",
    "\n",
    "in_features = 28*28\n",
    "out_features = 512\n",
    "\n",
    "# He initialization?\n",
    "W1 = (np.random.random((out_features, in_features)) * 2 - 1) * 2/np.sqrt(in_features) \n",
    "W2 = (np.random.random((in_features, out_features)) * 2 - 1) * 2/np.sqrt(in_features) \n",
    "b1 = np.zeros(out_features)\n",
    "b2 = np.zeros(in_features)\n",
    "\n",
    "image = next(iter(train_data))[0]\n",
    "x = image.flatten(start_dim=1).numpy()\n",
    "\n",
    "z1 = x @ W1.T\n",
    "a1 = activation(z1)\n",
    "z2 = a1 @ W2.T\n",
    "a2 = activation(z2)\n",
    "\n",
    "plt.title(\"Original image\")\n",
    "plt.imshow(x[0].reshape((28, 28)))\n",
    "plt.show()\n",
    "\n",
    "plt.title(\"Before training\")\n",
    "plt.imshow(a2[0].reshape((28, 28)))\n",
    "plt.show()\n",
    "\n",
    "loss_history = []\n",
    "\n",
    "for i in range(300):\n",
    "  z1 = x @ W1.T\n",
    "  a1 = activation(z1)\n",
    "\n",
    "  z2 = a1 @ W2.T\n",
    "  a2 = activation(z2)\n",
    "\n",
    "  loss = (0.5 * (a2 - x)**2).mean()\n",
    "\n",
    "  loss_history.append(loss)\n",
    "\n",
    "  dEda2 = a2 - x\n",
    "  da2dz2 = activation(z2, deriv=True)\n",
    "  dz2dW2 = a1\n",
    "\n",
    "  da2dW2 = da2dz2[:, :, None] @ dz2dW2[:, None, :]\n",
    "  \n",
    "  dEdW2 = dEda2 * da2dW2\n",
    "\n",
    "  W2 -= 1e-3 * dEdW2.T\n",
    "\n",
    "plt.plot(loss_history)\n",
    "plt.show()\n",
    "\n",
    "z1 = x @ W1.T\n",
    "a1 = activation(z1)\n",
    "z2 = a1 @ W2.T\n",
    "a2 = activation(z2)\n",
    "\n",
    "plt.title(\"After training\")\n",
    "plt.imshow(a2.reshape((28, 28)))\n",
    "plt.show()\n",
    "\n",
    "\n",
    "x = train_dataset[1][0].flatten().numpy()\n",
    "plt.title(\"After training (other image)\")\n",
    "plt.imshow(x.reshape((28, 28)))\n",
    "plt.show()\n",
    "\n",
    "z1 = W1 @ x\n",
    "a1 = activation(z1)\n",
    "z2 = W2 @ a1\n",
    "a2 = activation(z2)\n",
    "\n",
    "plt.title(\"After training (other image)\")\n",
    "plt.imshow(a2.reshape((28, 28)))\n",
    "plt.show()"
   ]
  },
  {
   "cell_type": "code",
   "execution_count": null,
   "id": "cd0ba4c8",
   "metadata": {},
   "outputs": [],
   "source": []
  }
 ],
 "metadata": {
  "interpreter": {
   "hash": "a9dcdb033610e0f0b6c0ad22ac046a6d96792469febf86f491713b8d1d50e429"
  },
  "kernelspec": {
   "display_name": "Python 3.9.7 64-bit ('bachelor-project': conda)",
   "language": "python",
   "name": "python3"
  },
  "language_info": {
   "codemirror_mode": {
    "name": "ipython",
    "version": 3
   },
   "file_extension": ".py",
   "mimetype": "text/x-python",
   "name": "python",
   "nbconvert_exporter": "python",
   "pygments_lexer": "ipython3",
   "version": "3.9.7"
  }
 },
 "nbformat": 4,
 "nbformat_minor": 5
}

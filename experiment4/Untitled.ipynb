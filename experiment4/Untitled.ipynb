{
 "cells": [
  {
   "cell_type": "code",
   "execution_count": 17,
   "id": "82e56b7a",
   "metadata": {},
   "outputs": [],
   "source": [
    "import numpy as np\n",
    "import matplotlib.pyplot as plt"
   ]
  },
  {
   "cell_type": "code",
   "execution_count": 12,
   "id": "fe3f2c32",
   "metadata": {},
   "outputs": [],
   "source": [
    "def sigmoid(z, deriv=False):\n",
    "    out = 1 / (1 + np.exp(-z))\n",
    "    if deriv:\n",
    "        return out * (1 - out)\n",
    "    return out"
   ]
  },
  {
   "cell_type": "code",
   "execution_count": 44,
   "id": "7ddf501e",
   "metadata": {},
   "outputs": [],
   "source": [
    "n = 10\n",
    "N = np.random.randn(n)\n",
    "W = np.random.randn(n, n)\n",
    "B = np.random.randn(n)"
   ]
  },
  {
   "cell_type": "code",
   "execution_count": 71,
   "id": "7302bd97",
   "metadata": {},
   "outputs": [],
   "source": [
    "plots = []\n",
    "num_iterations = 1\n",
    "gamma = 0.1\n",
    "\n",
    "# We are going to predict sin(t)\n",
    "for t in np.linspace(0, 2 * np.pi, 100): \n",
    "    # First we iterate our neurons for n timesteps.\n",
    "    \n",
    "    x = []\n",
    "    e = []\n",
    "    \n",
    "    for _ in range(num_iterations):\n",
    "        # Run neuron simulation\n",
    "        N = sigmoid(W@N + B) \n",
    "        x.append(N)\n",
    "        e.append(np.zeros_like(N))\n",
    "\n",
    "    # We should now adjust our predictions to fit our incoming data.\n",
    "    \n",
    "    # Only account for errors in first neuron, since that is the one\n",
    "    # that we are trying to predict.\n",
    "    preds[-1][1][0] = np.sin(t) - N[0]  # Set last error to output error.\n",
    "    \n",
    "    for _ in range(100):\n",
    "        for i in reversed(range(num_iterations - 1, 0)):\n",
    "            preds[i][1] += -preds[i][1] + preds[i+1][1] * sigmoid(W@preds[i][0] + B, deriv=True) * W\n",
    "            preds[i][0] += gamma * preds[i][1] # Update prediction based on error."
   ]
  },
  {
   "cell_type": "code",
   "execution_count": 88,
   "id": "4ff50b9f",
   "metadata": {},
   "outputs": [
    {
     "data": {
      "image/png": "[encoded data removed]",
      "text/plain": [
       "<Figure size 432x288 with 1 Axes>"
      ]
     },
     "metadata": {
      "needs_background": "light"
     },
     "output_type": "display_data"
    }
   ],
   "source": [
    "output = []\n",
    "N = sigmoid(np.random.randn(n))\n",
    "N[0] = 0\n",
    "for _ in range(100):\n",
    "    for _ in range(num_iterations):\n",
    "        # Run neuron simulation\n",
    "        N = sigmoid(W@N + B) \n",
    "    output.append(N[0])\n",
    "    \n",
    "plt.plot(output)\n",
    "plt.show()"
   ]
  },
  {
   "cell_type": "code",
   "execution_count": 30,
   "id": "20fff2b6",
   "metadata": {},
   "outputs": [
    {
     "name": "stdout",
     "output_type": "stream",
     "text": [
      "0\n",
      "1\n",
      "2\n",
      "3\n",
      "4\n"
     ]
    }
   ],
   "source": [
    "for i in range(0, 5):\n",
    "    print(i)"
   ]
  },
  {
   "cell_type": "code",
   "execution_count": 42,
   "id": "ae89f4ad",
   "metadata": {},
   "outputs": [
    {
     "name": "stdout",
     "output_type": "stream",
     "text": [
      "4\n",
      "3\n",
      "2\n",
      "1\n",
      "0\n"
     ]
    }
   ],
   "source": [
    "for i in reversed(range(0, 5)):\n",
    "    print(i)"
   ]
  },
  {
   "cell_type": "code",
   "execution_count": null,
   "id": "b57fb8d1",
   "metadata": {},
   "outputs": [],
   "source": []
  }
 ],
 "metadata": {
  "kernelspec": {
   "display_name": "Python 3 (ipykernel)",
   "language": "python",
   "name": "python3"
  },
  "language_info": {
   "codemirror_mode": {
    "name": "ipython",
    "version": 3
   },
   "file_extension": ".py",
   "mimetype": "text/x-python",
   "name": "python",
   "nbconvert_exporter": "python",
   "pygments_lexer": "ipython3",
   "version": "3.9.7"
  }
 },
 "nbformat": 4,
 "nbformat_minor": 5
}

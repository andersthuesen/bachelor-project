{
 "cells": [
  {
   "cell_type": "code",
   "execution_count": 37,
   "id": "07db191b",
   "metadata": {},
   "outputs": [],
   "source": [
    "import torch\n",
    "import torch.nn as nn\n",
    "from torch.optim import Adam, SGD\n",
    "import torch.nn.functional as F\n",
    "from torch.utils.data import DataLoader\n",
    "import torchvision\n",
    "from torchvision.transforms import ToTensor, Compose, Normalize\n",
    "from torchvision.transforms.functional import to_tensor, to_pil_image\n",
    "import matplotlib.pyplot as plt\n",
    "from torchvision.datasets import MNIST\n",
    "from tqdm import tqdm"
   ]
  },
  {
   "cell_type": "code",
   "execution_count": 38,
   "id": "6f0be144",
   "metadata": {},
   "outputs": [],
   "source": [
    "def normalize(image):\n",
    "  return image\n",
    "\n",
    "\n",
    "def resize(image):\n",
    "  im = torch.zeros(1, 32, 32)\n",
    "  im[:, 2:30, 2:30] = image\n",
    "  return im"
   ]
  },
  {
   "cell_type": "code",
   "execution_count": 77,
   "id": "5ce7b8e6",
   "metadata": {},
   "outputs": [],
   "source": [
    "train_dataset = MNIST(root=\"data\", download=True, transform=Compose([ToTensor(), normalize, resize]))\n",
    "test_dataset = MNIST(root=\"data\", download=True, train=False, transform=Compose([ToTensor(), normalize, resize]))\n",
    "train_data = DataLoader(train_dataset, batch_size=256)\n",
    "test_data = DataLoader(test_dataset, batch_size=256)"
   ]
  },
  {
   "cell_type": "code",
   "execution_count": 40,
   "id": "ea4e8fc8",
   "metadata": {},
   "outputs": [],
   "source": [
    "image, label = train_dataset[10]"
   ]
  },
  {
   "cell_type": "code",
   "execution_count": 41,
   "id": "54372761",
   "metadata": {},
   "outputs": [
    {
     "data": {
      "image/png": "[encoded data removed]",
      "text/plain": [
       "<Figure size 432x288 with 1 Axes>"
      ]
     },
     "metadata": {
      "needs_background": "light"
     },
     "output_type": "display_data"
    }
   ],
   "source": [
    "plt.imshow(image.numpy()[0], cmap=\"gray\", vmin=0, vmax=1)\n",
    "plt.show()"
   ]
  },
  {
   "cell_type": "code",
   "execution_count": 7,
   "id": "f552ecb6",
   "metadata": {},
   "outputs": [],
   "source": [
    "class PCNet1(nn.Module):\n",
    "    def __init__(self, num_channels=1, input_size=(28, 28), num_iter=4):\n",
    "        super(PCNet1, self).__init__()\n",
    "        self.num_iter = num_iter\n",
    "        self.input_size = input_size\n",
    "        \n",
    "        self.conv1 = nn.Conv2d(num_channels, 16, kernel_size=3, stride=1)\n",
    "        self.conv2 = nn.Conv2d(16, 32, kernel_size=5, stride=1)\n",
    "        \n",
    "        self.fc1 = nn.Linear(26 * 26 * 32, 128) # Lose structure here\n",
    "        self.fc2 = nn.Linear(128, 26 * 26 * 32)\n",
    "        \n",
    "        #self.latent = nn.Conv2d(32, 32, kernel_size=5)\n",
    "        \n",
    "        self.deconv1 = nn.ConvTranspose2d(32, 16, kernel_size=5, stride=1)\n",
    "        self.deconv2 = nn.ConvTranspose2d(16, num_channels, kernel_size=3, stride=1)\n",
    "        \n",
    "    def forward(self, x1):\n",
    "        # Easy way to construct error units with correct sizes.\n",
    "        with torch.no_grad():\n",
    "            x1_pred = torch.zeros_like(x1)\n",
    "            x2_pred = self.conv1(x1_pred)\n",
    "            x3_pred = self.conv2(x2_pred)\n",
    "            x4_pred = self.fc1(x3_pred.flatten(start_dim=1))\n",
    "        \n",
    "        # Rollout\n",
    "        x1_preds = [x1_pred.clone()] # Store history of predictions\n",
    "        \n",
    "        for i in range(self.num_iter):\n",
    "            # Bottom-up signal is inhibited by top-down\n",
    "            e1 = F.relu(x1 - x1_pred) \n",
    "            x2 = self.conv1(e1)\n",
    "            e2 = F.relu(x2 - x2_pred)\n",
    "            x3 = self.conv2(e2)\n",
    "            e3 = F.relu(x3 - x3_pred)\n",
    "            \n",
    "            x4 = self.fc1(e3.flatten(start_dim=1))\n",
    "            x4_pred = F.relu(x4 - x4_pred) # This just seems to be alternating? Maybe add some decay?\n",
    "            \n",
    "            # Top-down\n",
    "            e3_pred = F.relu(x4_pred - x4)\n",
    "            x3_pred = self.fc2(e3_pred).view(x3.shape)\n",
    "            e2_pred = F.relu(x3_pred - x3)\n",
    "            x2_pred = self.deconv1(e2_pred)\n",
    "            e1_pred = F.relu(x2_pred - x2)\n",
    "            x1_pred = self.deconv2(e1_pred)\n",
    "            \n",
    "            x1_preds.append(x1_pred.clone())\n",
    "            \n",
    "        return x1_pred, x1_preds # Return predicted input along with its history."
   ]
  },
  {
   "cell_type": "code",
   "execution_count": 8,
   "id": "8f3159a8",
   "metadata": {},
   "outputs": [],
   "source": [
    "class PCNet(nn.Module):\n",
    "    \"\"\"\n",
    "        Changes from original:\n",
    "            - Removed inhibation of top-down signal.\n",
    "            #- Remember latent over time steps.\n",
    "    \"\"\"\n",
    "    def __init__(self, num_channels=1, input_size=(28, 28), num_iter=2):\n",
    "        super(PCNet, self).__init__()\n",
    "        self.num_iter = num_iter\n",
    "        self.input_size = input_size\n",
    "        \n",
    "        self.conv1 = nn.Conv2d(num_channels, 16, kernel_size=3, stride=1)\n",
    "        self.conv2 = nn.Conv2d(16, 32, kernel_size=5, stride=1)\n",
    "        \n",
    "        self.fc1 = nn.Linear(26 * 26 * 32, 128) # Lose structure here\n",
    "        self.fc2 = nn.Linear(128, 26 * 26 * 32)\n",
    "        \n",
    "        #self.latent = nn.Conv2d(32, 32, kernel_size=5)\n",
    "        \n",
    "        self.deconv1 = nn.ConvTranspose2d(32, 16, kernel_size=5, stride=1)\n",
    "        self.deconv2 = nn.ConvTranspose2d(16, num_channels, kernel_size=3, stride=1)\n",
    "        \n",
    "    def forward(self, x1):\n",
    "        # Easy way to construct error units with correct sizes.\n",
    "        with torch.no_grad():\n",
    "            x1_pred = torch.zeros_like(x1)\n",
    "            x2_pred = self.conv1(x1_pred)\n",
    "            x3_pred = self.conv2(x2_pred)\n",
    "            latent = self.fc1(x3_pred.flatten(start_dim=1))\n",
    "        \n",
    "        # Rollout\n",
    "        x1_preds = [] # Store history of predictions\n",
    "        \n",
    "        for i in range(self.num_iter):\n",
    "            # Bottom-up signal is inhibited by top-down\n",
    "            e1 = F.relu(x1 - x1_pred) \n",
    "            x2 = self.conv1(e1)\n",
    "            e2 = F.relu(x2 - x2_pred)\n",
    "            x3 = self.conv2(e2)\n",
    "            e3 = F.relu(x3 - x3_pred)\n",
    "            \n",
    "            x4 = self.fc1(e3.flatten(start_dim=1))\n",
    "            latent = 0.5 * latent + 0.5 * F.relu(x4 - latent) # This just seems to be alternating? Maybe add some decay?\n",
    "            \n",
    "            # Top-down\n",
    "            x3_pred = F.relu(self.fc2(latent).view(x3.shape))\n",
    "            x2_pred = F.relu(self.deconv1(x3_pred))\n",
    "            x1_pred = torch.sigmoid(self.deconv2(x2_pred))\n",
    "            \n",
    "            x1_preds.append(x1_pred.clone())\n",
    "            \n",
    "        return x1_pred, x1_preds # Return predicted input along with its history."
   ]
  },
  {
   "cell_type": "code",
   "execution_count": 9,
   "id": "1e27f036",
   "metadata": {},
   "outputs": [],
   "source": [
    "model = PCNet()"
   ]
  },
  {
   "cell_type": "code",
   "execution_count": 10,
   "id": "2e92b36d",
   "metadata": {},
   "outputs": [
    {
     "data": {
      "image/png": "[encoded data removed]",
      "text/plain": [
       "<Figure size 432x288 with 1 Axes>"
      ]
     },
     "metadata": {
      "needs_background": "light"
     },
     "output_type": "display_data"
    },
    {
     "data": {
      "image/png": "[encoded data removed]",
      "text/plain": [
       "<Figure size 432x288 with 1 Axes>"
      ]
     },
     "metadata": {
      "needs_background": "light"
     },
     "output_type": "display_data"
    },
    {
     "data": {
      "image/png": "[encoded data removed]",
      "text/plain": [
       "<Figure size 432x288 with 1 Axes>"
      ]
     },
     "metadata": {
      "needs_background": "light"
     },
     "output_type": "display_data"
    }
   ],
   "source": [
    "image, label = train_dataset[10]\n",
    "plt.title(label)\n",
    "plt.imshow(image[0], cmap=\"gray\", vmin=0, vmax=1)\n",
    "plt.show()\n",
    "\n",
    "_, pred_images = model(image[None, :])\n",
    "for pred_image in pred_images:\n",
    "    \n",
    "    plt.imshow(pred_image[0].detach().numpy()[0], cmap=\"gray\", vmin=0, vmax=1)\n",
    "    plt.show()"
   ]
  },
  {
   "cell_type": "markdown",
   "id": "1def41db",
   "metadata": {},
   "source": [
    "# Training"
   ]
  },
  {
   "cell_type": "code",
   "execution_count": 11,
   "id": "4c0a0766",
   "metadata": {},
   "outputs": [
    {
     "name": "stderr",
     "output_type": "stream",
     "text": [
      "Epoch: 1, Loss: 0.5533:   0%|          | 0/1875 [00:00<?, ?it/s]"
     ]
    },
    {
     "data": {
      "image/png": "[encoded data removed]",
      "text/plain": [
       "<Figure size 432x288 with 1 Axes>"
      ]
     },
     "metadata": {
      "needs_background": "light"
     },
     "output_type": "display_data"
    },
    {
     "name": "stderr",
     "output_type": "stream",
     "text": [
      "Epoch: 1, Loss: 0.5505:   0%|          | 1/1875 [00:01<24:51,  1.26it/s]"
     ]
    },
    {
     "data": {
      "image/png": "[encoded data removed]",
      "text/plain": [
       "<Figure size 432x288 with 1 Axes>"
      ]
     },
     "metadata": {
      "needs_background": "light"
     },
     "output_type": "display_data"
    },
    {
     "name": "stderr",
     "output_type": "stream",
     "text": [
      "Epoch: 1, Loss: 0.5471:   0%|          | 2/1875 [00:01<21:46,  1.43it/s]"
     ]
    },
    {
     "data": {
      "image/png": "[encoded data removed]",
      "text/plain": [
       "<Figure size 432x288 with 1 Axes>"
      ]
     },
     "metadata": {
      "needs_background": "light"
     },
     "output_type": "display_data"
    },
    {
     "name": "stderr",
     "output_type": "stream",
     "text": [
      "Epoch: 1, Loss: 0.5430:   0%|          | 3/1875 [00:02<19:18,  1.62it/s]"
     ]
    },
    {
     "data": {
      "image/png": "[encoded data removed]",
      "text/plain": [
       "<Figure size 432x288 with 1 Axes>"
      ]
     },
     "metadata": {
      "needs_background": "light"
     },
     "output_type": "display_data"
    },
    {
     "name": "stderr",
     "output_type": "stream",
     "text": [
      "Epoch: 1, Loss: 0.5369:   0%|          | 4/1875 [00:03<20:07,  1.55it/s]"
     ]
    },
    {
     "data": {
      "image/png": "[encoded data removed]",
      "text/plain": [
       "<Figure size 432x288 with 1 Axes>"
      ]
     },
     "metadata": {
      "needs_background": "light"
     },
     "output_type": "display_data"
    },
    {
     "name": "stderr",
     "output_type": "stream",
     "text": [
      "Epoch: 1, Loss: 0.5372:   0%|          | 5/1875 [00:04<19:44,  1.58it/s]"
     ]
    },
    {
     "data": {
      "image/png": "[encoded data removed]",
      "text/plain": [
       "<Figure size 432x288 with 1 Axes>"
      ]
     },
     "metadata": {
      "needs_background": "light"
     },
     "output_type": "display_data"
    },
    {
     "name": "stderr",
     "output_type": "stream",
     "text": [
      "Epoch: 1, Loss: 0.5372:   0%|          | 6/1875 [00:04<24:31,  1.27it/s]\n"
     ]
    },
    {
     "ename": "KeyboardInterrupt",
     "evalue": "",
     "output_type": "error",
     "traceback": [
      "\u001b[0;31m---------------------------------------------------------------------------\u001b[0m",
      "\u001b[0;31mKeyboardInterrupt\u001b[0m                         Traceback (most recent call last)",
      "\u001b[0;32m/var/folders/vs/ylfhyw117z1g5xvn55z8jr3c0000gp/T/ipykernel_84363/207959285.py\u001b[0m in \u001b[0;36m<module>\u001b[0;34m\u001b[0m\n\u001b[1;32m     11\u001b[0m         \u001b[0mloss\u001b[0m \u001b[0;34m=\u001b[0m \u001b[0mcriterion\u001b[0m\u001b[0;34m(\u001b[0m\u001b[0mpred_images\u001b[0m\u001b[0;34m,\u001b[0m \u001b[0mimages\u001b[0m\u001b[0;34m)\u001b[0m\u001b[0;34m\u001b[0m\u001b[0;34m\u001b[0m\u001b[0m\n\u001b[1;32m     12\u001b[0m \u001b[0;34m\u001b[0m\u001b[0m\n\u001b[0;32m---> 13\u001b[0;31m         \u001b[0mloss\u001b[0m\u001b[0;34m.\u001b[0m\u001b[0mbackward\u001b[0m\u001b[0;34m(\u001b[0m\u001b[0;34m)\u001b[0m\u001b[0;34m\u001b[0m\u001b[0;34m\u001b[0m\u001b[0m\n\u001b[0m\u001b[1;32m     14\u001b[0m         \u001b[0mloss_history\u001b[0m\u001b[0;34m.\u001b[0m\u001b[0mappend\u001b[0m\u001b[0;34m(\u001b[0m\u001b[0mloss\u001b[0m\u001b[0;34m.\u001b[0m\u001b[0mitem\u001b[0m\u001b[0;34m(\u001b[0m\u001b[0;34m)\u001b[0m\u001b[0;34m)\u001b[0m\u001b[0;34m\u001b[0m\u001b[0;34m\u001b[0m\u001b[0m\n\u001b[1;32m     15\u001b[0m \u001b[0;34m\u001b[0m\u001b[0m\n",
      "\u001b[0;32m/opt/homebrew/Caskroom/miniforge/base/envs/bachelor-project/lib/python3.9/site-packages/torch/_tensor.py\u001b[0m in \u001b[0;36mbackward\u001b[0;34m(self, gradient, retain_graph, create_graph, inputs)\u001b[0m\n\u001b[1;32m    305\u001b[0m                 \u001b[0mcreate_graph\u001b[0m\u001b[0;34m=\u001b[0m\u001b[0mcreate_graph\u001b[0m\u001b[0;34m,\u001b[0m\u001b[0;34m\u001b[0m\u001b[0;34m\u001b[0m\u001b[0m\n\u001b[1;32m    306\u001b[0m                 inputs=inputs)\n\u001b[0;32m--> 307\u001b[0;31m         \u001b[0mtorch\u001b[0m\u001b[0;34m.\u001b[0m\u001b[0mautograd\u001b[0m\u001b[0;34m.\u001b[0m\u001b[0mbackward\u001b[0m\u001b[0;34m(\u001b[0m\u001b[0mself\u001b[0m\u001b[0;34m,\u001b[0m \u001b[0mgradient\u001b[0m\u001b[0;34m,\u001b[0m \u001b[0mretain_graph\u001b[0m\u001b[0;34m,\u001b[0m \u001b[0mcreate_graph\u001b[0m\u001b[0;34m,\u001b[0m \u001b[0minputs\u001b[0m\u001b[0;34m=\u001b[0m\u001b[0minputs\u001b[0m\u001b[0;34m)\u001b[0m\u001b[0;34m\u001b[0m\u001b[0;34m\u001b[0m\u001b[0m\n\u001b[0m\u001b[1;32m    308\u001b[0m \u001b[0;34m\u001b[0m\u001b[0m\n\u001b[1;32m    309\u001b[0m     \u001b[0;32mdef\u001b[0m \u001b[0mregister_hook\u001b[0m\u001b[0;34m(\u001b[0m\u001b[0mself\u001b[0m\u001b[0;34m,\u001b[0m \u001b[0mhook\u001b[0m\u001b[0;34m)\u001b[0m\u001b[0;34m:\u001b[0m\u001b[0;34m\u001b[0m\u001b[0;34m\u001b[0m\u001b[0m\n",
      "\u001b[0;32m/opt/homebrew/Caskroom/miniforge/base/envs/bachelor-project/lib/python3.9/site-packages/torch/autograd/__init__.py\u001b[0m in \u001b[0;36mbackward\u001b[0;34m(tensors, grad_tensors, retain_graph, create_graph, grad_variables, inputs)\u001b[0m\n\u001b[1;32m    152\u001b[0m         \u001b[0mretain_graph\u001b[0m \u001b[0;34m=\u001b[0m \u001b[0mcreate_graph\u001b[0m\u001b[0;34m\u001b[0m\u001b[0;34m\u001b[0m\u001b[0m\n\u001b[1;32m    153\u001b[0m \u001b[0;34m\u001b[0m\u001b[0m\n\u001b[0;32m--> 154\u001b[0;31m     Variable._execution_engine.run_backward(\n\u001b[0m\u001b[1;32m    155\u001b[0m         \u001b[0mtensors\u001b[0m\u001b[0;34m,\u001b[0m \u001b[0mgrad_tensors_\u001b[0m\u001b[0;34m,\u001b[0m \u001b[0mretain_graph\u001b[0m\u001b[0;34m,\u001b[0m \u001b[0mcreate_graph\u001b[0m\u001b[0;34m,\u001b[0m \u001b[0minputs\u001b[0m\u001b[0;34m,\u001b[0m\u001b[0;34m\u001b[0m\u001b[0;34m\u001b[0m\u001b[0m\n\u001b[1;32m    156\u001b[0m         allow_unreachable=True, accumulate_grad=True)  # allow_unreachable flag\n",
      "\u001b[0;31mKeyboardInterrupt\u001b[0m: "
     ]
    }
   ],
   "source": [
    "num_epochs = 10\n",
    "optimizer = SGD(model.parameters(), lr=1e-2)\n",
    "criterion = nn.BCELoss()\n",
    "loss_history = []\n",
    "\n",
    "for epoch in range(num_epochs):\n",
    "    tqdm_train_data = tqdm(train_data)\n",
    "    for images, _ in tqdm_train_data:\n",
    "        optimizer.zero_grad()\n",
    "        pred_images, _ = model(images)\n",
    "        loss = criterion(pred_images, images)\n",
    "        \n",
    "        loss.backward()\n",
    "        loss_history.append(loss.item())\n",
    "        \n",
    "        tqdm_train_data.set_description(\"Epoch: {}, Loss: {:.4f}\".format(epoch + 1, loss.item()))\n",
    "        optimizer.step()\n",
    "        \n",
    "        plt.plot(loss_history)\n",
    "        plt.show()\n",
    "        "
   ]
  },
  {
   "cell_type": "code",
   "execution_count": null,
   "id": "0d2309bd",
   "metadata": {},
   "outputs": [],
   "source": []
  },
  {
   "cell_type": "code",
   "execution_count": 353,
   "id": "54ce8dee",
   "metadata": {},
   "outputs": [],
   "source": [
    "# Membrane time constant\n",
    "T_RC = 0.02\n",
    "T_REF = 4e-3\n",
    "V_TH = 1.0\n",
    "\n",
    "def rate(x, p=torch.relu, t_rc = 0.02, t_ref = 4e-3, V_th = 1.0):\n",
    "  return torch.reciprocal(t_ref + t_rc * torch.log(1 + V_th / (p(x - V_th) + 1e-12)))\n",
    "\n",
    "def soft_rate(x, t_rc = 0.02, t_ref = 4e-3, V_th = 1.0):\n",
    "  return rate(x, p=lambda x: torch.nn.functional.softplus(x, beta=200), t_rc=t_rc, t_ref=t_ref, V_th=V_th)"
   ]
  },
  {
   "cell_type": "code",
   "execution_count": 277,
   "id": "bd31db6b",
   "metadata": {},
   "outputs": [
    {
     "data": {
      "text/plain": [
       "tensor(2.6852)"
      ]
     },
     "execution_count": 277,
     "metadata": {},
     "output_type": "execute_result"
    }
   ],
   "source": [
    "soft_rate(torch.tensor(0.0))"
   ]
  },
  {
   "cell_type": "code",
   "execution_count": 278,
   "id": "c6a4a529",
   "metadata": {},
   "outputs": [
    {
     "data": {
      "text/plain": [
       "tensor([0.0002])"
      ]
     },
     "execution_count": 278,
     "metadata": {},
     "output_type": "execute_result"
    }
   ],
   "source": [
    "x = torch.tensor([1000.0], requires_grad=True)\n",
    "out = ((soft_rate(x) * T_RC) ** 2).mean()\n",
    "out.backward()\n",
    "x.grad"
   ]
  },
  {
   "cell_type": "code",
   "execution_count": 289,
   "id": "98774866",
   "metadata": {},
   "outputs": [
    {
     "data": {
      "image/png": "[encoded data removed]",
      "text/plain": [
       "<Figure size 432x288 with 1 Axes>"
      ]
     },
     "metadata": {
      "needs_background": "light"
     },
     "output_type": "display_data"
    }
   ],
   "source": [
    "\n",
    "x = torch.linspace(0.75, 1.25, 100)\n",
    "y = rate(x)\n",
    "plt.plot(x, y)\n",
    "plt.show()"
   ]
  },
  {
   "cell_type": "code",
   "execution_count": 296,
   "id": "664b21d4",
   "metadata": {},
   "outputs": [
    {
     "data": {
      "image/png": "[encoded data removed]",
      "text/plain": [
       "<Figure size 432x288 with 1 Axes>"
      ]
     },
     "metadata": {
      "needs_background": "light"
     },
     "output_type": "display_data"
    }
   ],
   "source": [
    "x = torch.linspace(0., 1.25, 100)\n",
    "x = torch.linspace(0.6, 1.4, 1000)\n",
    "y = soft_rate(x)\n",
    "y2 = rate(x)\n",
    "plt.plot(x, y)\n",
    "plt.plot(x, y2)\n",
    "plt.show()"
   ]
  },
  {
   "cell_type": "code",
   "execution_count": 311,
   "id": "2d19f58c",
   "metadata": {},
   "outputs": [
    {
     "data": {
      "text/plain": [
       "tensor(114.9099)"
      ]
     },
     "execution_count": 311,
     "metadata": {},
     "output_type": "execute_result"
    }
   ],
   "source": [
    "soft_rate(torch.linspace(-250, 250, 1000)).mean()"
   ]
  },
  {
   "cell_type": "code",
   "execution_count": 605,
   "id": "87f95f89",
   "metadata": {},
   "outputs": [],
   "source": [
    "import math\n",
    "# Use this a activation function\n",
    "class SoftSpikeRate(nn.Module):\n",
    "  def __init__(self, t_rc=0.02, t_ref=4e-3, V_th=1.0):\n",
    "    super(SoftSpikeRate, self).__init__()\n",
    "    self.t_rc = torch.tensor(t_rc)\n",
    "    self.t_ref = torch.tensor(t_ref)\n",
    "    self.V_th = torch.tensor(V_th)\n",
    "  \n",
    "  def forward(self, X):\n",
    "    return soft_rate(X, t_rc=self.t_rc, t_ref=self.t_ref, V_th=self.V_th)\n",
    "  \n",
    "\n",
    "class SpikeLayer(nn.Module):\n",
    "  def __init__(self, in_features, out_features, t_rc=0.02, t_ref=4e-3, V_th=1.0, bound=1.0):\n",
    "    super(SpikeLayer, self).__init__()\n",
    "    # Initialize our weights\n",
    "    self.A = nn.Parameter(torch.empty(in_features, out_features))\n",
    "    self.b = nn.Parameter(torch.empty(out_features))\n",
    "    self.t_rc = torch.tensor(t_rc)\n",
    "    self.t_ref = torch.tensor(t_ref)\n",
    "    self.V_th = torch.tensor(V_th)\n",
    "\n",
    "    with torch.no_grad():\n",
    "      nn.init.normal_(self.A)\n",
    "\n",
    "  def forward(self, X):\n",
    "    return soft_rate(X @ self.A, t_rc=self.t_rc, t_ref=self.t_ref, V_th=self.V_th) * self.t_rc\n",
    "\n",
    "  \n",
    "class SpikingLinear(nn.Module):\n",
    "  def __init__(self, in_features, out_features, t_rc=0.02, t_ref=4e-3, V_th=1.0, bound=1.0):\n",
    "    super(SpikingLinear, self).__init__()\n",
    "    # Initialize our weights\n",
    "    self.weight = nn.Parameter(torch.empty(in_features, out_features))\n",
    "    self.b = nn.Parameter(torch.empty(out_features))\n",
    "    self.t_rc = torch.tensor(t_rc)\n",
    "    self.t_ref = torch.tensor(t_ref)\n",
    "    self.V_th = torch.tensor(V_th)\n",
    "\n",
    "    with torch.no_grad():\n",
    "      n = in_features\n",
    "      nn.init.normal_(self.weight, mean=-1/n, std=1/math.sqrt(2*n))\n",
    "\n",
    "  def forward(self, X):\n",
    "    return soft_rate(X @ self.weight, t_rc=self.t_rc, t_ref=self.t_ref, V_th=self.V_th)\n",
    "\n",
    "class SpikingConv2d(nn.Conv2d):\n",
    "  def __init__(self, in_channels, out_channels, kernel_size, *args, t_rc=0.02, t_ref=4e-3, V_th=1.0, bound=1.0, **kwargs):\n",
    "    super().__init__(in_channels, out_channels, kernel_size, *args, **kwargs)\n",
    "    self.t_rc = torch.tensor(t_rc)\n",
    "    self.t_ref = torch.tensor(t_ref)\n",
    "    self.V_th = torch.tensor(V_th)\n",
    "\n",
    "    with torch.no_grad():\n",
    "      n = in_channels * kernel_size * kernel_size\n",
    "      nn.init.normal_(self.weight, mean=-1/n, std=1/math.sqrt(2*n))\n",
    "    \n",
    "  def forward(self, X):\n",
    "    return soft_rate(super().forward(X), t_rc=self.t_rc, t_ref=self.t_ref, V_th=self.V_th)\n",
    "    \n",
    "\n",
    "class SpikingCNN(nn.Module):\n",
    "  def __init__(self) -> None:\n",
    "    super(SpikingCNN, self).__init__()\n",
    "    self.model = nn.Sequential(\n",
    "      SpikingConv2d(1, 64, 3),\n",
    "      SpikingConv2d(64, 64, 3),\n",
    "      nn.AvgPool2d(2, stride=2),\n",
    "      #nn.BatchNorm2d(64),\n",
    "      SpikingConv2d(64, 128, 3),\n",
    "      SpikingConv2d(128, 128, 3),\n",
    "      nn.AvgPool2d(2, stride=2),\n",
    "      #nn.BatchNorm2d(128),\n",
    "      SpikingConv2d(128, 256, 3),\n",
    "      nn.AvgPool2d(2, stride=2),\n",
    "      nn.Flatten(start_dim=1),\n",
    "      #nn.BatchNorm1d(256),\n",
    "      SpikingLinear(256, 10),\n",
    "      nn.Softmax(dim=1)\n",
    "    )\n",
    "\n",
    "  def forward(self, X):\n",
    "    return self.model(soft_rate(X * 5))\n",
    "    \n",
    "class BaselineCNN(nn.Module):\n",
    "  def __init__(self) -> None:\n",
    "    super(BaselineConv, self).__init__()\n",
    "    self.model = nn.Sequential(\n",
    "      nn.Conv2d(1, 64, 3),\n",
    "      nn.ReLU(),\n",
    "      nn.Conv2d(64, 64, 3),\n",
    "      nn.ReLU(),\n",
    "      nn.MaxPool2d(2, stride=2),\n",
    "      nn.BatchNorm2d(64),\n",
    "      nn.Conv2d(64, 128, 3),\n",
    "      nn.ReLU(),\n",
    "      nn.Conv2d(128, 128, 3),\n",
    "      nn.ReLU(),\n",
    "      nn.MaxPool2d(2, stride=2),\n",
    "      nn.BatchNorm2d(128),\n",
    "      nn.Conv2d(128, 256, 3),\n",
    "      nn.ReLU(),\n",
    "      nn.MaxPool2d(2, stride=2),\n",
    "      nn.Flatten(start_dim=1),\n",
    "      nn.BatchNorm1d(256),\n",
    "      nn.Linear(256, 10),\n",
    "      nn.Softmax(dim=1)\n",
    "    )\n",
    "\n",
    "  def forward(self, X):\n",
    "    return self.model(X)\n",
    "\n",
    "class Baseline(nn.Module):\n",
    "  def __init__(self) -> None:\n",
    "    super(Baseline, self).__init__()\n",
    "    self.model = nn.Sequential(\n",
    "      nn.Linear(32*32, 256),\n",
    "      nn.ReLU(),\n",
    "      nn.Linear(256, 128),\n",
    "      nn.ReLU(),\n",
    "      nn.Linear(128, 10),\n",
    "      nn.Softmax(dim=1)\n",
    "    )\n",
    "\n",
    "  def forward(self, X):\n",
    "    return self.model(X)\n",
    "\n",
    "class SpikingMNISTModelWithLinear(nn.Module):\n",
    "  def __init__(self) -> None:\n",
    "    super(SpikingMNISTModelWithLinear, self).__init__()\n",
    "    self.model = nn.Sequential(\n",
    "      nn.Linear(32*32, 256),\n",
    "      SoftSpikeRate(),\n",
    "      nn.Linear(256, 128),\n",
    "      SoftSpikeRate(),\n",
    "      nn.Linear(128, 10),\n",
    "      SoftSpikeRate(),\n",
    "      nn.Softmax(dim=1)\n",
    "    )\n",
    "\n",
    "  def forward(self, X):\n",
    "    return self.model(X)\n",
    "\n",
    "\n",
    "class SpikingMNISTModel(nn.Module):\n",
    "  def __init__(self) -> None:\n",
    "    super(SpikingMNISTModel, self).__init__()\n",
    "    self.model = nn.Sequential(\n",
    "      SpikeLayer(32*32, 256),\n",
    "      SpikeLayer(256, 128),\n",
    "      SpikeLayer(128, 10),\n",
    "      nn.Softmax(dim=1)\n",
    "    )\n",
    "\n",
    "  def forward(self, X):\n",
    "    return self.model(X)"
   ]
  },
  {
   "cell_type": "code",
   "execution_count": 593,
   "id": "562a5df8",
   "metadata": {},
   "outputs": [
    {
     "data": {
      "text/plain": [
       "<module 'torch.nn.init' from '/zhome/87/0/137565/miniconda3/lib/python3.7/site-packages/torch/nn/init.py'>"
      ]
     },
     "execution_count": 593,
     "metadata": {},
     "output_type": "execute_result"
    }
   ],
   "source": [
    "nn.init"
   ]
  },
  {
   "cell_type": "code",
   "execution_count": 594,
   "id": "bd0291e8",
   "metadata": {},
   "outputs": [
    {
     "data": {
      "text/plain": [
       "<torch.autograd.anomaly_mode.set_detect_anomaly at 0x7fbad4ac17d0>"
      ]
     },
     "execution_count": 594,
     "metadata": {},
     "output_type": "execute_result"
    }
   ],
   "source": [
    "torch.autograd.set_detect_anomaly(True)"
   ]
  },
  {
   "cell_type": "code",
   "execution_count": 595,
   "id": "a314ee63",
   "metadata": {},
   "outputs": [
    {
     "name": "stdout",
     "output_type": "stream",
     "text": [
      "cuda\n"
     ]
    }
   ],
   "source": [
    "device = torch.device(\"cuda\" if torch.cuda.is_available() else \"cpu\")\n",
    "print(device)"
   ]
  },
  {
   "cell_type": "code",
   "execution_count": 617,
   "id": "6910916b",
   "metadata": {},
   "outputs": [],
   "source": [
    "model = SpikingCNN().to(device)\n",
    "optimizer = SGD(model.parameters(), lr=1e-4)\n",
    "criterion = nn.CrossEntropyLoss()"
   ]
  },
  {
   "cell_type": "code",
   "execution_count": null,
   "id": "f85d107d",
   "metadata": {},
   "outputs": [],
   "source": []
  },
  {
   "cell_type": "code",
   "execution_count": 597,
   "id": "76ff270e",
   "metadata": {},
   "outputs": [
    {
     "data": {
      "text/plain": [
       "tensor(1.7966)"
      ]
     },
     "execution_count": 597,
     "metadata": {},
     "output_type": "execute_result"
    }
   ],
   "source": [
    "soft_rate(torch.tensor(0))"
   ]
  },
  {
   "cell_type": "code",
   "execution_count": 652,
   "id": "670b36df",
   "metadata": {},
   "outputs": [
    {
     "data": {
      "text/plain": [
       "tensor(8.5204)"
      ]
     },
     "execution_count": 652,
     "metadata": {},
     "output_type": "execute_result"
    }
   ],
   "source": [
    "soft_rate(torch.tensor(1))"
   ]
  },
  {
   "cell_type": "code",
   "execution_count": 651,
   "id": "6f2c8f5c",
   "metadata": {},
   "outputs": [
    {
     "data": {
      "image/png": "[encoded data removed]",
      "text/plain": [
       "<Figure size 432x288 with 1 Axes>"
      ]
     },
     "metadata": {
      "needs_background": "light"
     },
     "output_type": "display_data"
    },
    {
     "name": "stdout",
     "output_type": "stream",
     "text": [
      "tensor(1.7966) tensor(0.)\n",
      "tensor(1.8085) tensor(1.1476e-06)\n",
      "tensor(1.8293) tensor(1.3494e-07)\n",
      "tensor(1.9196) tensor(4.6353e-07)\n",
      "tensor(2.8770) tensor(2.6934e-05)\n",
      "tensor(34.8283) tensor(2.8677e-05)\n",
      "tensor(192.0247) tensor(3.0897e-05)\n",
      "tensor(237.3213) tensor(7.8393e-05)\n",
      "tensor(239.6511) tensor(0.)\n",
      "tensor(239.7480) tensor(4.5799e-05)\n",
      "tensor([239.7481, 239.7481, 239.7481, 239.7481, 239.7481, 239.7481, 239.7481,\n",
      "        239.7481, 239.7481, 239.7481, 239.7481, 239.7481, 239.7481, 239.7481,\n",
      "        239.7481, 239.7481, 239.7481, 239.7481, 239.7481, 239.7481, 239.7481,\n",
      "        239.7481, 239.7481, 239.7481, 239.7481, 239.7481, 239.7481, 239.7481,\n",
      "        239.7481, 239.7481, 239.7481, 239.7481, 239.7481, 239.7481, 239.7481,\n",
      "        239.7481, 239.7481, 239.7481, 239.7481, 239.7481, 239.7481, 239.7481,\n",
      "        239.7481, 239.7481, 239.7481, 239.7481, 239.7481, 239.7481, 239.7481,\n",
      "        239.7481, 239.7481, 239.7481, 239.7481, 239.7481, 239.7481, 239.7481,\n",
      "        239.7481, 239.7481, 239.7481, 239.7481, 239.7481, 239.7481, 239.7481,\n",
      "        239.7481, 239.7481, 239.7481, 239.7481, 239.7481, 239.7481, 239.7481,\n",
      "        239.7481, 239.7481, 239.7481, 239.7481, 239.7481, 239.7481, 239.7481,\n",
      "        239.7481, 239.7481, 239.7481, 239.7481, 239.7481, 239.7481, 239.7481,\n",
      "        239.7481, 239.7481, 239.7481, 239.7481, 239.7481, 239.7481, 239.7481,\n",
      "        239.7481, 239.7481, 239.7481, 239.7481, 239.7481, 239.7481, 239.7481,\n",
      "        239.7481, 239.7481, 239.7481, 239.7481, 239.7481, 239.7481, 239.7481,\n",
      "        239.7481, 239.7481, 239.7481, 239.7481, 239.7481, 239.7481, 239.7481,\n",
      "        239.7481, 239.7481, 239.7481, 239.7481, 239.7481, 239.7481, 239.7481,\n",
      "        239.7481, 239.7481, 239.7481, 239.7481, 239.7481, 239.7481, 239.7481,\n",
      "        239.7481, 239.7481, 239.7481, 239.7481, 239.7481, 239.7481, 239.7481,\n",
      "        239.7481, 239.7481, 239.7481, 239.7481, 239.7481, 239.7481, 239.7481,\n",
      "        239.7481, 239.7481, 239.7481, 239.7481, 239.7481, 239.7481, 239.7481,\n",
      "        239.7481, 239.7481, 239.7481, 239.7481, 239.7481, 239.7481, 239.7481,\n",
      "        239.7481, 239.7481, 239.7481, 239.7481, 239.7481, 239.7481, 239.7481,\n",
      "        239.7481, 239.7481, 239.7481, 239.7481, 239.7481, 239.7481, 239.7481,\n",
      "        239.7481, 239.7481, 239.7481, 239.7481, 239.7481, 239.7481, 239.7481,\n",
      "        239.7481, 239.7481, 239.7481, 239.7481, 239.7481, 239.7481, 239.7481,\n",
      "        239.7481, 239.7481, 239.7481, 239.7481, 239.7481, 239.7481, 239.7481,\n",
      "        239.7481, 239.7481, 239.7481, 239.7481, 239.7481, 239.7481, 239.7481,\n",
      "        239.7481, 239.7481, 239.7481, 239.7481, 239.7481, 239.7481, 239.7481,\n",
      "        239.7481, 239.7481, 239.7481, 239.7481, 239.7481, 239.7481, 239.7481,\n",
      "        239.7481, 239.7481, 239.7481, 239.7481, 239.7481, 239.7481, 239.7481,\n",
      "        239.7481, 239.7481, 239.7481, 239.7481, 239.7481, 239.7481, 239.7481,\n",
      "        239.7481, 239.7481, 239.7481, 239.7481, 239.7481, 239.7481, 239.7481,\n",
      "        239.7481, 239.7481, 239.7481, 239.7481, 239.7481, 239.7481, 239.7481,\n",
      "        239.7481, 239.7481, 239.7481, 239.7481, 239.7481, 239.7481, 239.7481,\n",
      "        239.7481, 239.7481, 239.7481, 239.7481, 239.7481, 239.7481, 239.7481,\n",
      "        239.7481, 239.7481, 239.7481, 239.7481, 239.7481, 239.7481, 239.7481,\n",
      "        239.7481, 239.7481, 239.7481, 239.7481, 239.7481, 239.7481, 239.7481,\n",
      "        239.7481, 239.7481, 239.7481, 239.7481, 239.7481, 239.7481, 239.7481,\n",
      "        239.7481, 239.7481, 239.7481, 239.7481, 239.7481, 239.7481, 239.7481,\n",
      "        239.7481, 239.7481, 239.7481, 239.7481, 239.7481, 239.7481, 239.7481,\n",
      "        239.7481, 239.7481, 239.7481, 239.7481, 239.7481, 239.7481, 239.7481,\n",
      "        239.7481, 239.7481, 239.7481, 239.7481, 239.7481, 239.7481, 239.7481,\n",
      "        239.7481, 239.7481, 239.7481, 239.7481, 239.7481, 239.7481, 239.7481,\n",
      "        239.7481, 239.7481, 239.7481, 239.7481, 239.7481, 239.7481, 239.7481,\n",
      "        239.7481, 239.7481, 239.7481, 239.7481, 239.7481, 239.7481, 239.7481,\n",
      "        239.7481, 239.7481, 239.7481, 239.7481, 239.7481, 239.7481, 239.7481,\n",
      "        239.7481, 239.7481, 239.7481, 239.7481, 239.7481, 239.7481, 239.7481,\n",
      "        239.7481, 239.7481, 239.7481, 239.7481, 239.7481, 239.7481, 239.7481,\n",
      "        239.7481, 239.7481, 239.7481, 239.7481, 239.7481, 239.7481, 239.7481,\n",
      "        239.7481, 239.7481, 239.7481, 239.7481, 239.7481, 239.7481, 239.7481,\n",
      "        239.7481, 239.7481, 239.7481, 239.7481, 239.7481, 239.7481, 239.7481,\n",
      "        239.7481, 239.7481, 239.7481, 239.7481, 239.7481, 239.7481, 239.7481,\n",
      "        239.7481, 239.7481, 239.7481, 239.7481, 239.7481, 239.7481, 239.7481,\n",
      "        239.7481, 239.7481, 239.7481, 239.7481, 239.7481, 239.7481, 239.7481,\n",
      "        239.7481, 239.7481, 239.7481, 239.7481, 239.7481, 239.7481, 239.7481,\n",
      "        239.7481, 239.7481, 239.7481, 239.7481, 239.7481, 239.7481, 239.7481,\n",
      "        239.7481, 239.7481, 239.7481, 239.7481, 239.7481, 239.7481, 239.7481,\n",
      "        239.7481, 239.7481, 239.7481, 239.7481, 239.7481, 239.7481, 239.7481,\n",
      "        239.7481, 239.7481, 239.7481, 239.7481, 239.7481, 239.7481, 239.7481,\n",
      "        239.7481, 239.7481, 239.7481, 239.7481, 239.7481, 239.7481, 239.7481,\n",
      "        239.7481, 239.7481, 239.7481, 239.7481, 239.7481, 239.7481, 239.7481,\n",
      "        239.7481, 239.7481, 239.7481, 239.7481, 239.7481, 239.7481, 239.7481,\n",
      "        239.7481, 239.7481, 239.7481, 239.7481, 239.7481, 239.7481, 239.7481,\n",
      "        239.7481, 239.7481, 239.7481, 239.7481, 239.7481, 239.7481, 239.7481,\n",
      "        239.7481, 239.7481, 239.7481, 239.7481, 239.7481, 239.7481, 239.7481,\n",
      "        239.7481, 239.7481, 239.7481, 239.7481, 239.7481, 239.7481, 239.7481,\n",
      "        239.7481, 239.7481, 239.7481, 239.7481, 239.7481, 239.7481, 239.7481,\n",
      "        239.7481, 239.7481, 239.7481, 239.7481, 239.7481, 239.7481, 239.7481,\n",
      "        239.7481, 239.7481, 239.7481, 239.7481, 239.7481, 239.7481, 239.7481,\n",
      "        239.7481, 239.7481, 239.7481, 239.7481, 239.7481, 239.7481, 239.7481,\n",
      "        239.7481, 239.7481, 239.7481, 239.7481, 239.7481, 239.7481, 239.7481,\n",
      "        239.7481, 239.7481, 239.7481, 239.7481, 239.7481, 239.7481, 239.7481,\n",
      "        239.7481, 239.7481, 239.7481, 239.7481, 239.7481, 239.7481, 239.7481,\n",
      "        239.7481, 239.7481, 239.7481, 239.7481, 239.7481, 239.7481, 239.7481,\n",
      "        239.7481, 239.7481, 239.7481, 239.7481, 239.7481, 239.7481, 239.7481,\n",
      "        239.7481, 239.7481, 239.7481, 239.7481, 239.7481, 239.7481, 239.7481,\n",
      "        239.7481, 239.7481, 239.7481, 239.7481, 239.7481, 239.7481, 239.7481,\n",
      "        239.7481, 239.7481, 239.7481, 239.7481, 239.7481, 239.7481, 239.7481,\n",
      "        239.7481, 239.7481, 239.7481, 239.7481, 239.7481, 239.7481, 239.7481,\n",
      "        239.7481, 239.7481, 239.7481, 239.7481, 239.7481, 239.7481, 239.7481,\n",
      "        239.7481, 239.7481, 239.7481, 239.7481, 239.7481, 239.7481, 239.7481,\n",
      "        239.7481, 239.7481, 239.7481, 239.7481, 239.7481, 239.7481, 239.7481,\n",
      "        239.7481, 239.7481, 239.7481, 239.7481, 239.7481, 239.7481, 239.7481,\n",
      "        239.7481, 239.7481, 239.7481, 239.7481, 239.7481, 239.7481, 239.7481,\n",
      "        239.7481, 239.7481, 239.7481, 239.7481, 239.7481, 239.7481, 239.7481,\n",
      "        239.7481, 239.7481, 239.7481, 239.7481, 239.7481, 239.7481, 239.7481,\n",
      "        239.7481, 239.7481, 239.7481, 239.7481, 239.7481, 239.7481, 239.7481,\n",
      "        239.7481, 239.7481, 239.7481, 239.7481, 239.7481, 239.7481, 239.7481,\n",
      "        239.7481, 239.7481, 239.7481, 239.7481, 239.7481, 239.7481, 239.7481,\n",
      "        239.7481, 239.7481, 239.7481, 239.7481, 239.7481, 239.7481, 239.7481,\n",
      "        239.7481, 239.7481, 239.7481, 239.7481, 239.7481, 239.7481, 239.7481,\n",
      "        239.7481, 239.7481, 239.7481, 239.7481, 239.7481, 239.7481, 239.7481,\n",
      "        239.7481, 239.7481, 239.7481, 239.7481, 239.7481, 239.7481, 239.7481,\n",
      "        239.7481, 239.7481, 239.7481, 239.7481, 239.7481, 239.7481, 239.7481,\n",
      "        239.7481, 239.7481, 239.7481, 239.7481, 239.7481, 239.7481, 239.7481,\n",
      "        239.7481, 239.7481, 239.7481, 239.7481, 239.7481, 239.7481, 239.7481,\n",
      "        239.7481, 239.7481, 239.7481, 239.7481, 239.7481, 239.7481, 239.7481,\n",
      "        239.7481, 239.7481, 239.7481, 239.7481, 239.7481, 239.7481, 239.7481,\n",
      "        239.7481, 239.7481, 239.7481, 239.7481, 239.7481, 239.7481, 239.7481,\n",
      "        239.7481, 239.7481, 239.7481, 239.7481, 239.7481, 239.7481, 239.7481,\n",
      "        239.7481, 239.7481, 239.7481, 239.7481, 239.7481, 239.7481, 239.7481,\n",
      "        239.7481, 239.7481, 239.7481, 239.7481, 239.7481, 239.7481, 239.7481,\n",
      "        239.7481, 239.7481, 239.7481, 239.7481, 239.7481, 239.7481, 239.7481,\n",
      "        239.7481, 239.7481, 239.7481, 239.7481, 239.7481, 239.7481, 239.7481,\n",
      "        239.7481, 239.7481, 239.7481, 239.7481, 239.7481, 239.7481, 239.7481,\n",
      "        239.7481, 239.7481, 239.7481, 239.7481, 239.7481, 239.7481, 239.7481,\n",
      "        239.7481, 239.7481, 239.7481, 239.7481, 239.7481, 239.7481, 239.7481,\n",
      "        239.7481, 239.7481, 239.7481, 239.7481, 239.7481, 239.7481, 239.7481,\n",
      "        239.7481, 239.7481, 239.7481, 239.7481, 239.7481, 239.7481, 239.7481,\n",
      "        239.7481, 239.7481, 239.7481, 239.7481, 239.7481, 239.7481, 239.7481,\n",
      "        239.7481, 239.7481, 239.7481, 239.7481, 239.7481, 239.7481, 239.7481,\n",
      "        239.7481, 239.7481, 239.7481, 239.7481, 239.7481, 239.7481, 239.7481,\n",
      "        239.7481, 239.7481, 239.7481, 239.7481, 239.7481, 239.7481, 239.7481,\n",
      "        239.7481, 239.7481, 239.7481, 239.7481, 239.7481, 239.7481, 239.7481,\n",
      "        239.7481, 239.7481, 239.7481, 239.7481, 239.7481, 239.7481, 239.7481,\n",
      "        239.7481, 239.7481, 239.7481, 239.7481, 239.7481, 239.7481, 239.7481,\n",
      "        239.7481, 239.7481, 239.7481, 239.7481, 239.7481, 239.7481, 239.7481,\n",
      "        239.7481, 239.7481, 239.7481, 239.7481, 239.7481, 239.7481, 239.7481,\n",
      "        239.7481, 239.7481, 239.7481, 239.7481, 239.7481, 239.7481, 239.7481,\n",
      "        239.7481, 239.7481, 239.7481, 239.7481, 239.7481, 239.7481, 239.7481,\n",
      "        239.7481, 239.7481, 239.7481, 239.7481, 239.7481, 239.7481, 239.7481,\n",
      "        239.7481, 239.7481, 239.7481, 239.7481, 239.7481, 239.7481, 239.7481,\n",
      "        239.7481, 239.7481, 239.7481, 239.7481, 239.7481, 239.7481, 239.7481,\n",
      "        239.7481, 239.7481, 239.7481, 239.7481, 239.7481, 239.7481, 239.7481,\n",
      "        239.7481, 239.7481, 239.7481, 239.7481, 239.7481, 239.7481, 239.7481,\n",
      "        239.7481, 239.7481, 239.7481, 239.7481, 239.7481, 239.7481, 239.7481,\n",
      "        239.7481, 239.7481, 239.7481, 239.7481, 239.7481, 239.7481, 239.7481,\n",
      "        239.7481, 239.7481, 239.7481, 239.7481, 239.7481, 239.7481, 239.7481,\n",
      "        239.7481, 239.7481, 239.7481, 239.7481, 239.7481, 239.7481, 239.7481,\n",
      "        239.7481, 239.7481, 239.7481, 239.7481, 239.7481, 239.7481, 239.7481,\n",
      "        239.7481, 239.7481, 239.7481, 239.7481, 239.7481, 239.7481, 239.7481,\n",
      "        239.7481, 239.7481, 239.7481, 239.7481, 239.7481, 239.7481, 239.7481,\n",
      "        239.7481, 239.7481, 239.7481, 239.7481, 239.7481, 239.7481, 239.7481,\n",
      "        239.7481, 239.7481, 239.7481, 239.7481, 239.7481, 239.7481, 239.7481,\n",
      "        239.7481, 239.7481, 239.7481, 239.7481, 239.7481, 239.7481, 239.7481,\n",
      "        239.7481, 239.7481, 239.7481, 239.7481, 239.7481, 239.7481, 239.7481,\n",
      "        239.7481, 239.7481, 239.7481, 239.7481, 239.7481, 239.7481, 239.7481,\n",
      "        239.7481, 239.7481, 239.7481, 239.7481, 239.7481, 239.7481, 239.7481,\n",
      "        239.7481, 239.7481, 239.7481, 239.7481, 239.7481, 239.7481, 239.7481,\n",
      "        239.7481, 239.7481, 239.7481, 239.7481, 239.7481, 239.7481, 239.7481,\n",
      "        239.7481, 239.7481, 239.7481, 239.7481, 239.7481, 239.7481, 239.7481,\n",
      "        239.7481, 239.7481, 239.7481, 239.7481, 239.7481, 239.7481])\n"
     ]
    }
   ],
   "source": [
    "xs = torch.linspace(0.75, 0.9, 1000)\n",
    "ys = ((soft_rate(soft_rate(xs)) - soft_rate(xs)) ** 2)\n",
    "\n",
    "plt.plot(xs, ys)\n",
    "plt.show()\n",
    "\n",
    "\n",
    "n = 1000\n",
    "w = torch.randn(n, n) * 0 + 0.49/n\n",
    "a = torch.randn(n)\n",
    "for i in range(10):\n",
    "  a = soft_rate(a @ w)\n",
    "  print(a.mean(), a.std())\n",
    "  \n",
    "print(a)"
   ]
  },
  {
   "cell_type": "code",
   "execution_count": 382,
   "id": "1f1309a2",
   "metadata": {},
   "outputs": [
    {
     "data": {
      "text/plain": [
       "tensor(0.0072, grad_fn=<MaxBackward1>)"
      ]
     },
     "execution_count": 382,
     "metadata": {},
     "output_type": "execute_result"
    }
   ],
   "source": [
    "torch.random.randn()\n",
    "\n",
    "\n",
    "\n",
    "test_model = nn.Sequential(\n",
    "  SpikingConv2d(1, 10, 3),\n",
    "  SpikingConv2d(10, 10, 3)\n",
    ")\n",
    "\n",
    "test_model(image[None, :]).max()"
   ]
  },
  {
   "cell_type": "code",
   "execution_count": 500,
   "id": "5438de54",
   "metadata": {},
   "outputs": [],
   "source": [
    "loss_history = []\n",
    "num_epochs = 1"
   ]
  },
  {
   "cell_type": "code",
   "execution_count": 618,
   "id": "3f7eddfc",
   "metadata": {},
   "outputs": [
    {
     "name": "stderr",
     "output_type": "stream",
     "text": [
      "Training - Epoch: 1, Loss: 2.3108: 100%|██████████| 235/235 [00:42<00:00,  5.55it/s]\n",
      "Testing...: 100%|██████████| 40/40 [00:05<00:00,  6.75it/s]\n"
     ]
    },
    {
     "name": "stdout",
     "output_type": "stream",
     "text": [
      "Accuracy: 9.80%\n"
     ]
    },
    {
     "data": {
      "image/png": "[encoded data removed]",
      "text/plain": [
       "<Figure size 432x288 with 1 Axes>"
      ]
     },
     "metadata": {
      "needs_background": "light"
     },
     "output_type": "display_data"
    }
   ],
   "source": [
    "for epoch in range(num_epochs):\n",
    "  # Train\n",
    "  model.train()\n",
    "  train_data_tqdm = tqdm(train_data)\n",
    "  for i, (images, labels) in enumerate(train_data_tqdm):\n",
    "    images, labels = images.to(device), labels.to(device)\n",
    "    optimizer.zero_grad()\n",
    "\n",
    "    #images = images.view(-1, 32*32)\n",
    "    preds = model(images)\n",
    "    loss = criterion(preds, labels)\n",
    "    loss_history.append(loss.item())\n",
    "    loss.backward()\n",
    "    optimizer.step()\n",
    "    #if i % 10 == 0:\n",
    "    train_data_tqdm.set_description(\"Training - Epoch: {}, Loss: {:.4f}\".format(epoch + 1, loss.item()))\n",
    "  \n",
    "  # Test\n",
    "  model.eval()\n",
    "  test_data_tqdm = tqdm(test_data)\n",
    "  test_data_tqdm.set_description(\"Testing...\")\n",
    "  num_correct = 0\n",
    "  for (images, labels) in test_data_tqdm:\n",
    "    images, labels = images.to(device), labels.to(device)\n",
    "    pred_labels = model(images).argmax(dim=1)\n",
    "    num_correct += torch.sum(pred_labels == labels).item()\n",
    "    \n",
    "  accuracy = num_correct / len(test_dataset) * 100\n",
    "  print(f\"Accuracy: {accuracy:.2f}%\")\n",
    "\n",
    "plt.plot(loss_history)\n",
    "plt.show()"
   ]
  },
  {
   "cell_type": "markdown",
   "id": "77fa00dd",
   "metadata": {},
   "source": [
    "# Alpha filter"
   ]
  },
  {
   "cell_type": "code",
   "execution_count": 58,
   "id": "f4e42ada",
   "metadata": {},
   "outputs": [
    {
     "data": {
      "image/png": "[encoded data removed]",
      "text/plain": [
       "<Figure size 1440x720 with 10 Axes>"
      ]
     },
     "metadata": {
      "needs_background": "light"
     },
     "output_type": "display_data"
    }
   ],
   "source": [
    "rows = 2\n",
    "cols = 5\n",
    "fig, axs = plt.subplots(rows, cols, figsize=(20, 10))\n",
    "\n",
    "for row in range(rows):\n",
    "  for col in range(cols):\n",
    "    image, label = train_dataset[row * cols + col]\n",
    "    out = model(image[None, :].to(device))\n",
    "\n",
    "    axs[row][col].set_title(\"Label: {} Predicted: {}\".format(label, out.argmax().item()))\n",
    "    axs[row][col].imshow(image[0], cmap=\"gray\")"
   ]
  },
  {
   "cell_type": "code",
   "execution_count": 525,
   "id": "e170af40",
   "metadata": {},
   "outputs": [],
   "source": [
    "def alpha_filter(t, t_s=0.003):\n",
    "  return t / t_s * torch.exp(-t/t_s)"
   ]
  },
  {
   "cell_type": "code",
   "execution_count": 281,
   "id": "45a59b82",
   "metadata": {},
   "outputs": [
    {
     "data": {
      "image/png": "[encoded data removed]",
      "text/plain": [
       "<Figure size 432x288 with 1 Axes>"
      ]
     },
     "metadata": {
      "needs_background": "light"
     },
     "output_type": "display_data"
    }
   ],
   "source": [
    "input_current = torch.linspace(0.0, 10, 100)\n",
    "response = soft_rate(input_current)\n",
    "\n",
    "secs = 1\n",
    "dt = 1e-4\n",
    "steps = int(secs / dt)\n",
    "v = torch.zeros(100)\n",
    "timeouts = torch.zeros(100)\n",
    "vs = []\n",
    "spikes = torch.zeros(steps, 100)\n",
    "for i in range(steps):\n",
    "  timeouts[timeouts > 0] -= dt\n",
    "  dv = (-v + input_current) / T_RC\n",
    "  v[timeouts <= 0] += dt * dv[timeouts <= 0]\n",
    "\n",
    "  # Reset spikes\n",
    "  spikes[i, v > 1] = 1\n",
    "  timeouts[v > 1] = T_REF\n",
    "  v[v > 1] = 0\n",
    "  \n",
    "  vs.append(v.clone())\n",
    "\n",
    "vs = torch.stack(vs)\n",
    "plt.plot(input_current, response)\n",
    "plt.plot(input_current, spikes.sum(dim=0))\n",
    "plt.show()"
   ]
  },
  {
   "cell_type": "code",
   "execution_count": 405,
   "id": "63baa32f",
   "metadata": {},
   "outputs": [],
   "source": [
    "loss =  criterion(out, torch.tensor([3]))"
   ]
  },
  {
   "cell_type": "code",
   "execution_count": 406,
   "id": "a395729a",
   "metadata": {},
   "outputs": [],
   "source": [
    "loss.backward()"
   ]
  },
  {
   "cell_type": "code",
   "execution_count": 407,
   "id": "bfd0cfcd",
   "metadata": {},
   "outputs": [
    {
     "ename": "AttributeError",
     "evalue": "'Linear' object has no attribute 'A'",
     "output_type": "error",
     "traceback": [
      "\u001b[0;31m---------------------------------------------------------------------------\u001b[0m",
      "\u001b[0;31mAttributeError\u001b[0m                            Traceback (most recent call last)",
      "\u001b[0;32m/var/folders/vs/ylfhyw117z1g5xvn55z8jr3c0000gp/T/ipykernel_88703/3076757862.py\u001b[0m in \u001b[0;36m<module>\u001b[0;34m\u001b[0m\n\u001b[0;32m----> 1\u001b[0;31m \u001b[0mmodel\u001b[0m\u001b[0;34m.\u001b[0m\u001b[0mmodel\u001b[0m\u001b[0;34m[\u001b[0m\u001b[0;34m-\u001b[0m\u001b[0;36m2\u001b[0m\u001b[0;34m]\u001b[0m\u001b[0;34m.\u001b[0m\u001b[0mA\u001b[0m\u001b[0;34m.\u001b[0m\u001b[0mgrad\u001b[0m\u001b[0;34m\u001b[0m\u001b[0;34m\u001b[0m\u001b[0m\n\u001b[0m",
      "\u001b[0;32m/opt/homebrew/Caskroom/miniforge/base/envs/bachelor-project/lib/python3.9/site-packages/torch/nn/modules/module.py\u001b[0m in \u001b[0;36m__getattr__\u001b[0;34m(self, name)\u001b[0m\n\u001b[1;32m   1175\u001b[0m             \u001b[0;32mif\u001b[0m \u001b[0mname\u001b[0m \u001b[0;32min\u001b[0m \u001b[0mmodules\u001b[0m\u001b[0;34m:\u001b[0m\u001b[0;34m\u001b[0m\u001b[0;34m\u001b[0m\u001b[0m\n\u001b[1;32m   1176\u001b[0m                 \u001b[0;32mreturn\u001b[0m \u001b[0mmodules\u001b[0m\u001b[0;34m[\u001b[0m\u001b[0mname\u001b[0m\u001b[0;34m]\u001b[0m\u001b[0;34m\u001b[0m\u001b[0;34m\u001b[0m\u001b[0m\n\u001b[0;32m-> 1177\u001b[0;31m         raise AttributeError(\"'{}' object has no attribute '{}'\".format(\n\u001b[0m\u001b[1;32m   1178\u001b[0m             type(self).__name__, name))\n\u001b[1;32m   1179\u001b[0m \u001b[0;34m\u001b[0m\u001b[0m\n",
      "\u001b[0;31mAttributeError\u001b[0m: 'Linear' object has no attribute 'A'"
     ]
    }
   ],
   "source": [
    "model.model[-2].A.grad"
   ]
  },
  {
   "cell_type": "code",
   "execution_count": 475,
   "id": "4b100413",
   "metadata": {},
   "outputs": [
    {
     "ename": "TypeError",
     "evalue": "softmax() received an invalid combination of arguments - got (Tensor), but expected one of:\n * (Tensor input, int dim, torch.dtype dtype)\n * (Tensor input, name dim, *, torch.dtype dtype)\n",
     "output_type": "error",
     "traceback": [
      "\u001b[0;31m---------------------------------------------------------------------------\u001b[0m",
      "\u001b[0;31mTypeError\u001b[0m                                 Traceback (most recent call last)",
      "\u001b[0;32m/var/folders/vs/ylfhyw117z1g5xvn55z8jr3c0000gp/T/ipykernel_88703/2741628947.py\u001b[0m in \u001b[0;36m<module>\u001b[0;34m\u001b[0m\n\u001b[0;32m----> 1\u001b[0;31m \u001b[0mtorch\u001b[0m\u001b[0;34m.\u001b[0m\u001b[0msoftmax\u001b[0m\u001b[0;34m(\u001b[0m\u001b[0mSpikeLayer\u001b[0m\u001b[0;34m(\u001b[0m\u001b[0;36m256\u001b[0m\u001b[0;34m,\u001b[0m \u001b[0;36m10\u001b[0m\u001b[0;34m)\u001b[0m\u001b[0;34m(\u001b[0m\u001b[0mSpikeLayer\u001b[0m\u001b[0;34m(\u001b[0m\u001b[0;36m32\u001b[0m\u001b[0;34m*\u001b[0m\u001b[0;36m32\u001b[0m\u001b[0;34m,\u001b[0m \u001b[0;36m256\u001b[0m\u001b[0;34m)\u001b[0m\u001b[0;34m(\u001b[0m\u001b[0mimage\u001b[0m\u001b[0;34m.\u001b[0m\u001b[0mview\u001b[0m\u001b[0;34m(\u001b[0m\u001b[0;34m-\u001b[0m\u001b[0;36m1\u001b[0m\u001b[0;34m,\u001b[0m \u001b[0;36m32\u001b[0m\u001b[0;34m*\u001b[0m\u001b[0;36m32\u001b[0m\u001b[0;34m)\u001b[0m\u001b[0;34m)\u001b[0m\u001b[0;34m)\u001b[0m\u001b[0;34m)\u001b[0m\u001b[0;34m\u001b[0m\u001b[0;34m\u001b[0m\u001b[0m\n\u001b[0m",
      "\u001b[0;31mTypeError\u001b[0m: softmax() received an invalid combination of arguments - got (Tensor), but expected one of:\n * (Tensor input, int dim, torch.dtype dtype)\n * (Tensor input, name dim, *, torch.dtype dtype)\n"
     ]
    }
   ],
   "source": [
    "torch.softmax(SpikeLayer(256, 10)(SpikeLayer(32*32, 256)(image.view(-1, 32*32))))"
   ]
  },
  {
   "cell_type": "code",
   "execution_count": null,
   "id": "7dfc67df",
   "metadata": {},
   "outputs": [],
   "source": []
  }
 ],
 "metadata": {
  "kernelspec": {
   "display_name": "Python 3",
   "language": "python",
   "name": "python3"
  },
  "language_info": {
   "codemirror_mode": {
    "name": "ipython",
    "version": 3
   },
   "file_extension": ".py",
   "mimetype": "text/x-python",
   "name": "python",
   "nbconvert_exporter": "python",
   "pygments_lexer": "ipython3",
   "version": "3.7.10"
  }
 },
 "nbformat": 4,
 "nbformat_minor": 5
}

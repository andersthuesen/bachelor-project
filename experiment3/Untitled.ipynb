{
 "cells": [
  {
   "cell_type": "code",
   "execution_count": 3,
   "source": [
    "import numpy as np\n",
    "import matplotlib.pyplot as plt"
   ],
   "outputs": [],
   "metadata": {}
  },
  {
   "cell_type": "code",
   "execution_count": 13,
   "source": [
    "dt = 0.1\n",
    "input_spike_times = [4, 4.2]\n",
    "\n",
    "rest = 0.2\n",
    "a = rest\n",
    "spike = 1\n",
    "\n",
    "\n",
    "activity = []\n",
    "\n",
    "output_spikes = []\n",
    "\n",
    "rp = 0\n",
    "\n",
    "for s in range(1000):\n",
    "  t = dt * s\n",
    "  i = sum([spike if t - dt / 2 < spike_time <= t else 0 for spike_time in input_spike_times])\n",
    "  da = (-(a - rest) + i) * dt\n",
    "  a += da # Add delta to a\n",
    "\n",
    "  if a > 0.25 and s > rp:\n",
    "    output_spikes.append(t)\n",
    "    rp = s + 10 # Add refactory period\n",
    "  \n",
    "  activity.append(a)\n"
   ],
   "outputs": [],
   "metadata": {}
  },
  {
   "cell_type": "code",
   "execution_count": 14,
   "source": [
    "plt.plot(activity)\n",
    "plt.show()"
   ],
   "outputs": [
    {
     "output_type": "display_data",
     "data": {
      "image/png": "[encoded data removed]",
      "text/plain": [
       "<Figure size 432x288 with 1 Axes>"
      ]
     },
     "metadata": {
      "needs_background": "light"
     }
    }
   ],
   "metadata": {}
  },
  {
   "cell_type": "code",
   "execution_count": 15,
   "source": [
    "print(output_spikes)"
   ],
   "outputs": [
    {
     "output_type": "stream",
     "name": "stdout",
     "text": [
      "[4.0]\n"
     ]
    }
   ],
   "metadata": {}
  },
  {
   "cell_type": "code",
   "execution_count": null,
   "source": [],
   "outputs": [],
   "metadata": {}
  }
 ],
 "metadata": {
  "language_info": {
   "name": "python",
   "version": "3.7.7",
   "mimetype": "text/x-python",
   "codemirror_mode": {
    "name": "ipython",
    "version": 3
   },
   "pygments_lexer": "ipython3",
   "nbconvert_exporter": "python",
   "file_extension": ".py"
  },
  "kernelspec": {
   "name": "python3",
   "display_name": "Python 3.7.7 64-bit ('base': conda)"
  },
  "interpreter": {
   "hash": "43ce0724b3a18fdf5856da5369161a6b1a2aa643631281f8ae73b676c6686f62"
  }
 },
 "nbformat": 4,
 "nbformat_minor": 4
}
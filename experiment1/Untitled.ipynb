{
 "cells": [
  {
   "cell_type": "code",
   "execution_count": 199,
   "source": [
    "import torch\n",
    "import torch.nn.functional as F\n",
    "import torchvision.transforms as transforms\n",
    "from torch.utils.data import DataLoader\n",
    "from tqdm.notebook import tqdm\n",
    "import matplotlib.pyplot as plt\n",
    "import torch.optim as optim\n",
    "from torchvision.datasets import MNIST\n",
    "import torch.nn as nn\n",
    "import numpy as np"
   ],
   "outputs": [],
   "metadata": {}
  },
  {
   "cell_type": "code",
   "execution_count": 180,
   "source": [
    "class Quadratic(nn.Module):\n",
    "    def __init__(self, in_features, out_features):\n",
    "        super().__init__()\n",
    "        self.W = nn.Parameter(torch.randn(in_features, in_features))\n",
    "        self.V = nn.Parameter(torch.zeros(in_features, out_features))\n",
    "        self.a = nn.Parameter(torch.randn(in_features))\n",
    "        self.b = nn.Parameter(torch.randn(out_features))\n",
    "\n",
    "    def forward(self, X):\n",
    "        return ((X @ self.W + self.a) * X) @ self.V + self.b \n",
    "\n",
    "        \"\"\"\n",
    "        x1 + x2 + x3 + x1 x1 + x1 x2 + x1 x3 + x2 x2 + x2 x3 + \n",
    "\n",
    "        [x1, x2, x3] * [x1, x2, x3] = x1*x1 + x2*x2 + x3*x3\n",
    "\n",
    "                        1 0 0              \n",
    "        x1, x2, x3 @    0 1 0     =   x1 x2 x3, \n",
    "                        0 0 1\n",
    "        \"\"\"\n",
    "        \n",
    "\n"
   ],
   "outputs": [],
   "metadata": {}
  },
  {
   "cell_type": "code",
   "execution_count": 153,
   "source": [
    "test = Quadratic(2, 10)\n",
    "X = torch.rand(2)\n",
    "print(X)\n",
    "Y = test.forward(X)\n",
    "print(Y)"
   ],
   "outputs": [
    {
     "output_type": "stream",
     "name": "stdout",
     "text": [
      "tensor([0.1019, 0.5213])\n",
      "tensor([-0.5282,  1.1606,  0.7398,  0.4755, -0.4698,  0.5464, -0.7789, -0.0791,\n",
      "        -0.4000,  0.4158], grad_fn=<AddBackward0>)\n"
     ]
    }
   ],
   "metadata": {}
  },
  {
   "cell_type": "code",
   "execution_count": 129,
   "source": [
    "class MyLinear(nn.Module):\n",
    "    def __init__(self, in_features, out_features):\n",
    "        super().__init__()\n",
    "        self.weight = nn.Parameter(torch.randn(in_features, out_features))\n",
    "        self.bias = nn.Parameter(torch.randn(out_features))\n",
    "\n",
    "    def forward(self, input):\n",
    "        return (input @ self.weight) + self.bias"
   ],
   "outputs": [],
   "metadata": {}
  },
  {
   "cell_type": "code",
   "execution_count": 177,
   "source": [
    "train_dataset = MNIST(\"data\", train=True, download=True, transform=transforms.ToTensor())\n",
    "test_dataset = MNIST(\"data\", train=False, download=True, transform=transforms.ToTensor())\n",
    "train_data = DataLoader(\n",
    "  dataset=train_dataset,\n",
    "  batch_size=32,\n",
    ")"
   ],
   "outputs": [],
   "metadata": {}
  },
  {
   "cell_type": "code",
   "execution_count": 221,
   "source": [
    "quadratic_model = nn.Sequential(\n",
    "  Quadratic(28 * 28, 512),\n",
    "  nn.ReLU(),\n",
    "  Quadratic(512, 128),\n",
    "  nn.ReLU(),\n",
    "  Quadratic(128, 10)\n",
    ")\n",
    "\n",
    "linear_model = nn.Sequential(\n",
    "  nn.Linear(28 * 28, 512 * 2),\n",
    "  nn.ReLU(),\n",
    "  nn.Linear(512 * 2 , 128 * 2),\n",
    "  nn.ReLU(),\n",
    "  nn.Linear(128 * 2, 10)\n",
    ")\n",
    "\n",
    "model = quadratic_model\n",
    "optimizer = optim.Adam(model.parameters(), lr=1e-4)\n",
    "criteria = nn.CrossEntropyLoss()\n",
    "\n",
    "loss_history = []\n",
    "\n",
    "num_epochs = 2\n",
    "for epoch in range(1, num_epochs + 1):\n",
    "    print(f\"Training epoch {epoch}.\")\n",
    "  \n",
    "    #tqdm_train_data = tqdm(train_data)\n",
    "    for (images, labels) in train_data:\n",
    "        images = images.reshape(-1, 28 * 28)\n",
    "        optimizer.zero_grad()\n",
    "        pred = model(images)\n",
    "\n",
    "        #print(pred.shape, pred)\n",
    "\n",
    "        #raise Exception(\"Hello world\")\n",
    "        loss = criteria(pred, labels)\n",
    "        \n",
    "        #print(loss.item())\n",
    "\n",
    "        loss.backward()\n",
    "        #print(loss.item())\n",
    "        loss_history.append(loss.item())\n",
    "        #tqdm_train_data.set_description(f\"Loss: {loss.item()}\")\n",
    "\n",
    "        optimizer.step()\n",
    "\n",
    "    plt.plot(loss_history)\n",
    "    plt.show()"
   ],
   "outputs": [
    {
     "output_type": "stream",
     "name": "stdout",
     "text": [
      "Training epoch 1.\n"
     ]
    },
    {
     "output_type": "display_data",
     "data": {
      "image/png": "[encoded data removed]",
      "text/plain": [
       "<Figure size 432x288 with 1 Axes>"
      ]
     },
     "metadata": {
      "needs_background": "light"
     }
    },
    {
     "output_type": "stream",
     "name": "stdout",
     "text": [
      "Training epoch 2.\n"
     ]
    },
    {
     "output_type": "display_data",
     "data": {
      "image/png": "[encoded data removed]",
      "text/plain": [
       "<Figure size 432x288 with 1 Axes>"
      ]
     },
     "metadata": {
      "needs_background": "light"
     }
    }
   ],
   "metadata": {}
  },
  {
   "cell_type": "code",
   "execution_count": 222,
   "source": [
    "num_correct = 0\n",
    "\n",
    "for (image, label) in test_dataset:\n",
    "  pred = model(image.reshape(1, 28 * 28))\n",
    "  pred_label = F.log_softmax(pred, dim=-1).argmax().item()\n",
    "  if pred_label == label:\n",
    "    num_correct += 1\n",
    "\n",
    "print(f\"Accuracy: {num_correct / len(test_dataset) * 100}%\")"
   ],
   "outputs": [
    {
     "output_type": "stream",
     "name": "stdout",
     "text": [
      "Accuracy: 95.42%\n"
     ]
    }
   ],
   "metadata": {}
  },
  {
   "cell_type": "code",
   "execution_count": null,
   "source": [],
   "outputs": [],
   "metadata": {}
  }
 ],
 "metadata": {
  "interpreter": {
   "hash": "43ce0724b3a18fdf5856da5369161a6b1a2aa643631281f8ae73b676c6686f62"
  },
  "kernelspec": {
   "name": "python3",
   "display_name": "Python 3.7.7 64-bit ('base': conda)"
  },
  "language_info": {
   "codemirror_mode": {
    "name": "ipython",
    "version": 3
   },
   "file_extension": ".py",
   "mimetype": "text/x-python",
   "name": "python",
   "nbconvert_exporter": "python",
   "pygments_lexer": "ipython3",
   "version": "3.7.7"
  }
 },
 "nbformat": 4,
 "nbformat_minor": 4
}